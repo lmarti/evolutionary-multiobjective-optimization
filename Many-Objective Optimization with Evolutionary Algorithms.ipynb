{
 "cells": [
  {
   "cell_type": "markdown",
   "metadata": {
    "nbpresent": {
     "id": "02df5358-3921-4111-9315-25df44ee6a53"
    }
   },
   "source": [
    "# Multi- and Many-Objective Optimization with \n",
    "# Evolutionary Algorithms"
   ]
  },
  {
   "cell_type": "markdown",
   "metadata": {
    "nbpresent": {
     "id": "5abaa188-a2ce-4b69-9979-dce7f7319480"
    }
   },
   "source": [
    "##  [Luis Martí](http://lmarti.com)"
   ]
  },
  {
   "cell_type": "markdown",
   "metadata": {
    "slideshow": {
     "slide_type": "skip"
    }
   },
   "source": [
    "## Preliminaries\n",
    "\n",
    "* This tutorial is _programmed_ as a [Jupyter](http://jupyter.org)/[IPython](https://ipython.org/) notebook.\n",
    "* See the `requirements.txt` file (of a cell bellow) for a list of required libraries.\n",
    "* **Feel free to try them and experiment on your own by running the notebook.**\n",
    "\n",
    "[![Open In Colab](https://colab.research.google.com/assets/colab-badge.svg)](https://colab.research.google.com/github/lmarti/evolutionary-multiobjective-optimization/blob/master/Many-Objective%20Optimization%20with%20Evolutionary%20Algorithms.ipynb)\n",
    "[![nbviewer](https://raw.githubusercontent.com/jupyter/design/master/logos/Badges/nbviewer_badge.svg)](https://nbviewer.jupyter.org/github/lmarti/evolutionary-multiobjective-optimization/blob/master/Many-Objective%20Optimization%20with%20Evolutionary%20Algorithms.ipynb)"
   ]
  },
  {
   "cell_type": "markdown",
   "metadata": {
    "slideshow": {
     "slide_type": "skip"
    }
   },
   "source": [
    "* If you are using [nbviewer](http://nbviewer.jupyter.org) you can change to slides mode by clicking on the icon:\n",
    "\n",
    "<br/>\n",
    "<div class=\"container-fluid\">\n",
    "  <div class=\"row\">\n",
    "      <div class=\"col-md-2\"><span/></div>\n",
    "      <div class=\"col-md-8\">\n",
    "      <div class='well well-sm'>\n",
    "              <img src='figs/view-as-slides.png'/>\n",
    "      </div>\n",
    "      </div>\n",
    "      <div class=\"col-md-2\" align='center'><span/></div>\n",
    "  </div>\n",
    "</div>"
   ]
  },
  {
   "cell_type": "markdown",
   "metadata": {
    "internals": {
     "slide_helper": "subslide_end",
     "slide_type": "subslide"
    },
    "nbpresent": {
     "id": "61b45744-b9fe-4f8d-9fb0-3e5e6a5d2fd0"
    },
    "slide_helper": "slide_end",
    "slideshow": {
     "slide_type": "slide"
    }
   },
   "source": [
    "# Context\n",
    "\n",
    "* Real-world problems that involve the optimization of *more than one objective* at the same time.\n",
    "* Actually, those with *many* objectives.\n",
    "* Evolutionary approaches to the problems.\n",
    "\n",
    "$\\renewcommand{\\set}[1]{\\mathcal{#1}}\\renewcommand{\\vec}[1]{\\boldsymbol{#1}}$"
   ]
  },
  {
   "cell_type": "markdown",
   "metadata": {
    "nbpresent": {
     "id": "1b3635f4-3f13-4c31-94b6-d7619c8cec31"
    },
    "slideshow": {
     "slide_type": "slide"
    }
   },
   "source": [
    "# In this talk\n",
    "* Multi-objective optimization problems (MOPs).\n",
    "* Multi-objective evolutionary algorithms (MOEAs/EMOAs).\n",
    "* Performance assessment and experimentation.\n",
    "* Many-objective problems and the need for better MOEAs.\n",
    "* Multi-objective estimation of distribution algorithms.\n",
    "* Experiment design and comparing results.\n",
    "* Salient issues and research directions."
   ]
  },
  {
   "cell_type": "code",
   "execution_count": null,
   "metadata": {
    "collapsed": true,
    "internals": {
     "slide_helper": "subslide_end"
    },
    "nbpresent": {
     "id": "4ea0bab4-8106-4527-a1c3-54a6b25ebb5f"
    },
    "notebookRunGroups": {
     "groupValue": "2"
    },
    "slide_helper": "slide_end",
    "slideshow": {
     "slide_type": "skip"
    }
   },
   "outputs": [],
   "source": [
    "# installing dependencies\n",
    "%pip -q install numpy pandas scikit-learn seaborn ipywidgets matplotlib deap"
   ]
  },
  {
   "cell_type": "code",
   "execution_count": null,
   "metadata": {
    "collapsed": true,
    "slideshow": {
     "slide_type": "skip"
    }
   },
   "outputs": [],
   "source": [
    "import array\n",
    "import copy\n",
    "import itertools\n",
    "import math\n",
    "import random\n",
    "\n",
    "import matplotlib as mpl\n",
    "import matplotlib.pyplot as plt\n",
    "import numpy as np\n",
    "import pandas as pd\n",
    "import seaborn\n",
    "from IPython.display import HTML\n",
    "from matplotlib import animation"
   ]
  },
  {
   "cell_type": "code",
   "execution_count": null,
   "metadata": {
    "collapsed": true,
    "slideshow": {
     "slide_type": "skip"
    }
   },
   "outputs": [],
   "source": [
    "%matplotlib inline\n",
    "%config InlineBackend.figure_format = 'retina'\n",
    "\n",
    "seaborn.set(style=\"whitegrid\")\n",
    "seaborn.set_context(\"talk\")"
   ]
  },
  {
   "cell_type": "code",
   "execution_count": null,
   "metadata": {
    "collapsed": true,
    "slideshow": {
     "slide_type": "skip"
    }
   },
   "outputs": [],
   "source": [
    "markers = [\"o\", \"^\", \"s\", \"D\", \"v\", \"h\", \"p\"]"
   ]
  },
  {
   "cell_type": "code",
   "execution_count": null,
   "metadata": {
    "collapsed": true,
    "slideshow": {
     "slide_type": "skip"
    }
   },
   "outputs": [],
   "source": [
    "# tikzmagic extesion for figures - https://github.com/mkrphys/ipython-tikzmagic\n",
    "# %load_ext tikzmagic"
   ]
  },
  {
   "cell_type": "markdown",
   "metadata": {
    "collapsed": true,
    "slideshow": {
     "slide_type": "slide"
    }
   },
   "source": [
    "# How do you buy a car?"
   ]
  },
  {
   "cell_type": "markdown",
   "metadata": {
    "slideshow": {
     "slide_type": "slide"
    }
   },
   "source": [
    "# How to buy a car - *the computer scientist way*\n",
    "\n",
    "1. Get the specs of all cars available in the market.\n",
    "* Disregard those that do not meet our requirements or constraints.\n",
    "* Search for suitable alternatives.\n",
    "* Make a decision, according to our interests, of what car is the best."
   ]
  },
  {
   "cell_type": "markdown",
   "metadata": {
    "slideshow": {
     "slide_type": "fragment"
    }
   },
   "source": [
    "## Let's do it!"
   ]
  },
  {
   "cell_type": "markdown",
   "metadata": {
    "slideshow": {
     "slide_type": "slide"
    }
   },
   "source": [
    "## Gathering the data\n",
    "\n",
    "* The French government keeps track  of the pollution levels of new cars sold every year (http://carlabelling.ademe.fr/).\n",
    "* `pandas` is great for handling tabular data in Python. "
   ]
  },
  {
   "cell_type": "code",
   "execution_count": null,
   "metadata": {
    "collapsed": true
   },
   "outputs": [],
   "source": [
    "car_data = pd.read_csv(\"data/vehicules-commercialises.csv.gz\", sep=\";\")"
   ]
  },
  {
   "cell_type": "markdown",
   "metadata": {},
   "source": [
    "What data have we gathered?"
   ]
  },
  {
   "cell_type": "code",
   "execution_count": null,
   "metadata": {
    "slideshow": {
     "slide_type": "fragment"
    }
   },
   "outputs": [],
   "source": [
    "car_data.head(3)"
   ]
  },
  {
   "cell_type": "markdown",
   "metadata": {
    "slideshow": {
     "slide_type": "slide"
    }
   },
   "source": [
    "## Filtering cars following our constraints"
   ]
  },
  {
   "cell_type": "markdown",
   "metadata": {},
   "source": [
    "We are interested in cars sold the most recent year in the dataset (in this case, 2015). Let's do that in a \"computer scientist\" way:"
   ]
  },
  {
   "cell_type": "code",
   "execution_count": null,
   "metadata": {
    "collapsed": true
   },
   "outputs": [],
   "source": [
    "last_year = sorted(car_data.Année)[-1]"
   ]
  },
  {
   "cell_type": "code",
   "execution_count": null,
   "metadata": {},
   "outputs": [],
   "source": [
    "last_year"
   ]
  },
  {
   "cell_type": "code",
   "execution_count": null,
   "metadata": {
    "collapsed": true
   },
   "outputs": [],
   "source": [
    "car_data = car_data[car_data.Année == last_year]"
   ]
  },
  {
   "cell_type": "markdown",
   "metadata": {
    "slideshow": {
     "slide_type": "subslide"
    }
   },
   "source": [
    "We are also interested in gasoline cars (*essence* in French)"
   ]
  },
  {
   "cell_type": "code",
   "execution_count": null,
   "metadata": {
    "collapsed": true
   },
   "outputs": [],
   "source": [
    "car_data = car_data[car_data.Carburant == \"Essence\"]"
   ]
  },
  {
   "cell_type": "markdown",
   "metadata": {
    "slideshow": {
     "slide_type": "slide"
    }
   },
   "source": [
    "## Visualizing data\n",
    "\n",
    "**Suppose:** We want to buy cars with high fuel efficiency and as powerful as possible."
   ]
  },
  {
   "cell_type": "code",
   "execution_count": null,
   "metadata": {
    "collapsed": true,
    "hide_input": false,
    "slideshow": {
     "slide_type": "skip"
    }
   },
   "outputs": [],
   "source": [
    "def cars_plot(df, group_by):\n",
    "    # ['Puissance maximale', 'Consommation mixte', 'Marque'])\n",
    "    df = df.drop_duplicates()\n",
    "    max_colors = 7\n",
    "    fig, ax = plt.subplots(figsize=(6, 6))\n",
    "    colors = seaborn.color_palette(\"Set1\", max_colors)\n",
    "    for i, (maker, group) in enumerate(df.groupby(group_by)):\n",
    "        ax.plot(\n",
    "            group[\"Puissance maximale\"],\n",
    "            group[\"Consommation mixte\"],\n",
    "            marker=markers[i // max_colors],\n",
    "            color=colors[i % max_colors],\n",
    "            linestyle=\"\",\n",
    "            ms=5.5,\n",
    "            alpha=0.74,\n",
    "            label=maker,\n",
    "            markeredgecolor=\"k\",\n",
    "            markeredgewidth=0.25,\n",
    "        )\n",
    "    plt.legend(\n",
    "        ncol=2, numpoints=1, bbox_to_anchor=(1.0, 1.0), fontsize=11, frameon=True\n",
    "    )\n",
    "    plt.xlabel(\"Maximum power ($\\mathrm{kW}$)\")\n",
    "    plt.ylabel(\"Consumption ($\\ell/100\\,\\mathrm{km}$)\")\n",
    "    plt.title(\"New cars sold in France in {0}\".format(last_year))\n",
    "    plt.tight_layout()"
   ]
  },
  {
   "cell_type": "code",
   "execution_count": null,
   "metadata": {
    "hide_input": false,
    "slideshow": {
     "slide_type": "fragment"
    }
   },
   "outputs": [],
   "source": [
    "cars_plot(car_data, \"Marque\")"
   ]
  },
  {
   "cell_type": "markdown",
   "metadata": {
    "slideshow": {
     "slide_type": "slide"
    }
   },
   "source": [
    "# The *decision maker* problem\n",
    "<br/>\n",
    "<div class=\"container-fluid\">\n",
    "  <div class=\"row\">\n",
    "      <div class=\"col-md-2\"><span/></div>\n",
    "      <div class=\"col-md-8\">\n",
    "      <div class='well well-sm'>\n",
    "<img src=\"https://c1.staticflickr.com/2/1224/5137435619_1b73cbfdc9_b.jpg\" width=\"1024\" height=\"767\" alt=\"Golosinas a granel\">\n",
    "<small>Taken from https://www.flickr.com/photos/hermenpaca/5137435619.</small>\n",
    "      </div>\n",
    "      </div>\n",
    "      <div class=\"col-md-2\" align='center'><span/></div>\n",
    "  </div>\n",
    "</div>"
   ]
  },
  {
   "cell_type": "markdown",
   "metadata": {
    "internals": {
     "slide_helper": "subslide_end",
     "slide_type": "subslide"
    },
    "nbpresent": {
     "id": "f58059e9-9992-48a1-a9f5-3bd1d86ee56c"
    },
    "slide_helper": "slide_end",
    "slideshow": {
     "slide_type": "slide"
    }
   },
   "source": [
    "<div class=\"container-fluid\">\n",
    "  <div class=\"row\">\n",
    "      <div class=\"col-md-6\">\n",
    "      <div class='well well-sm'>\n",
    "              <img src='https://imgs.xkcd.com/comics/fuck_grapefruit.png' align='center'/>\n",
    "              <span><small>taken from http://xkcd.com/388/.</small></span>\n",
    "      </div>\n",
    "      </div>\n",
    "      <div class=\"col-md-6\">\n",
    "          <ul>\n",
    "          <li> How we handle multiple -and conflictive- objectives? </li>\n",
    "          <li> It is **\"easy\"**: we do it all the time.</li>\n",
    "          <li> Artificial intelligence is to make problems that are **easy** for humans but **hard** for computers also **easy** for computers.</li>\n",
    "          <li> That is, solving NP-hard/complete problems in polynomial time.</li>\n",
    "          </ul>\n",
    "      </div>\n",
    "  </div>\n",
    "</div>\n"
   ]
  },
  {
   "cell_type": "markdown",
   "metadata": {
    "internals": {
     "slide_helper": "subslide_end",
     "slide_type": "subslide"
    },
    "nbpresent": {
     "id": "bbfe2158-7de8-453d-bd1b-24c00480279c"
    },
    "slide_helper": "slide_end",
    "slideshow": {
     "slide_type": "slide"
    }
   },
   "source": [
    "# [Multi-objective optimization](http://en.wikipedia.org/wiki/Multi-objective_optimization)\n",
    "\n",
    "* Most -*if not all*- optimization problems involve more than one objective function to be optimized simultaneously.\n",
    "* Sometimes those other objectives are converted to constraints or fixed to default values, but they are still there.\n",
    "* Multi-objective optimization has been applied in [many fields of science](http://en.wikipedia.org/wiki/Multi-objective_optimization#Examples_of_multi-objective_optimization_applications) where optimal decisions need to be taken in the presence of trade-offs between two or more conflicting objectives."
   ]
  },
  {
   "cell_type": "markdown",
   "metadata": {
    "internals": {
     "slide_helper": "subslide_end",
     "slide_type": "subslide"
    },
    "nbpresent": {
     "id": "29849887-d82a-44fb-ad51-37f9aa11cd1d"
    },
    "slide_helper": "slide_end",
    "slideshow": {
     "slide_type": "slide"
    }
   },
   "source": [
    "## Multi-objective optimization problem (MOP)\n",
    "\n",
    "$$\n",
    "\\begin{array}{rl}\n",
    "\\text{minimize}             & \\vec{F}(\\vec{x})=\\left\\langle f_1(\\vec{x}),\\ldots,f_M(\\vec{x})\\right\\rangle\\,,\\\\ \n",
    "\\text{subject to} & c_1(\\vec{x}),\\ldots,c_C(\\vec{x})\\le 0\\,,\\\\\n",
    "\t\t\t\t\t\t\t  & d_1(\\vec{x}),\\ldots,d_D(\\vec{x})= 0\\,,\\\\\n",
    "& \\text{with}\\ \\vec{x}\\in\\mathcal{D}\\,,\n",
    "\\end{array}\n",
    "$$\n",
    "\n",
    "* $\\mathcal{D}$ is known as the *decision set* or *search set*.\n",
    "* functions $f_1(\\vec{x}),\\ldots,f_M(\\vec{x})$ are the *objective functions*.\n",
    "* Image set, $\\mathcal{O}$, result of the projection of $\\mathcal{D}$ via $f_1(\\vec{x}),\\ldots,f_M(\\vec{x})$ is called *objective set* ($\\vec{F}:\\mathcal{D}\\rightarrow\\mathcal{O}$).\n",
    "* $c_1(\\vec{x}),\\ldots,c_C(\\vec{x})\\le 0$ and $d_1(\\vec{x}),\\ldots,d_D(\\vec{x})= 0$  express the constraints imposed on the values of $\\vec{x}$."
   ]
  },
  {
   "cell_type": "markdown",
   "metadata": {
    "nbpresent": {
     "id": "7ca8f3a1-f205-48b3-850c-e37a14da366c"
    },
    "slideshow": {
     "slide_type": "subslide"
    }
   },
   "source": [
    "*Note 1:* In case you are -still- wondering, a maximization problem can be posed as the minimization one: $\\min\\ -\\vec{F}(\\vec{x})$.\n",
    "\n",
    "*Note 2:* If $M=1$ the problem reduces to a single-objective optimization problem. "
   ]
  },
  {
   "cell_type": "markdown",
   "metadata": {
    "internals": {
     "slide_helper": "subslide_end",
     "slide_type": "subslide"
    },
    "nbpresent": {
     "id": "8a335972-5778-46fd-aa18-4ab710675f28"
    },
    "slide_helper": "slide_end",
    "slideshow": {
     "slide_type": "slide"
    }
   },
   "source": [
    "## Example: A two variables and two objectives MOP\n",
    "<br/>\n",
    "<div class=\"container-fluid\">\n",
    "  <div class=\"row\">\n",
    "      <div class=\"col-md-2\"><span/></div>\n",
    "      <div class=\"col-md-8\">\n",
    "      <div class='well well-sm'>\n",
    "              <img src='static/mop-2d.jpg'/>\n",
    "      </div>\n",
    "      </div>\n",
    "      <div class=\"col-md-2\" align='center'><span/></div>\n",
    "  </div>\n",
    "</div>"
   ]
  },
  {
   "cell_type": "markdown",
   "metadata": {
    "internals": {
     "slide_helper": "subslide_end",
     "slide_type": "subslide"
    },
    "nbpresent": {
     "id": "8b813ecc-9628-442d-8baf-8d83e2d4cac3"
    },
    "slide_helper": "slide_end",
    "slideshow": {
     "slide_type": "slide"
    }
   },
   "source": [
    "## MOP optimal solutions\n",
    "\n",
    "Usually, there is not a unique solution that minimizes all objective functions simultaneously, but, instead, a set of equally good *trade-off* solutions.\n",
    "\n",
    "**Optimality** can be defined in terms of the [*Pareto dominance*](https://en.wikipedia.org/wiki/Pareto_efficiency) relation: \n",
    "* having $\\vec{x},\\vec{y}\\in\\mathcal{D}$, $\\vec{x}$ is said to ***dominate*** $\\vec{y}$ (expressed as $\\vec{x}\\preccurlyeq\\vec{y}$) iff $\\forall f_j$, $f_j(\\vec{x})\\leq f_j(\\vec{y})$ and $\\exists f_i$ such that $f_i(\\vec{x})< f_i(\\vec{y})$.\n",
    "* Having the set $\\mathcal{A}$. $\\mathcal{A}^\\ast$, the ***non-dominated subset*** of $\\mathcal{A}$, is defined as\n",
    "\n",
    "$$\n",
    "\\mathcal{A}^\\ast=\\left\\{ \\vec{x}\\in\\mathcal{A} \\left|\\not\\exists\\vec{y}\\in\\mathcal{A}:\\vec{y}\\preccurlyeq\\vec{x}\\right.\\right\\}.\n",
    "$$\n",
    "\n",
    "* The **Pareto-optimal set**, $\\mathcal{D}^{\\ast}$ -the subset of non-dominated elements of $\\mathcal{D}$- is the solution of the problem. "
   ]
  },
  {
   "cell_type": "markdown",
   "metadata": {
    "nbpresent": {
     "id": "5315b783-7c38-40d5-afbd-e44902aa1d40"
    },
    "slideshow": {
     "slide_type": "subslide"
    }
   },
   "source": [
    "* It is also known as the *efficient set*.\n",
    "* It consists of solutions that cannot be improved in any of the objectives without degrading at least one of the other objectives.\n",
    "* Its image in objective set is called the *Pareto-optimal front*, $\\mathcal{O}^\\ast$.\n",
    "* Evolutionary algorithms generally yield a set of non-dominated solutions, $\\mathcal{P}^\\ast$, that approximates $\\mathcal{D}^{\\ast}$."
   ]
  },
  {
   "cell_type": "markdown",
   "metadata": {
    "internals": {
     "frag_helper": "fragment_end",
     "frag_number": 10,
     "slide_type": "subslide"
    },
    "nbpresent": {
     "id": "081bd12b-a668-470a-a992-e3e788fd65f1"
    },
    "slideshow": {
     "slide_type": "slide"
    }
   },
   "source": [
    "## Visualizing the Pareto dominance relation\n",
    "\n",
    "* To start, let's have a visual example of the Pareto dominance relationship in action.\n",
    "* In this notebook we will deal with two-objective problems in order to simplify visualization. "
   ]
  },
  {
   "cell_type": "markdown",
   "metadata": {
    "slideshow": {
     "slide_type": "skip"
    }
   },
   "source": [
    "## This tutorial relies on DEAP\n",
    "<br/>\n",
    "<div class=\"container-fluid\">\n",
    "  <div class=\"row\">\n",
    "      <div class=\"col-md-6\">\n",
    "        <img src='http://deap.readthedocs.io/en/master/_images/deap_long.png' width='74%' align='center'/>\n",
    "      </div>\n",
    "      <div class=\"col-md-6\">\n",
    "        <ul>\n",
    "        <li> Evolutionary computation in Python.\n",
    "        <li> Toolbox, not a collection of algorithms.\n",
    "        <li> Easy to parallelize.\n",
    "        <li> Rather steep learning curve.\n",
    "        </ul>\n",
    "      </div>\n",
    "  </div>\n",
    "</div>"
   ]
  },
  {
   "cell_type": "code",
   "execution_count": null,
   "metadata": {
    "collapsed": true,
    "internals": {},
    "nbpresent": {
     "id": "48b9e709-d6f1-4a65-ac4a-3b7c44f56f0c"
    },
    "slideshow": {
     "slide_type": "fragment"
    }
   },
   "outputs": [],
   "source": [
    "from deap import algorithms, base, benchmarks, creator, tools"
   ]
  },
  {
   "cell_type": "markdown",
   "metadata": {},
   "source": [
    "Defining class of two-objective minimization individuals."
   ]
  },
  {
   "cell_type": "code",
   "execution_count": null,
   "metadata": {
    "collapsed": true,
    "internals": {
     "frag_helper": "fragment_end",
     "frag_number": 12,
     "slide_helper": "subslide_end"
    },
    "nbpresent": {
     "id": "4a35472b-7a4c-455d-9006-405f9f95dede"
    },
    "slide_helper": "slide_end",
    "slideshow": {
     "slide_type": "-"
    }
   },
   "outputs": [],
   "source": [
    "creator.create(\"FitnessMin\", base.Fitness, weights=(-1.0, -1.0))\n",
    "creator.create(\"Individual2Obj\", array.array, typecode=\"d\", fitness=creator.FitnessMin)"
   ]
  },
  {
   "cell_type": "markdown",
   "metadata": {
    "internals": {
     "frag_helper": "fragment_end",
     "frag_number": 12,
     "slide_helper": "subslide_end",
     "slide_type": "subslide"
    },
    "nbpresent": {
     "id": "d597b2cd-6c70-4137-8ad8-2d9a96299531"
    },
    "slide_helper": "slide_end",
    "slideshow": {
     "slide_type": "slide"
    }
   },
   "source": [
    "### An illustrative MOP: Dent\n",
    "\n",
    "$$\n",
    "\\begin{array}{rl}\n",
    "\\text{minimize} & f_1(\\vec{x}),\\,f_2(\\vec{x}) \\\\\n",
    "\\text{such that} & f_1(\\vec{x}) = \\frac{1}{2}\\left( \\sqrt{1 + (x_1 + x_2)^2} \\sqrt{1 + (x_1 - x_2)^2} + x_1 -x_2\\right) + d\\,,\\\\\n",
    " & f_2(\\vec{x}) = \\frac{1}{2}\\left( \\sqrt{1 + (x_1 + x_2)^2} \\sqrt{1 + (x_1 - x_2)^2} - x_1 -x_2\\right) + d\\,,\\\\\n",
    "\\text{with}& d = \\lambda e^{-\\left(x_1-x_2\\right)^2}\\ (\\text{generally }\\lambda=0.85) \\text{ and } \\vec{x}\\in \\left[-1.5,1.5\\right]^2\\,.\n",
    "\\end{array}\n",
    "$$"
   ]
  },
  {
   "cell_type": "markdown",
   "metadata": {
    "internals": {
     "frag_helper": "fragment_end",
     "frag_number": 12,
     "slide_type": "subslide"
    },
    "nbpresent": {
     "id": "ca7b317d-e5fe-4eff-9729-1774384bf07b"
    },
    "slideshow": {
     "slide_type": "slide"
    }
   },
   "source": [
    "Implementing the Dent problem"
   ]
  },
  {
   "cell_type": "code",
   "execution_count": null,
   "metadata": {
    "collapsed": true,
    "internals": {
     "frag_helper": "fragment_end",
     "frag_number": 12,
     "slide_helper": "subslide_end"
    },
    "nbpresent": {
     "id": "fdce0179-6bc0-41ef-9658-6507a2602ff2"
    },
    "slide_helper": "slide_end",
    "slideshow": {
     "slide_type": "-"
    }
   },
   "outputs": [],
   "source": [
    "def dent(individual, lbda=0.85):\n",
    "    d = lbda * math.exp(-((individual[0] - individual[1]) ** 2))\n",
    "    f1 = (\n",
    "        0.5\n",
    "        * (\n",
    "            math.sqrt(1 + (individual[0] + individual[1]) ** 2)\n",
    "            + math.sqrt(1 + (individual[0] - individual[1]) ** 2)\n",
    "            + individual[0]\n",
    "            - individual[1]\n",
    "        )\n",
    "        + d\n",
    "    )\n",
    "    f2 = (\n",
    "        0.5\n",
    "        * (\n",
    "            math.sqrt(1 + (individual[0] + individual[1]) ** 2)\n",
    "            + math.sqrt(1 + (individual[0] - individual[1]) ** 2)\n",
    "            - individual[0]\n",
    "            + individual[1]\n",
    "        )\n",
    "        + d\n",
    "    )\n",
    "    return f1, f2"
   ]
  },
  {
   "cell_type": "markdown",
   "metadata": {
    "internals": {
     "frag_helper": "fragment_end",
     "frag_number": 12,
     "slide_type": "subslide"
    },
    "nbpresent": {
     "id": "2916f338-9da0-447a-a300-396b42ac55d2"
    },
    "slideshow": {
     "slide_type": "slide"
    }
   },
   "source": [
    "### Preparing a DEAP `toolbox` for solving Dent.\n",
    "\n",
    "DEAP toolboxes contain the configuration of the algorithm, the operators that are applied to individuals and much more."
   ]
  },
  {
   "cell_type": "code",
   "execution_count": null,
   "metadata": {
    "collapsed": true,
    "internals": {
     "frag_helper": "fragment_end",
     "frag_number": 12
    },
    "nbpresent": {
     "id": "42b2e7ba-9fef-4534-b938-5d4286c17222"
    },
    "slideshow": {
     "slide_type": "fragment"
    }
   },
   "outputs": [],
   "source": [
    "toolbox = base.Toolbox()"
   ]
  },
  {
   "cell_type": "code",
   "execution_count": null,
   "metadata": {
    "collapsed": true,
    "internals": {
     "frag_helper": "fragment_end",
     "frag_number": 12
    },
    "nbpresent": {
     "id": "ab54a5c2-3ef0-42a8-841b-071b464ffe0d"
    },
    "slideshow": {
     "slide_type": "fragment"
    }
   },
   "outputs": [],
   "source": [
    "N_DIM = 2  # dimensions of x\n",
    "BOUND_LOW, BOUND_UP = -1.5, 1.5  # bounds for each dimension"
   ]
  },
  {
   "cell_type": "markdown",
   "metadata": {},
   "source": [
    "Specify that we will be using the `dent()` function for evaluating our solutions."
   ]
  },
  {
   "cell_type": "code",
   "execution_count": null,
   "metadata": {
    "collapsed": true
   },
   "outputs": [],
   "source": [
    "toolbox.register(\"evaluate\", dent)"
   ]
  },
  {
   "cell_type": "markdown",
   "metadata": {
    "internals": {
     "frag_helper": "fragment_end",
     "frag_number": 12
    },
    "nbpresent": {
     "id": "209caf8e-3d4f-4c00-971c-1a46e416ce72"
    },
    "slideshow": {
     "slide_type": "subslide"
    }
   },
   "source": [
    "Defining attributes, individuals and population."
   ]
  },
  {
   "cell_type": "code",
   "execution_count": null,
   "metadata": {
    "collapsed": true
   },
   "outputs": [],
   "source": [
    "def uniform(bound_low, bound_up, size=None):\n",
    "    \"Initialization of individuals.\"\n",
    "    return [random.uniform(a, b) for a, b in zip([bound_low] * size, [bound_up] * size)]"
   ]
  },
  {
   "cell_type": "code",
   "execution_count": null,
   "metadata": {
    "collapsed": true,
    "internals": {
     "frag_helper": "fragment_end",
     "frag_number": 12,
     "slide_helper": "subslide_end"
    },
    "nbpresent": {
     "id": "ed8c24ff-b9dd-4c84-a094-092945a9fc9f"
    },
    "slide_helper": "slide_end",
    "slideshow": {
     "slide_type": "-"
    }
   },
   "outputs": [],
   "source": [
    "toolbox.register(\"attr_float\", uniform, BOUND_LOW, BOUND_UP, N_DIM)\n",
    "toolbox.register(\n",
    "    \"individual\", tools.initIterate, creator.Individual2Obj, toolbox.attr_float\n",
    ")\n",
    "toolbox.register(\"population\", tools.initRepeat, list, toolbox.individual)"
   ]
  },
  {
   "cell_type": "markdown",
   "metadata": {
    "internals": {
     "frag_helper": "fragment_end",
     "frag_number": 12,
     "slide_type": "subslide"
    },
    "nbpresent": {
     "id": "9d3f44e7-09a0-4163-92ec-4b4072eab499"
    },
    "slideshow": {
     "slide_type": "subslide"
    }
   },
   "source": [
    "Creating an example population distributed as a mesh."
   ]
  },
  {
   "cell_type": "code",
   "execution_count": null,
   "metadata": {
    "collapsed": true,
    "internals": {
     "frag_helper": "fragment_end",
     "frag_number": 12
    },
    "nbpresent": {
     "id": "16fadcdd-76b7-4f71-8495-443a3a4fad21"
    },
    "slideshow": {
     "slide_type": "-"
    }
   },
   "outputs": [],
   "source": [
    "NUM_SAMPLES = 40\n",
    "limits = [np.arange(BOUND_LOW, BOUND_UP, (BOUND_UP - BOUND_LOW) / NUM_SAMPLES)] * N_DIM\n",
    "sample_x = np.meshgrid(*limits)"
   ]
  },
  {
   "cell_type": "code",
   "execution_count": null,
   "metadata": {
    "collapsed": true,
    "internals": {
     "frag_helper": "fragment_end",
     "frag_number": 12,
     "slide_helper": "subslide_end"
    },
    "nbpresent": {
     "id": "d5b68c44-b762-491a-998a-75a98ef5f653"
    },
    "slide_helper": "slide_end",
    "slideshow": {
     "slide_type": "subslide"
    }
   },
   "outputs": [],
   "source": [
    "flat = []\n",
    "for i in range(len(sample_x)):\n",
    "    x_i = sample_x[i]\n",
    "    flat.append(x_i.reshape(NUM_SAMPLES**N_DIM))"
   ]
  },
  {
   "cell_type": "code",
   "execution_count": null,
   "metadata": {
    "collapsed": true,
    "internals": {
     "frag_helper": "fragment_end",
     "frag_number": 12,
     "slide_type": "subslide"
    },
    "nbpresent": {
     "id": "c417998a-8f33-4b7f-8a76-f591262fdca5"
    },
    "slideshow": {
     "slide_type": "fragment"
    }
   },
   "outputs": [],
   "source": [
    "example_pop = toolbox.population(n=NUM_SAMPLES**N_DIM)"
   ]
  },
  {
   "cell_type": "code",
   "execution_count": null,
   "metadata": {
    "collapsed": true,
    "internals": {
     "frag_helper": "fragment_end",
     "frag_number": 12
    },
    "nbpresent": {
     "id": "400ef716-2eb7-4971-a567-f4d752405df1"
    },
    "slideshow": {
     "slide_type": "subslide"
    }
   },
   "outputs": [],
   "source": [
    "for i, ind in enumerate(example_pop):\n",
    "    for j in range(len(flat)):\n",
    "        ind[j] = flat[j][i]"
   ]
  },
  {
   "cell_type": "code",
   "execution_count": null,
   "metadata": {
    "collapsed": true,
    "internals": {
     "frag_helper": "fragment_end",
     "frag_number": 12,
     "slide_helper": "subslide_end"
    },
    "nbpresent": {
     "id": "5dcbe1f2-cc95-40d5-86b5-832f83904c78"
    },
    "slide_helper": "slide_end",
    "slideshow": {
     "slide_type": "fragment"
    }
   },
   "outputs": [],
   "source": [
    "fitnesses = toolbox.map(toolbox.evaluate, example_pop)\n",
    "for ind, fit in zip(example_pop, fitnesses):\n",
    "    ind.fitness.values = fit"
   ]
  },
  {
   "cell_type": "markdown",
   "metadata": {
    "internals": {
     "frag_helper": "fragment_end",
     "frag_number": 12,
     "slide_type": "subslide"
    },
    "nbpresent": {
     "id": "98d63654-f18b-4f5a-982c-d52bb58f7235"
    },
    "slideshow": {
     "slide_type": "slide"
    }
   },
   "source": [
    "## Visualizing Dent "
   ]
  },
  {
   "cell_type": "code",
   "execution_count": null,
   "metadata": {
    "internals": {
     "frag_helper": "fragment_end",
     "frag_number": 12,
     "slide_helper": "subslide_end"
    },
    "nbpresent": {
     "id": "693295fc-dc34-4cc4-9bc3-e1bd9cb3f9dc"
    },
    "slide_helper": "slide_end",
    "slideshow": {
     "slide_type": "-"
    }
   },
   "outputs": [],
   "source": [
    "plt.figure(figsize=(11, 5))\n",
    "plt.subplot(1, 2, 1)\n",
    "for ind in example_pop:\n",
    "    plt.plot(ind[0], ind[1], \"k.\", ms=5)\n",
    "plt.xlabel(\"$x_1$\")\n",
    "plt.ylabel(\"$x_2$\")\n",
    "plt.title(\"Decision space\")\n",
    "plt.subplot(1, 2, 2)\n",
    "for ind in example_pop:\n",
    "    plt.plot(ind.fitness.values[0], ind.fitness.values[1], \"k.\", ms=5)\n",
    "plt.xlabel(\"$f_1(x)$\")\n",
    "plt.ylabel(\"$f_2(x)$\")\n",
    "plt.xlim((0.5, 3.6))\n",
    "plt.ylim((0.5, 3.6))\n",
    "plt.title(\"Objective space\");"
   ]
  },
  {
   "cell_type": "markdown",
   "metadata": {
    "internals": {
     "frag_helper": "fragment_end",
     "frag_number": 12,
     "slide_type": "subslide"
    },
    "nbpresent": {
     "id": "02d0f47f-d689-41f1-a3bb-9e76a6144be9"
    },
    "slideshow": {
     "slide_type": "slide"
    }
   },
   "source": [
    "We can now create `a_given_individual` in $(0.5,0.5)$."
   ]
  },
  {
   "cell_type": "code",
   "execution_count": null,
   "metadata": {
    "collapsed": true,
    "internals": {
     "frag_helper": "fragment_end",
     "frag_number": 12
    },
    "nbpresent": {
     "id": "f5d835f4-5a1d-4fb9-8690-d0eb9ac50cd7"
    },
    "slideshow": {
     "slide_type": "-"
    }
   },
   "outputs": [],
   "source": [
    "a_given_individual = toolbox.population(n=1)[0]\n",
    "a_given_individual[0] = 0.5\n",
    "a_given_individual[1] = 0.5"
   ]
  },
  {
   "cell_type": "markdown",
   "metadata": {},
   "source": [
    "...and evaluate it."
   ]
  },
  {
   "cell_type": "code",
   "execution_count": null,
   "metadata": {
    "collapsed": true,
    "internals": {
     "frag_helper": "fragment_end",
     "frag_number": 12,
     "slide_helper": "subslide_end"
    },
    "nbpresent": {
     "id": "516a5178-30fc-42bc-953a-d8868c6e5189"
    },
    "slide_helper": "slide_end",
    "slideshow": {
     "slide_type": "-"
    }
   },
   "outputs": [],
   "source": [
    "a_given_individual.fitness.values = toolbox.evaluate(a_given_individual)"
   ]
  },
  {
   "cell_type": "markdown",
   "metadata": {
    "internals": {
     "frag_helper": "fragment_end",
     "frag_number": 12,
     "slide_type": "subslide"
    },
    "nbpresent": {
     "id": "3830ef40-597d-430b-998e-5b03b13ba708"
    },
    "slideshow": {
     "slide_type": "slide"
    }
   },
   "source": [
    "Implementing the Pareto dominance relation between two individuals."
   ]
  },
  {
   "cell_type": "code",
   "execution_count": null,
   "metadata": {
    "collapsed": true,
    "internals": {
     "frag_helper": "fragment_end",
     "frag_number": 12
    },
    "nbpresent": {
     "id": "2412c56c-5817-4c11-ac12-d5df69913ade"
    },
    "slideshow": {
     "slide_type": "-"
    }
   },
   "outputs": [],
   "source": [
    "def pareto_dominance(ind1, ind2):\n",
    "    \"Returns `True` if `ind1` dominates `ind2` - assumes min. problem.\"\n",
    "    extrictly_better = False\n",
    "    for obj1 in ind1.fitness.values:\n",
    "        for obj2 in ind2.fitness.values:\n",
    "            if obj1 > obj2:\n",
    "                return False\n",
    "            if not extrictly_better and obj1 < obj2:\n",
    "                extrictly_better = True\n",
    "    return extrictly_better"
   ]
  },
  {
   "cell_type": "markdown",
   "metadata": {
    "internals": {
     "frag_helper": "fragment_end",
     "frag_number": 12
    },
    "nbpresent": {
     "id": "e57346c6-cb9e-4366-82a8-e3f35229501a"
    },
    "slideshow": {
     "slide_type": "subslide"
    }
   },
   "source": [
    "*Note:* Bear in mind that DEAP implements a Pareto dominance relation that probably is more efficient than this implementation. The previous function would be something like:"
   ]
  },
  {
   "cell_type": "code",
   "execution_count": null,
   "metadata": {
    "collapsed": true,
    "internals": {
     "frag_helper": "fragment_end",
     "frag_number": 12,
     "slide_helper": "subslide_end"
    },
    "nbpresent": {
     "id": "df2c1646-4142-4b4a-8cf8-dec4b7cfca0b"
    },
    "slide_helper": "slide_end",
    "slideshow": {
     "slide_type": "fragment"
    }
   },
   "outputs": [],
   "source": [
    "def efficient_pareto_dominance(ind1, ind2):\n",
    "    return tools.emo.isDominated(ind1.fitness.values, ind2.fitness.values)"
   ]
  },
  {
   "cell_type": "markdown",
   "metadata": {
    "internals": {
     "frag_helper": "fragment_end",
     "frag_number": 12,
     "slide_type": "subslide"
    },
    "nbpresent": {
     "id": "04eb7353-25b4-428c-baed-7f97e1526e52"
    },
    "slideshow": {
     "slide_type": "slide"
    }
   },
   "source": [
    "Let's compute the set of individuals that are `dominated` by `a_given_individual`, the ones that dominate it (`dominating`) and the remaining (`incomparable`) ones."
   ]
  },
  {
   "cell_type": "code",
   "execution_count": null,
   "metadata": {
    "collapsed": true,
    "nbpresent": {
     "id": "c9a0b1e9-6f98-4b73-9ac5-dc0c57f45441"
    },
    "slideshow": {
     "slide_type": "fragment"
    }
   },
   "outputs": [],
   "source": [
    "dominated = [ind for ind in example_pop if pareto_dominance(a_given_individual, ind)]"
   ]
  },
  {
   "cell_type": "code",
   "execution_count": null,
   "metadata": {
    "collapsed": true,
    "nbpresent": {
     "id": "6a0e3811-73f7-4223-8dc3-729567d6b48a"
    },
    "slideshow": {
     "slide_type": "fragment"
    }
   },
   "outputs": [],
   "source": [
    "dominating = [ind for ind in example_pop if pareto_dominance(ind, a_given_individual)]"
   ]
  },
  {
   "cell_type": "code",
   "execution_count": null,
   "metadata": {
    "collapsed": true,
    "internals": {
     "frag_helper": "fragment_end",
     "frag_number": 12,
     "slide_helper": "subslide_end"
    },
    "nbpresent": {
     "id": "7cfdba0d-e8be-461c-b52f-57338128738b"
    },
    "slide_helper": "subslide_end",
    "slideshow": {
     "slide_type": "fragment"
    }
   },
   "outputs": [],
   "source": [
    "incomparable = [\n",
    "    ind for ind in example_pop if ind not in dominated and ind not in dominating\n",
    "]"
   ]
  },
  {
   "cell_type": "code",
   "execution_count": null,
   "metadata": {
    "collapsed": true,
    "internals": {
     "frag_helper": "fragment_end",
     "frag_number": 12,
     "slide_helper": "subslide_end",
     "slide_type": "subslide"
    },
    "nbpresent": {
     "id": "ecb2eae0-a40b-4258-9bde-73e7e5077ead"
    },
    "slide_helper": "slide_end",
    "slideshow": {
     "slide_type": "skip"
    }
   },
   "outputs": [],
   "source": [
    "def plot_dent():\n",
    "    \"Plots the points in decision and objective spaces.\"\n",
    "    plt.figure(figsize=(10, 5))\n",
    "    plt.subplot(1, 2, 1)\n",
    "    for ind in dominating:\n",
    "        plt.plot(ind[0], ind[1], \"r.\", markeredgecolor=\"k\", markeredgewidth=0.5)\n",
    "    for ind in dominated:\n",
    "        plt.plot(ind[0], ind[1], \"g.\", markeredgecolor=\"k\", markeredgewidth=0.5)\n",
    "    for ind in incomparable:\n",
    "        plt.plot(ind[0], ind[1], \"k.\", ms=5)\n",
    "    plt.plot(\n",
    "        a_given_individual[0],\n",
    "        a_given_individual[1],\n",
    "        marker=\"D\",\n",
    "        ms=11,\n",
    "        markeredgecolor=\"b\",\n",
    "        markerfacecolor=\"none\",\n",
    "        markeredgewidth=2.5,\n",
    "    )\n",
    "    plt.xlabel(\"$x_1$\")\n",
    "    plt.ylabel(\"$x_2$\")\n",
    "    plt.title(\"Decision space\")\n",
    "\n",
    "    plt.subplot(1, 2, 2)\n",
    "    for ind in dominating:\n",
    "        plt.plot(\n",
    "            ind.fitness.values[0],\n",
    "            ind.fitness.values[1],\n",
    "            \"ro\",\n",
    "            alpha=0.74,\n",
    "            ms=5,\n",
    "            markeredgecolor=\"k\",\n",
    "            markeredgewidth=0.5,\n",
    "        )\n",
    "    for ind in dominated:\n",
    "        plt.plot(\n",
    "            ind.fitness.values[0],\n",
    "            ind.fitness.values[1],\n",
    "            \"go\",\n",
    "            alpha=0.74,\n",
    "            ms=5,\n",
    "            markeredgecolor=\"k\",\n",
    "            markeredgewidth=0.5,\n",
    "        )\n",
    "    for ind in incomparable:\n",
    "        plt.plot(ind.fitness.values[0], ind.fitness.values[1], \"k.\", alpha=0.74, ms=5)\n",
    "    plt.plot(\n",
    "        a_given_individual.fitness.values[0],\n",
    "        a_given_individual.fitness.values[1],\n",
    "        marker=\"D\",\n",
    "        ms=11,\n",
    "        markeredgecolor=\"b\",\n",
    "        markerfacecolor=\"none\",\n",
    "        markeredgewidth=2.5,\n",
    "    )\n",
    "    plt.xlabel(\"$f_1(\\mathbf{x})$\")\n",
    "    plt.ylabel(\"$f_2(\\mathbf{x})$\")\n",
    "    plt.xlim((0.5, 3.6))\n",
    "    plt.ylim((0.5, 3.6))\n",
    "    plt.title(\"Objective space\")\n",
    "    plt.tight_layout()"
   ]
  },
  {
   "cell_type": "markdown",
   "metadata": {
    "internals": {
     "frag_helper": "fragment_end",
     "frag_number": 12,
     "slide_type": "subslide"
    },
    "nbpresent": {
     "id": "c5e2c853-13bf-45a9-90c3-b0bff152194f"
    },
    "slideshow": {
     "slide_type": "slide"
    }
   },
   "source": [
    "Having `a_given_individual` ($\\color{blue}{\\diamondsuit}$) we can plot the points that are $\\color{green}{\\text{dominated by it}}$ ($\\color{green}{\\bullet}$), those that $\\color{red}{\\text{dominate it}}$ ($\\color{red}{\\bullet}$) and those that are incomparable ($\\color{gray}{\\bullet}$)."
   ]
  },
  {
   "cell_type": "code",
   "execution_count": null,
   "metadata": {
    "internals": {
     "frag_helper": "fragment_end",
     "frag_number": 12,
     "slide_helper": "subslide_end"
    },
    "nbpresent": {
     "id": "f4d425de-ef37-454b-a12a-aaf2e7829177"
    },
    "slide_helper": "slide_end",
    "slideshow": {
     "slide_type": "-"
    }
   },
   "outputs": [],
   "source": [
    "plot_dent()"
   ]
  },
  {
   "cell_type": "markdown",
   "metadata": {
    "internals": {
     "frag_helper": "fragment_end",
     "frag_number": 12,
     "slide_type": "subslide"
    },
    "nbpresent": {
     "id": "d9ea574a-ce9a-415f-ad0b-b26fb2ce2e26"
    },
    "slideshow": {
     "slide_type": "slide"
    }
   },
   "source": [
    "Obtaining the non-dominated front using DEAP's `sortNondominated()` function that returns a list of consecutive non-dominated fronts."
   ]
  },
  {
   "cell_type": "code",
   "execution_count": null,
   "metadata": {
    "collapsed": true,
    "nbpresent": {
     "id": "dff0decd-81eb-407c-ba15-e38964635b17"
    },
    "slideshow": {
     "slide_type": "-"
    }
   },
   "outputs": [],
   "source": [
    "non_dom = tools.sortNondominated(\n",
    "    example_pop, k=len(example_pop), first_front_only=True\n",
    ")[0]"
   ]
  },
  {
   "cell_type": "code",
   "execution_count": null,
   "metadata": {
    "hide_input": true,
    "internals": {
     "frag_helper": "fragment_end",
     "frag_number": 12,
     "slide_helper": "subslide_end"
    },
    "nbpresent": {
     "id": "ccd40e56-a3da-487a-b76b-c75796799720"
    },
    "slide_helper": "slide_end",
    "slideshow": {
     "slide_type": "slide"
    }
   },
   "outputs": [],
   "source": [
    "plt.figure(figsize=(10, 5))\n",
    "plt.subplot(1, 2, 1)\n",
    "for ind in example_pop:\n",
    "    plt.plot(ind[0], ind[1], \"k.\", ms=5)\n",
    "for ind in non_dom:\n",
    "    plt.plot(\n",
    "        ind[0], ind[1], \"bo\", alpha=0.74, ms=5, markeredgecolor=\"k\", markeredgewidth=0.5\n",
    "    )\n",
    "plt.xlabel(\"$x_1$\")\n",
    "plt.ylabel(\"$x_2$\")\n",
    "plt.title(\"Decision space\")\n",
    "plt.subplot(1, 2, 2)\n",
    "for ind in example_pop:\n",
    "    plt.plot(ind.fitness.values[0], ind.fitness.values[1], \"k.\", ms=5, alpha=0.5)\n",
    "for ind in non_dom:\n",
    "    plt.plot(\n",
    "        ind.fitness.values[0],\n",
    "        ind.fitness.values[1],\n",
    "        \"bo\",\n",
    "        alpha=0.74,\n",
    "        ms=5,\n",
    "        markeredgecolor=\"k\",\n",
    "        markeredgewidth=0.25,\n",
    "    )\n",
    "plt.xlabel(\"$f_1(x)$\")\n",
    "plt.ylabel(\"$f_2(x)$\")\n",
    "plt.title(\"Objective space\")\n",
    "plt.tight_layout()"
   ]
  },
  {
   "cell_type": "code",
   "execution_count": null,
   "metadata": {
    "collapsed": true,
    "slideshow": {
     "slide_type": "skip"
    }
   },
   "outputs": [],
   "source": [
    "colors = itertools.cycle(seaborn.color_palette(\"Set2\", 10))"
   ]
  },
  {
   "cell_type": "code",
   "execution_count": null,
   "metadata": {
    "collapsed": true,
    "slideshow": {
     "slide_type": "skip"
    }
   },
   "outputs": [],
   "source": [
    "fronts = tools.sortNondominated(example_pop, k=len(example_pop))"
   ]
  },
  {
   "cell_type": "code",
   "execution_count": null,
   "metadata": {
    "collapsed": true,
    "slideshow": {
     "slide_type": "skip"
    }
   },
   "outputs": [],
   "source": [
    "def animate(frame_index):\n",
    "    ax.clear()\n",
    "    for ind in example_pop:\n",
    "        ax.plot(ind.fitness.values[0], ind.fitness.values[1], \"k.\", ms=5, alpha=0.5)\n",
    "    inds_obj = np.array(\n",
    "        sorted(\n",
    "            [ind.fitness.values for ind in fronts[frame_index]], key=lambda obj: obj[0]\n",
    "        )\n",
    "    )\n",
    "    ax.plot(\n",
    "        inds_obj[:, 0],\n",
    "        inds_obj[:, 1],\n",
    "        marker=\"o\",\n",
    "        color=next(colors),\n",
    "        alpha=1,\n",
    "        linestyle=\"-\",\n",
    "        linewidth=6,\n",
    "        ms=6,\n",
    "        markeredgecolor=\"k\",\n",
    "        markeredgewidth=0.5,\n",
    "    )\n",
    "    ax.set_title(\"Front \" + str(frame_index + 1))\n",
    "    ax.set_xlabel(\"$f_1(\\mathbf{x})$\")\n",
    "    ax.set_ylabel(\"$f_2(\\mathbf{x})$\")\n",
    "    return []"
   ]
  },
  {
   "cell_type": "code",
   "execution_count": null,
   "metadata": {
    "collapsed": true,
    "slideshow": {
     "slide_type": "skip"
    }
   },
   "outputs": [],
   "source": [
    "fig = plt.figure(figsize=(6, 6.5))\n",
    "ax = fig.gca()\n",
    "anim = animation.FuncAnimation(\n",
    "    fig, animate, frames=len(fronts), interval=250, blit=True\n",
    ")\n",
    "plt.close()"
   ]
  },
  {
   "cell_type": "markdown",
   "metadata": {
    "slideshow": {
     "slide_type": "slide"
    }
   },
   "source": [
    "## Extracting consecutive non-dominated fronts"
   ]
  },
  {
   "cell_type": "code",
   "execution_count": null,
   "metadata": {},
   "outputs": [],
   "source": [
    "HTML(anim.to_jshtml())"
   ]
  },
  {
   "cell_type": "markdown",
   "metadata": {
    "slideshow": {
     "slide_type": "slide"
    }
   },
   "source": [
    "# Looks like we have solved the problem... but we haven't!\n",
    "* How fine-grained the mesh should be?\n",
    "* Doing this exhaustive mapping of the search space becomes computationally inviable as the number of dimensions grow.\n",
    "* We need an *strategy* for exploring the search space.\n",
    "\n",
    "## Forward pointer: \n",
    "* Solutions in 'outer' fronts are better that those in 'deeper' ones."
   ]
  },
  {
   "cell_type": "markdown",
   "metadata": {
    "slideshow": {
     "slide_type": "slide"
    }
   },
   "source": [
    "# Remember our cars example?\n",
    "\n",
    "We can determine the non-dominated front of our cars.\n",
    "\n",
    "* We can reuse most of the stuff we have just coded the Dent problem.\n",
    "* The fitness must change as we want to minimize fuel consumption and maximize power."
   ]
  },
  {
   "cell_type": "code",
   "execution_count": null,
   "metadata": {
    "collapsed": true
   },
   "outputs": [],
   "source": [
    "creator.create(\"FitnessCars\", base.Fitness, weights=(-1.0, 1.0))\n",
    "creator.create(\n",
    "    \"Individual2ObjCars\", array.array, typecode=\"d\", fitness=creator.FitnessCars\n",
    ")"
   ]
  },
  {
   "cell_type": "markdown",
   "metadata": {
    "slideshow": {
     "slide_type": "subslide"
    }
   },
   "source": [
    "Updating the `toolbox`."
   ]
  },
  {
   "cell_type": "code",
   "execution_count": null,
   "metadata": {
    "collapsed": true
   },
   "outputs": [],
   "source": [
    "toolbox.register(\n",
    "    \"individual\", tools.initIterate, creator.Individual2ObjCars, toolbox.attr_float\n",
    ")\n",
    "toolbox.register(\"population\", tools.initRepeat, list, toolbox.individual)"
   ]
  },
  {
   "cell_type": "code",
   "execution_count": null,
   "metadata": {
    "collapsed": true,
    "slideshow": {
     "slide_type": "slide"
    }
   },
   "outputs": [],
   "source": [
    "car_pop = toolbox.population(n=len(car_data))"
   ]
  },
  {
   "cell_type": "code",
   "execution_count": null,
   "metadata": {
    "collapsed": true,
    "scrolled": true
   },
   "outputs": [],
   "source": [
    "for i, (_, data) in enumerate(car_data.iterrows()):\n",
    "    car_pop[i].fitness.values = (data[\"Consommation mixte\"], data[\"Puissance maximale\"])\n",
    "    car_pop[i].label = data[\"Marque\"] + \" - \" + data[\"Modèle commercial\"]"
   ]
  },
  {
   "cell_type": "code",
   "execution_count": null,
   "metadata": {
    "collapsed": true,
    "slideshow": {
     "slide_type": "fragment"
    }
   },
   "outputs": [],
   "source": [
    "non_dom = tools.sortNondominated(car_pop, k=len(car_pop), first_front_only=True)[0]"
   ]
  },
  {
   "cell_type": "markdown",
   "metadata": {
    "slideshow": {
     "slide_type": "slide"
    }
   },
   "source": [
    "Non-dominated cars as a `pandas.DataFrame`."
   ]
  },
  {
   "cell_type": "code",
   "execution_count": null,
   "metadata": {
    "collapsed": true,
    "slideshow": {
     "slide_type": "-"
    }
   },
   "outputs": [],
   "source": [
    "df = pd.DataFrame(columns=(\"Brand_Model\", \"Consommation mixte\", \"Puissance maximale\"))"
   ]
  },
  {
   "cell_type": "code",
   "execution_count": null,
   "metadata": {
    "collapsed": true
   },
   "outputs": [],
   "source": [
    "for i, ind in enumerate(non_dom):\n",
    "    df.loc[i] = (ind.label, ind.fitness.values[0], ind.fitness.values[1])"
   ]
  },
  {
   "cell_type": "markdown",
   "metadata": {
    "slideshow": {
     "slide_type": "slide"
    }
   },
   "source": [
    "Peeking at results"
   ]
  },
  {
   "cell_type": "code",
   "execution_count": null,
   "metadata": {
    "slideshow": {
     "slide_type": "fragment"
    }
   },
   "outputs": [],
   "source": [
    "df.head()"
   ]
  },
  {
   "cell_type": "markdown",
   "metadata": {
    "slideshow": {
     "slide_type": "slide"
    }
   },
   "source": [
    "Plotting the non-dominated cars."
   ]
  },
  {
   "cell_type": "code",
   "execution_count": null,
   "metadata": {},
   "outputs": [],
   "source": [
    "cars_plot(df, \"Brand_Model\")"
   ]
  },
  {
   "cell_type": "markdown",
   "metadata": {
    "internals": {
     "frag_helper": "fragment_end",
     "frag_number": 12,
     "slide_helper": "subslide_end",
     "slide_type": "subslide"
    },
    "nbpresent": {
     "id": "4b918520-e4d4-4328-8cf7-4efecf18e1b7"
    },
    "slide_helper": "slide_end",
    "slideshow": {
     "slide_type": "slide"
    }
   },
   "source": [
    "# So, is this the end?\n",
    "\n",
    "* OK, now we know how to solve MOPs by sampling the search space.\n",
    "* MOPs, in the general case are NP-hard problems.\n",
    "* Brute force is never the solution in just-a-little-more-complex cases."
   ]
  },
  {
   "cell_type": "markdown",
   "metadata": {
    "nbpresent": {
     "id": "7c7445f2-d5bc-4969-a37b-557a2e69eead"
    },
    "slideshow": {
     "slide_type": "slide"
    }
   },
   "source": [
    "An example, solving the TSP problem using brute force:\n",
    "\n",
    "| $n$ cities | time |\n",
    "| :--: | :-- |\n",
    "| 10   | 3 secs|\n",
    "| 12   | 3 secs &times; 12 &times; 11 = 6.6 mins |\n",
    "| 14   | 6.6 mins &times; 13 &times; 14 = 20 hours</td></tr>\n",
    "| 24   | 3 secs &times; 24! / 10! = [16 billion years](https://www.google.com/search?q=3+seconds+*+24!+%2F+10!+in+years) |\n",
    "\n",
    "_Note_: See my PhD EC course notebooks https://github.com/lmarti/evolutionary-computation-course for a notebook on solving the TSP problem using evolutionary algorithms."
   ]
  },
  {
   "cell_type": "markdown",
   "metadata": {
    "internals": {
     "frag_helper": "fragment_end",
     "frag_number": 12,
     "slide_helper": "subslide_end",
     "slide_type": "subslide"
    },
    "nbpresent": {
     "id": "430676e2-2edf-4d0d-b477-6414a9a283c8"
    },
    "slide_helper": "subslide_end",
    "slideshow": {
     "slide_type": "slide"
    }
   },
   "source": [
    "## Preference-based alternatives\n",
    "\n",
    "* A **decision maker** can define a set of weights $w_1,\\ldots,w_M$ for each function $f_1(),\\ldots,f_M()$.\n",
    "* We can convert a MOP into a SOP:\n",
    "\n",
    "$$\n",
    "\\begin{array}{rl}\n",
    "\\text{minimize}             & F(\\vec{x})= w_1 f_1(\\vec{x})+\\cdots + w_i f_i(\\vec{x}) +\\cdots +w_M f_M(\\vec{x})\\,,\\\\ \n",
    "\\text{subject to} & c_1(\\vec{x}),\\ldots,c_C(\\vec{x})\\le 0\\,,\\\\\n",
    "\t\t\t\t\t\t\t  & d_1(\\vec{x}),\\ldots,d_D(\\vec{x})= 0\\,,\\\\\n",
    "& \\text{with}\\ \\vec{x}\\in\\mathcal{D}\\ \\text{and}\\ \\sum_i{w_i}=1\\,.\n",
    "\\end{array}\n",
    "$$\n",
    "\n",
    "* A single-objective optimizer $\\implies$ only one solution not the complete PF.\n",
    "* Mathematical programming.\n",
    "* Requires (a lot) of _a priori_ knowledge but is relatively simple."
   ]
  },
  {
   "cell_type": "markdown",
   "metadata": {
    "internals": {
     "frag_helper": "fragment_end",
     "frag_number": 12,
     "slide_helper": "subslide_end",
     "slide_type": "subslide"
    },
    "nbpresent": {
     "id": "4220f1e7-eb05-4f71-ac83-666921b265ed"
    },
    "slide_helper": "slide_end",
    "slideshow": {
     "slide_type": "slide"
    }
   },
   "source": [
    "## Using Pareto dominance to guide search\n",
    "\n",
    "* We can use the Pareto dominance relation to determine how good an individual is.\n",
    "\n",
    "Ideas:\n",
    "\n",
    "* For a solution $\\vec{x}$, how many individuals dominate $\\vec{x}$?\n",
    "* ... and how many $\\vec{x}$ dominates?\n",
    "\n",
    "**This looks like the perfect task for an evolutionary algorithm.**"
   ]
  },
  {
   "cell_type": "markdown",
   "metadata": {
    "internals": {
     "frag_helper": "fragment_end",
     "frag_number": 12,
     "slide_helper": "subslide_end",
     "slide_type": "subslide"
    },
    "nbpresent": {
     "id": "85e42507-7706-49d9-9aba-333053711177"
    },
    "slide_helper": "slide_end",
    "slideshow": {
     "slide_type": "slide"
    }
   },
   "source": [
    "## Evolutionary algorithms\n",
    "<br/>\n",
    "<div class=\"container-fluid\">\n",
    "  <div class=\"row\">\n",
    "      <div class=\"col-md-2\"><span/></div>\n",
    "      <div class=\"col-md-8\">\n",
    "      <div class='well well-sm'>\n",
    "              <img src='static/moea.png'/>\n",
    "      </div>\n",
    "      </div>\n",
    "      <div class=\"col-md-2\" align='center'><span/></div>\n",
    "  </div>\n",
    "</div>\n",
    "\n",
    "Mating selection + Variation (Offsping generation) + Enviromental selection $\\implies$ global + local  parallel search features."
   ]
  },
  {
   "cell_type": "markdown",
   "metadata": {
    "slideshow": {
     "slide_type": "slide"
    }
   },
   "source": [
    "## Elements to take into account using evolutionary algorithms\n",
    "\n",
    "* **Individual representation** (binary, Gray, floating-point, etc.);\n",
    "* **evaluation** and **fitness assignment**;\n",
    "* **mating selection**, that establishes a partial order of individuals in the population using their fitness function value as reference and determines the degree at which individuals in the population will take part in the generation of new (offspring) individuals.\n",
    "* **variation**, that applies a range of evolution-inspired operators, like crossover, mutation, etc., to synthesize offspring individuals from the current (parent) population. This process is supposed to prime the fittest individuals so they play a bigger role in the generation of the offspring.\n",
    "* **environmental selection**, that merges the parent and offspring individuals to produce the population that will be used in the next iteration. This process often involves the deletion of some individuals using a given criterion in order to keep the amount of individuals bellow a certain threshold.\n",
    "* **stopping criterion**, that determines when the algorithm should be stopped, either because the optimum was reach or because the optimization process is not progressing."
   ]
  },
  {
   "cell_type": "markdown",
   "metadata": {
    "slideshow": {
     "slide_type": "slide"
    }
   },
   "source": [
    "## Pseudocode of an evolutionary algorithm\n",
    "\n",
    "```python\n",
    "def evolutionary_algorithm(): \n",
    "    populations = [] # a list with all the populations\n",
    "    \n",
    "    populations[0] =  initialize_population(pop_size)\n",
    "    t = 0\n",
    "    \n",
    "    while not stop_criterion(populations[t]):\n",
    "        fitnesses = evaluate(populations[t])\n",
    "        offspring = matting_and_variation(populations[t],\n",
    "                                          fitnesses)\n",
    "        populations[t+1] = environmental_selection(           \n",
    "                                          populations[t],\n",
    "                                          offspring)\n",
    "        t = t+1\n",
    "    \n",
    "    return populations[t]\n",
    "```"
   ]
  },
  {
   "cell_type": "markdown",
   "metadata": {
    "slideshow": {
     "slide_type": "slide"
    }
   },
   "source": [
    "## Multi-objective fitness assignment\n",
    "\n",
    "So far, the key issue is how to compute the fitness taking into account the $M$ objectives.\n"
   ]
  },
  {
   "cell_type": "markdown",
   "metadata": {
    "internals": {
     "frag_helper": "fragment_end",
     "frag_number": 12,
     "slide_helper": "subslide_end",
     "slide_type": "subslide"
    },
    "nbpresent": {
     "id": "ae190ffa-f297-43cc-8af8-616938f2fb0e"
    },
    "slide_helper": "slide_end",
    "slideshow": {
     "slide_type": "slide"
    }
   },
   "source": [
    "# The Non-dominated Sorting Genetic Algorithm (NSGA-II)\n",
    "\n",
    "NSGA-II algorithm is one of the pillars of the EMO field.\n",
    "\n",
    "* Deb, K., Pratap, A., Agarwal, S., Meyarivan, T., *A fast and elitist multiobjective genetic algorithm: NSGA-II*, IEEE Transactions on Evolutionary Computation, vol.6, no.2, pp.182,197, Apr 2002 doi: [10.1109/4235.996017](http://dx.doi.org/10.1109/4235.996017)."
   ]
  },
  {
   "cell_type": "markdown",
   "metadata": {
    "nbpresent": {
     "id": "322c39bb-4d98-4f3d-a1c5-bc5931123db1"
    },
    "slideshow": {
     "slide_type": "slide"
    }
   },
   "source": [
    "## Key element of NSGA-II\n",
    "\n",
    "* Fitness assignment relies on the Pareto dominance relation:\n",
    "    1. Rank individuals according the dominance relations established between them. \n",
    "    2. Individuals with the same domination rank are then compared using a local crowding distance.\n",
    "\n",
    "<div class=\"container-fluid\">\n",
    "  <div class=\"row\">\n",
    "      <div class=\"col-md-4\"><span/></div>\n",
    "      <div class=\"col-md-4\">\n",
    "      <div class='well well-sm'>\n",
    "              <img src='static/population.png'/>\n",
    "      </div>\n",
    "      </div>\n",
    "      <div class=\"col-md-4\" align='center'><span/></div>\n",
    "  </div>\n",
    "</div>"
   ]
  },
  {
   "cell_type": "markdown",
   "metadata": {
    "internals": {
     "frag_helper": "fragment_end",
     "frag_number": 12,
     "slide_helper": "subslide_end",
     "slide_type": "subslide"
    },
    "nbpresent": {
     "id": "baa5784e-bc3a-44f0-9392-231a19a7aa4f"
    },
    "slide_helper": "slide_end",
    "slideshow": {
     "slide_type": "subslide"
    }
   },
   "source": [
    "## NSGA-II fitness assigment in detail\n",
    "\n",
    "* The first step consists in classifying the individuals in a series of categories $\\mathcal{F}_1,\\ldots,\\mathcal{F}_L$. \n",
    "* Each of these categories store individuals that are only dominated by the elements of the previous categories,\n",
    "$$\n",
    "\\begin{array}{rl}\n",
    "\t\\forall \\vec{x}\\in\\mathcal{F}_i: &\\exists \\vec{y}\\in\\mathcal{F}_{i-1} \\text{ such that } \\vec{y}\\preccurlyeq\\vec{x},\\text{ and }\\\\ \n",
    "\t                            &\\not\\exists\\vec{z}\\in \\mathcal{P}_t\\setminus\\left( \\mathcal{F}_1\\cup\\ldots\\cup\\mathcal{F}_{i-1}\n",
    "\t                            \\right)\\text{ that }\\vec{z}\\preccurlyeq\\vec{x}\\,;\n",
    "\\end{array}\n",
    "$$\n",
    "with $\\mathcal{F}_1$ equal to $\\mathcal{P}_t^\\ast$, the set of non-dominated individuals of $\\mathcal{P}_t$.\n",
    "\n",
    "* After all individuals are ranked a local crowding distance is assigned to them. \n",
    "* The use of this distance primes individuals more isolated with respect to others. "
   ]
  },
  {
   "cell_type": "markdown",
   "metadata": {
    "internals": {
     "frag_helper": "fragment_end",
     "frag_number": 12,
     "slide_helper": "subslide_end",
     "slide_type": "subslide"
    },
    "nbpresent": {
     "id": "35a97d88-06fd-4214-b66d-718b86c22097"
    },
    "slide_helper": "slide_end",
    "slideshow": {
     "slide_type": "subslide"
    }
   },
   "source": [
    "## Crowding distance\n",
    "* For each category set $\\mathcal{F}_l$, having $f_l=|\\mathcal{F}_l|$,\n",
    "    * for each individual $\\vec{x}_i\\in\\mathcal{F}_l$, set $d_{i}=0$.\n",
    "    * for each objective function $m=1,\\ldots,M$,\n",
    "        * $\\mathbf{I}=\\mathrm{sort}\\left(\\mathcal{F}_l,m\\right)$ (generate index vector).\n",
    "        * $d_{I_1}^{(l)}=d_{I_{f_l}}^{(l)}=\\infty$. $\\leftarrow$ **key element!**\n",
    "        * for $i=2,\\ldots,f_l-1$,\n",
    "            * Update distances as,\n",
    "$$\n",
    "d_i = d_i + \\frac{f_m\\left(\\vec{x}_{I_{i+1}}\\right)-f_m\\left(\\vec{x}_{I_{i+1}}\\right)} {f_m\\left(\\vec{x}_{I_{1}}\\right)-f_m\\left(\\vec{x}_{I_{f_l}}\\right)}$$\n",
    "\n",
    "Here the $\\mathrm{sort}\\left(\\mathcal{F},m\\right)$ function produces an ordered index vector $\\mathbf{I}$ with respect to objective function $m$. "
   ]
  },
  {
   "cell_type": "markdown",
   "metadata": {
    "internals": {
     "frag_helper": "fragment_end",
     "frag_number": 12,
     "slide_helper": "subslide_end",
     "slide_type": "subslide"
    },
    "nbpresent": {
     "id": "2f1b9eab-6507-4392-9075-589b0eed8942"
    },
    "slide_helper": "slide_end",
    "slideshow": {
     "slide_type": "subslide"
    }
   },
   "source": [
    "Sorting the population by rank and distance.\n",
    "\n",
    "* Having the individual ranks and their local distances they are sorted using the crowded comparison operator, stated as: \n",
    "    * An individual $\\vec{x}_i$ _is better than_ $\\vec{x}_j$ if:\n",
    "        * $\\vec{x}_i$ has a better rank: $\\mathrm{x}_i\\in\\mathcal{F}_k$, $\\vec{x}_j\\in\\mathcal{F}_l$ and $k<l$, or;\n",
    "        * if $k=l$ and $d_i>d_j$.\n",
    "        \n",
    "**$\\rightarrow$ Now we have key element of the the non-dominated sorting GA.**"
   ]
  },
  {
   "cell_type": "markdown",
   "metadata": {
    "internals": {
     "frag_helper": "fragment_end",
     "frag_number": 12,
     "slide_helper": "subslide_end",
     "slide_type": "subslide"
    },
    "nbpresent": {
     "id": "eb9326e6-a3cb-4d0a-9bdf-e04410355aff"
    },
    "slide_helper": "slide_end",
    "slideshow": {
     "slide_type": "slide"
    }
   },
   "source": [
    "## Implementing NSGA-II\n",
    "\n",
    "We will deal with [DTLZ3](http://www.tik.ee.ethz.ch/sop/download/supplementary/testproblems/dtlz3/), which is a more difficult test problem.\n",
    "\n",
    "* DTLZ problems can be configured to have as many objectives as desired.\n",
    "* As we want to visualize results we will stick to two objectives.\n",
    "* The Pareto-optimal front of DTLZ3 lies in the first [orthant](http://en.wikipedia.org/wiki/Orthant) of a unit (radius 1) hypersphere located at the coordinate origin ($\\vec{0}$).\n",
    "* It has many local optima that run parallel to the global optima and render the optimization process more complicated."
   ]
  },
  {
   "cell_type": "markdown",
   "metadata": {
    "slideshow": {
     "slide_type": "slide"
    }
   },
   "source": [
    "<div class=\"container-fluid\">\n",
    "  <div class=\"row\">\n",
    "      <div class=\"col-md-3\"><span/></div>\n",
    "      <div class=\"col-md-6\">\n",
    "      <div class='well well-sm'>\n",
    "              <img src='https://www.cs.cinvestav.mx/~emoobook/apendix-e/galeria4/dtlz3a.jpg'/>\n",
    "              <span><small>From: Coello Coello, Lamont and Van Veldhuizen (2007) *Evolutionary Algorithms for Solving Multi-Objective Problems*, Second Edition. Springer [Appendix E](http://www.cs.cinvestav.mx/~emoobook/apendix-e/apendix-e.html).</small></span>\n",
    "      </div>\n",
    "      </div>\n",
    "      <div class=\"col-md-3\" align='center'><span/></div>\n",
    "  </div>\n",
    "</div>"
   ]
  },
  {
   "cell_type": "markdown",
   "metadata": {
    "internals": {
     "frag_helper": "fragment_end",
     "frag_number": 12,
     "slide_type": "subslide"
    },
    "nbpresent": {
     "id": "608f59d8-90c7-4564-ba0a-761571204f96"
    },
    "slideshow": {
     "slide_type": "slide"
    }
   },
   "source": [
    "Preparing a new `toolbox` instance with the necessary components."
   ]
  },
  {
   "cell_type": "code",
   "execution_count": null,
   "metadata": {
    "collapsed": true,
    "internals": {
     "frag_helper": "fragment_end",
     "frag_number": 12
    },
    "nbpresent": {
     "id": "c55868cf-4170-4a35-8079-842c07c89c4d"
    },
    "slideshow": {
     "slide_type": "fragment"
    }
   },
   "outputs": [],
   "source": [
    "toolbox = base.Toolbox()"
   ]
  },
  {
   "cell_type": "markdown",
   "metadata": {},
   "source": [
    "Define problem domain as $\\vec{x}\\in\\left[0,1\\right]^{30}$ and a two-objective DTLZ3 instance."
   ]
  },
  {
   "cell_type": "code",
   "execution_count": null,
   "metadata": {
    "collapsed": true,
    "internals": {
     "frag_helper": "fragment_end",
     "frag_number": 12
    },
    "nbpresent": {
     "id": "df258788-b3e7-4b67-ab71-1df841724458"
    },
    "slideshow": {
     "slide_type": "fragment"
    }
   },
   "outputs": [],
   "source": [
    "BOUND_LOW, BOUND_UP = 0.0, 1.0\n",
    "N_DIMS = 30\n",
    "toolbox.register(\"evaluate\", lambda ind: benchmarks.dtlz3(ind, 2))"
   ]
  },
  {
   "cell_type": "markdown",
   "metadata": {
    "internals": {
     "frag_helper": "fragment_end",
     "frag_number": 12
    },
    "nbpresent": {
     "id": "db970f2a-04fe-41b7-81a5-26c117760c29"
    },
    "slideshow": {
     "slide_type": "slide"
    }
   },
   "source": [
    "Describing attributes, individuals and population and defining the selection, mating and mutation operators."
   ]
  },
  {
   "cell_type": "code",
   "execution_count": null,
   "metadata": {
    "collapsed": true,
    "internals": {
     "frag_helper": "fragment_end",
     "frag_number": 12
    },
    "nbpresent": {
     "id": "8c2a43e4-93f9-4628-93f4-80748a4de5a2"
    },
    "slideshow": {
     "slide_type": "-"
    }
   },
   "outputs": [],
   "source": [
    "toolbox.register(\"attr_float\", uniform, BOUND_LOW, BOUND_UP, N_DIM)\n",
    "toolbox.register(\n",
    "    \"individual\", tools.initIterate, creator.Individual2Obj, toolbox.attr_float\n",
    ")\n",
    "toolbox.register(\"population\", tools.initRepeat, list, toolbox.individual)\n",
    "toolbox.register(\n",
    "    \"mate\", tools.cxSimulatedBinaryBounded, low=BOUND_LOW, up=BOUND_UP, eta=20.0\n",
    ")\n",
    "toolbox.register(\n",
    "    \"mutate\",\n",
    "    tools.mutPolynomialBounded,\n",
    "    low=BOUND_LOW,\n",
    "    up=BOUND_UP,\n",
    "    eta=20.0,\n",
    "    indpb=1.0 / N_DIM,\n",
    ")\n",
    "toolbox.register(\"select\", tools.selNSGA2)"
   ]
  },
  {
   "cell_type": "markdown",
   "metadata": {
    "internals": {
     "frag_helper": "fragment_end",
     "frag_number": 12
    },
    "nbpresent": {
     "id": "7f6972f7-0655-4549-bd67-f34a47f956f3"
    },
    "slideshow": {
     "slide_type": "slide"
    }
   },
   "source": [
    "Let's also use the `toolbox` to store other configuration parameters of the algorithm. This will show itself usefull when performing massive experiments."
   ]
  },
  {
   "cell_type": "code",
   "execution_count": null,
   "metadata": {
    "collapsed": true,
    "internals": {
     "frag_helper": "fragment_end",
     "frag_number": 12,
     "slide_helper": "subslide_end"
    },
    "nbpresent": {
     "id": "2f0582c6-0d23-4306-bd51-4c080c177992"
    },
    "slide_helper": "slide_end",
    "slideshow": {
     "slide_type": "-"
    }
   },
   "outputs": [],
   "source": [
    "toolbox.pop_size = 50\n",
    "toolbox.max_gen = 100\n",
    "toolbox.mut_prob = 0.2"
   ]
  },
  {
   "cell_type": "markdown",
   "metadata": {
    "internals": {
     "frag_helper": "fragment_end",
     "frag_number": 12,
     "slide_type": "subslide"
    },
    "nbpresent": {
     "id": "74e8fa37-f51d-4d79-927e-d6f66c184cb0"
    },
    "slideshow": {
     "slide_type": "slide"
    }
   },
   "source": [
    "## A compact NSGA-II implementation\n",
    "\n",
    "Storing all the required information in the `toolbox` and using DEAP's `algorithms.eaMuPlusLambda` function allows us to create a very compact -albeit not a 100% exact copy of the original- implementation of NSGA-II."
   ]
  },
  {
   "cell_type": "code",
   "execution_count": null,
   "metadata": {
    "collapsed": true,
    "internals": {
     "frag_helper": "fragment_end",
     "frag_number": 12,
     "slide_helper": "subslide_end"
    },
    "nbpresent": {
     "id": "b61530d8-bc78-4d6f-8b38-81f304f9422c"
    },
    "slide_helper": "slide_end",
    "slideshow": {
     "slide_type": "-"
    }
   },
   "outputs": [],
   "source": [
    "def run_ea(toolbox, stats=None, verbose=False):\n",
    "    pop = toolbox.population(n=toolbox.pop_size)\n",
    "    pop = toolbox.select(pop, len(pop))\n",
    "    return algorithms.eaMuPlusLambda(\n",
    "        pop,\n",
    "        toolbox,\n",
    "        mu=toolbox.pop_size,\n",
    "        lambda_=toolbox.pop_size,\n",
    "        cxpb=1 - toolbox.mut_prob,\n",
    "        mutpb=toolbox.mut_prob,\n",
    "        stats=stats,\n",
    "        ngen=toolbox.max_gen,\n",
    "        verbose=verbose,\n",
    "    )"
   ]
  },
  {
   "cell_type": "markdown",
   "metadata": {
    "slideshow": {
     "slide_type": "slide"
    }
   },
   "source": [
    "# Running NSGA-II on DTLZ3"
   ]
  },
  {
   "cell_type": "code",
   "execution_count": null,
   "metadata": {},
   "outputs": [],
   "source": [
    "%time res,_ = run_ea(toolbox)"
   ]
  },
  {
   "cell_type": "markdown",
   "metadata": {
    "slideshow": {
     "slide_type": "fragment"
    }
   },
   "source": [
    "We can now get the Pareto fronts from the final population stored in `res`."
   ]
  },
  {
   "cell_type": "code",
   "execution_count": null,
   "metadata": {
    "collapsed": true,
    "slideshow": {
     "slide_type": "slide"
    }
   },
   "outputs": [],
   "source": [
    "fronts = tools.emo.sortNondominated(res, len(res))"
   ]
  },
  {
   "cell_type": "code",
   "execution_count": null,
   "metadata": {
    "slideshow": {
     "slide_type": "fragment"
    }
   },
   "outputs": [],
   "source": [
    "plot_colors = mpl.cm.Set1(np.linspace(0, 1, len(fronts)))\n",
    "fig, ax = plt.subplots(1, figsize=(4, 4))\n",
    "for i, inds in enumerate(fronts):\n",
    "    par = [toolbox.evaluate(ind) for ind in inds]\n",
    "    df = pd.DataFrame(par)\n",
    "    df.plot(\n",
    "        ax=ax,\n",
    "        kind=\"scatter\",\n",
    "        label=\"Front \" + str(i + 1),\n",
    "        x=df.columns[0],\n",
    "        y=df.columns[1],\n",
    "        color=plot_colors[i],\n",
    "    )\n",
    "plt.xlabel(\"$f_1()$\")\n",
    "plt.ylabel(\"$f_2()$\")\n",
    "plt.legend(frameon=True);"
   ]
  },
  {
   "cell_type": "markdown",
   "metadata": {
    "internals": {
     "frag_helper": "fragment_end",
     "frag_number": 12,
     "slide_type": "subslide"
    },
    "nbpresent": {
     "id": "19bac282-5831-4b02-8af8-67cccd13f5b2"
    },
    "slideshow": {
     "slide_type": "slide"
    }
   },
   "source": [
    "## Animating the evolutionary process\n",
    "\n",
    "* It is better to make an animated plot of the evolution as it takes place.\n",
    "* We create a `stats` to store the individuals not only their objective function values."
   ]
  },
  {
   "cell_type": "code",
   "execution_count": null,
   "metadata": {
    "collapsed": true,
    "internals": {
     "frag_helper": "fragment_end",
     "frag_number": 12
    },
    "nbpresent": {
     "id": "b3de5ec2-4e2d-4099-bd29-30befceffcdd"
    },
    "slideshow": {
     "slide_type": "fragment"
    }
   },
   "outputs": [],
   "source": [
    "stats = tools.Statistics()\n",
    "stats.register(\"pop\", copy.deepcopy)"
   ]
  },
  {
   "cell_type": "code",
   "execution_count": null,
   "metadata": {
    "internals": {
     "frag_helper": "fragment_end",
     "frag_number": 12,
     "slide_helper": "subslide_end"
    },
    "nbpresent": {
     "id": "09fd64f6-7c19-42cd-a2bd-03d1f48c686c"
    },
    "slide_helper": "subslide_end",
    "slideshow": {
     "slide_type": "fragment"
    }
   },
   "outputs": [],
   "source": [
    "%time res, logbook = run_ea(toolbox, stats=stats)"
   ]
  },
  {
   "cell_type": "code",
   "execution_count": null,
   "metadata": {
    "collapsed": true,
    "slideshow": {
     "slide_type": "skip"
    }
   },
   "outputs": [],
   "source": [
    "def animate(frame_index, logbook):\n",
    "    \"Updates all plots to match frame _i_ of the animation.\"\n",
    "    ax.clear()\n",
    "    fronts = tools.emo.sortLogNondominated(\n",
    "        logbook.select(\"pop\")[frame_index], len(logbook.select(\"pop\")[frame_index])\n",
    "    )\n",
    "    plot_colors = mpl.cm.Set1(np.linspace(0, 1, len(fronts)))\n",
    "    for i, inds in enumerate(fronts):\n",
    "        par = [toolbox.evaluate(ind) for ind in inds]\n",
    "        df = pd.DataFrame(par)\n",
    "        df.plot(\n",
    "            ax=ax,\n",
    "            kind=\"scatter\",\n",
    "            label=\"Front \" + str(i + 1),\n",
    "            x=df.columns[0],\n",
    "            y=df.columns[1],\n",
    "            alpha=0.92,\n",
    "            color=plot_colors[i],\n",
    "        )\n",
    "\n",
    "    ax.set_title(\"$t=$\" + str(frame_index))\n",
    "    ax.set_xlabel(\"$f_1(\\mathbf{x})$\")\n",
    "    ax.set_ylabel(\"$f_2(\\mathbf{x})$\")\n",
    "    return []"
   ]
  },
  {
   "cell_type": "code",
   "execution_count": null,
   "metadata": {
    "collapsed": true,
    "nbpresent": {
     "id": "5b6dc236-222e-43e7-875f-68d072ebcd91"
    },
    "slideshow": {
     "slide_type": "slide"
    }
   },
   "outputs": [],
   "source": [
    "fig = plt.figure(figsize=(5, 5))\n",
    "ax = fig.gca()\n",
    "anim = animation.FuncAnimation(\n",
    "    fig, lambda i: animate(i, logbook), frames=len(logbook), interval=200, blit=True\n",
    ")\n",
    "plt.tight_layout()\n",
    "plt.close()"
   ]
  },
  {
   "cell_type": "markdown",
   "metadata": {
    "slideshow": {
     "slide_type": "slide"
    }
   },
   "source": [
    "## The evolutionary process\n",
    "\n",
    "It is clearly visible how the algorithm \"jumps\" from one local-optimum to a better one as evolution takes place."
   ]
  },
  {
   "cell_type": "code",
   "execution_count": null,
   "metadata": {
    "nbpresent": {
     "id": "d4cc2b3c-498c-4f0b-9786-27059e63a7ac"
    },
    "scrolled": false,
    "slideshow": {
     "slide_type": "-"
    }
   },
   "outputs": [],
   "source": [
    "HTML(anim.to_jshtml())"
   ]
  },
  {
   "cell_type": "markdown",
   "metadata": {
    "nbpresent": {
     "id": "d195cb1a-d7f6-480e-ac23-c5ff60003b0e"
    },
    "slideshow": {
     "slide_type": "slide"
    }
   },
   "source": [
    "## MOP benchmark problem toolkits\n",
    "\n",
    "Each problem instance is meant to test the algorithms with regard with a given feature: local optima, convexity, discontinuity, bias, or a combination of them.\n",
    "\n",
    "* [*ZDT1-6*](http://www.tik.ee.ethz.ch/sop/download/supplementary/testproblems/): Two-objective problems with a fixed number of decision variables.\n",
    "     * E. Zitzler, K. Deb, and L. Thiele. Comparison of Multiobjective Evolutionary Algorithms: Empirical Results. Evolutionary Computation, 8(2):173-195, 2000. ([pdf](http://www.tik.ee.ethz.ch/sop/publicationListFiles/zdt2000a.pdf))\n",
    "* [*DTLZ1-7*](http://www.tik.ee.ethz.ch/sop/download/supplementary/testproblems/): $m$-objective problems with $n$ variables.\n",
    "     * K. Deb, L. Thiele, M. Laumanns and E. Zitzler. Scalable Multi-Objective Optimization Test Problems. CEC 2002, p. 825 - 830, IEEE Press, 2002. ([pdf](http://www.tik.ee.ethz.ch/sop/publicationListFiles/dtlz2002a.pdf))"
   ]
  },
  {
   "cell_type": "markdown",
   "metadata": {
    "nbpresent": {
     "id": "6b194ea5-c41d-4b7b-a134-3693316a8ed1"
    },
    "slideshow": {
     "slide_type": "slide"
    }
   },
   "source": [
    "* [*CEC'09*](http://dces.essex.ac.uk/staff/zhang/moeacompetition09.htm): Two- and three- objective problems that very complex Pareto sets.\n",
    "    * Zhang, Q., Zhou, A., Zhao, S., & Suganthan, P. N. (2009). Multiobjective optimization test instances for the CEC 2009 special session and competition. In 2009 IEEE Congress on Evolutionary Computation (pp. 1–30). ([pdf](http://dces.essex.ac.uk/staff/zhang/MOEAcompetition/cec09testproblem0904.pdf.pdf))\n",
    "* [*WFG1-9*](http://www.wfg.csse.uwa.edu.au/publications.html#toolkit): $m$-objective problems with $n$ variables, very complex.\n",
    "    * Huband, S., Hingston, P., Barone, L., & While, L. (2006). A review of multiobjective test problems and a scalable test problem toolkit. IEEE Transactions on Evolutionary Computation, 10(5), 477–506. doi:10.1109/TEVC.2005.861417"
   ]
  },
  {
   "cell_type": "code",
   "execution_count": null,
   "metadata": {
    "nbpresent": {
     "id": "908243fb-d6dc-47d7-b8d3-f8e785bf22d3"
    },
    "slideshow": {
     "slide_type": "slide"
    }
   },
   "outputs": [],
   "source": [
    "from IPython.display import YouTubeVideo\n",
    "\n",
    "YouTubeVideo(\"8t-aWcpDH0U\")"
   ]
  },
  {
   "cell_type": "markdown",
   "metadata": {
    "slideshow": {
     "slide_type": "slide"
    }
   },
   "source": [
    "# Performance analysis and experiment design\n",
    "\n",
    "* Watching an animation of an EMO algorithm solve a problem is certainly fun. \n",
    "* It also allows us to understand many particularities of the problem being solved.\n",
    "* But, as [Carlos Coello](http://delta.cs.cinvestav.mx/~ccoello/) would say, we are *not* in an art appreciation class.\n",
    "* We should follow the key concepts provided by the [scientific method](http://en.wikipedia.org/wiki/Scientific_method).\n",
    "* I urge you to study the [experimental design](http://en.wikipedia.org/wiki/Design_of_experiments) topic in depth as it is an essential knowledge.\n",
    "\n",
    "**Evolutionary algorithms are stochastic algorithms, therefore their results must be assessed by repeating experiments until you reach an statistically valid conclusion.** "
   ]
  },
  {
   "cell_type": "markdown",
   "metadata": {
    "slideshow": {
     "slide_type": "slide"
    }
   },
   "source": [
    "## Assessing MOEA performance\n",
    "\n",
    "* Visual assessment: Plot the non-dominated fronts and compare them.\n",
    "* Express the quality of the approximation in terms of a performance indicator:\n",
    "   * Hypervolume indicator,\n",
    "   * Additive/multiplicative epsilon indicator,\n",
    "   * R2 indicator,\n",
    "   * Inverted Generational distance indicator, etc."
   ]
  },
  {
   "cell_type": "markdown",
   "metadata": {
    "internals": {
     "frag_helper": "fragment_end",
     "frag_number": 103,
     "slide_helper": "subslide_end",
     "slide_type": "subslide"
    },
    "slide_helper": "slide_end",
    "slideshow": {
     "slide_type": "slide"
    }
   },
   "source": [
    "# The hypervolume indicator\n",
    "\n",
    "<div class=\"container-fluid\">\n",
    "  <div class=\"row\">\n",
    "      <div class=\"col-md-1\"><span/></div>\n",
    "      <div class=\"col-md-4\">\n",
    "      <div class='well well-sm'>\n",
    "              <img src='imgs/hv.png'>\n",
    "      </div>\n",
    "      <div class=\"col-md-2\"><span/></div>\n",
    "      </div>\n",
    "      <div class=\"col-md-4\">\n",
    "      <div class='well well-sm'>\n",
    "              <img src='imgs/hv3d.png'>\n",
    "              <small>From Günter Rudolph's [site on the hypervolume indicator](https://ls11-www.cs.uni-dortmund.de/rudolph/hypervolume/start).</small>\n",
    "      </div>\n",
    "      </div>\n",
    "      <div class=\"col-md-1\"><span/></div>\n",
    "  </div>\n",
    "</div>"
   ]
  },
  {
   "cell_type": "markdown",
   "metadata": {
    "internals": {
     "frag_helper": "fragment_end",
     "frag_number": 103,
     "slide_helper": "subslide_end",
     "slide_type": "subslide"
    },
    "slide_helper": "slide_end",
    "slideshow": {
     "slide_type": "slide"
    }
   },
   "source": [
    "## Formalization of the hypervolume\n",
    "\n",
    "For a set of solutions $\\mathcal{A}$,\n",
    "$$\n",
    "I_\\mathrm{hyp}\\left(\\mathcal{A}\\right) = \\mathrm{volume}\\left(\n",
    "\t\t\t\t\t\\bigcup_{\\forall \\mathbf{a}\\in\\mathcal{A}}{\\mathrm{hypercube}(\\mathbf{a},\\mathbf{r})}\\right)\\,.\n",
    "$$\n",
    "\n",
    "* We need a *reference point*, $\\mathbf{r}$.\n",
    "* Hypervolume is Pareto compliant (Fleischer, 2003): for sets $\\mathcal{A}$ and $\\mathcal{B}$, $\\mathcal{A}\\preccurlyeq\\mathcal{B} \\implies I_\\mathrm{hyp}(A)>I_\\mathrm{hyp}(B)$.\n",
    "* Calculating hypervolume is **#P-hard**, i.e. superpolynomial runtime unless **P** = **NP** (Bringmann and Friedrich, 2008)."
   ]
  },
  {
   "cell_type": "markdown",
   "metadata": {
    "slideshow": {
     "slide_type": "slide"
    }
   },
   "source": [
    "## Hypervolume as the evolution took place"
   ]
  },
  {
   "cell_type": "code",
   "execution_count": null,
   "metadata": {
    "collapsed": true,
    "slideshow": {
     "slide_type": "fragment"
    }
   },
   "outputs": [],
   "source": [
    "fronts = [\n",
    "    tools.sortLogNondominated(pop, k=len(pop), first_front_only=True)\n",
    "    for pop in logbook.select(\"pop\")\n",
    "]"
   ]
  },
  {
   "cell_type": "code",
   "execution_count": null,
   "metadata": {
    "slideshow": {
     "slide_type": "fragment"
    }
   },
   "outputs": [],
   "source": [
    "reference = (\n",
    "    np.max(\n",
    "        [np.max([ind.fitness.values for ind in front], axis=0) for front in fronts],\n",
    "        axis=0,\n",
    "    )\n",
    "    + 1\n",
    ")\n",
    "print(reference)"
   ]
  },
  {
   "cell_type": "code",
   "execution_count": null,
   "metadata": {
    "collapsed": true,
    "slideshow": {
     "slide_type": "fragment"
    }
   },
   "outputs": [],
   "source": [
    "import deap.benchmarks.tools as bt"
   ]
  },
  {
   "cell_type": "code",
   "execution_count": null,
   "metadata": {
    "collapsed": true,
    "slideshow": {
     "slide_type": "-"
    }
   },
   "outputs": [],
   "source": [
    "hypervols = [bt.hypervolume(front, reference) for front in fronts]"
   ]
  },
  {
   "cell_type": "code",
   "execution_count": null,
   "metadata": {
    "slideshow": {
     "slide_type": "slide"
    }
   },
   "outputs": [],
   "source": [
    "plt.figure(figsize=(7, 4))\n",
    "plt.plot(hypervols)\n",
    "plt.title(\"Hypervolume of the non-dominated fronts\")\n",
    "plt.xlabel(\"Iterations\")\n",
    "plt.ylabel(\"Hypervolume\");"
   ]
  },
  {
   "cell_type": "markdown",
   "metadata": {
    "slideshow": {
     "slide_type": "slide"
    }
   },
   "source": [
    "# Experimental set up\n",
    "### An illustrative simple/sample case\n",
    "\n",
    "Let's make a relatively simple but very important experiment:\n",
    "\n",
    "### Question: \n",
    "* In our NSGA-II applied to a two-objective DTLZ3 problem: \n",
    "> Is it more important to have a big population and let the algorithm run for a few iterations or is better to have a small population and let the algorithm run for larger number of iterations?\n",
    "\n",
    "### Procedure: \n",
    "* We must perform an experiment testing different population sizes and maximum number of iterations while keeping the other parameters constant."
   ]
  },
  {
   "cell_type": "markdown",
   "metadata": {
    "slideshow": {
     "slide_type": "slide"
    }
   },
   "source": [
    "### Notation\n",
    "\n",
    "As usual we need to establish some notation:\n",
    "\n",
    "* *Multi-objective problem* (or just *problem*): A multi-objective optimization problem, as defined above.\n",
    "* *MOEA*: An evolutionary computation method used to solve multi-objective problems.\n",
    "* *Experiment*: a combination of problem and MOEA and a set of values of their parameters.\n",
    "* *Experiment run*: The result of running an experiment.\n",
    "* We will use `toolbox` instances to define experiments. "
   ]
  },
  {
   "cell_type": "markdown",
   "metadata": {
    "slideshow": {
     "slide_type": "slide"
    }
   },
   "source": [
    "We start by creating a `toolbox` that will contain the configuration that will be shared across all experiments."
   ]
  },
  {
   "cell_type": "code",
   "execution_count": null,
   "metadata": {
    "collapsed": true,
    "slideshow": {
     "slide_type": "fragment"
    }
   },
   "outputs": [],
   "source": [
    "toolbox = base.Toolbox()"
   ]
  },
  {
   "cell_type": "code",
   "execution_count": null,
   "metadata": {
    "collapsed": true,
    "slideshow": {
     "slide_type": "fragment"
    }
   },
   "outputs": [],
   "source": [
    "BOUND_LOW, BOUND_UP = 0.0, 1.0\n",
    "NDIM = 30\n",
    "\n",
    "\n",
    "# the explanation of this... a few lines bellow\n",
    "def eval_helper(ind):\n",
    "    return benchmarks.dtlz3(ind, 2)\n",
    "\n",
    "\n",
    "toolbox.register(\"evaluate\", eval_helper)"
   ]
  },
  {
   "cell_type": "code",
   "execution_count": null,
   "metadata": {
    "collapsed": true,
    "slideshow": {
     "slide_type": "subslide"
    }
   },
   "outputs": [],
   "source": [
    "def uniform(low, up, size=None):\n",
    "    try:\n",
    "        return [random.uniform(a, b) for a, b in zip(low, up)]\n",
    "    except TypeError:\n",
    "        return [random.uniform(a, b) for a, b in zip([low] * size, [up] * size)]\n",
    "\n",
    "\n",
    "toolbox.register(\"attr_float\", uniform, BOUND_LOW, BOUND_UP, NDIM)\n",
    "toolbox.register(\n",
    "    \"individual\", tools.initIterate, creator.Individual2Obj, toolbox.attr_float\n",
    ")\n",
    "toolbox.register(\"population\", tools.initRepeat, list, toolbox.individual)\n",
    "\n",
    "toolbox.register(\n",
    "    \"mate\", tools.cxSimulatedBinaryBounded, low=BOUND_LOW, up=BOUND_UP, eta=20.0\n",
    ")\n",
    "toolbox.register(\n",
    "    \"mutate\",\n",
    "    tools.mutPolynomialBounded,\n",
    "    low=BOUND_LOW,\n",
    "    up=BOUND_UP,\n",
    "    eta=20.0,\n",
    "    indpb=1.0 / NDIM,\n",
    ")\n",
    "\n",
    "toolbox.register(\"select\", tools.selNSGA2)\n",
    "\n",
    "toolbox.mut_prob = 0.15"
   ]
  },
  {
   "cell_type": "markdown",
   "metadata": {
    "slideshow": {
     "slide_type": "slide"
    }
   },
   "source": [
    "We add a `experiment_name` to `toolbox` that we will fill up later on. \n",
    "* $n_\\mathrm{pop}$ denotes the population size, and \n",
    "* $t_\\mathrm{max}$ the max. number of iterations."
   ]
  },
  {
   "cell_type": "code",
   "execution_count": null,
   "metadata": {
    "collapsed": true
   },
   "outputs": [],
   "source": [
    "experiment_name = \"$n_\\mathrm{{pop}}={0};\\ t_\\mathrm{{max}}={1}$\""
   ]
  },
  {
   "cell_type": "markdown",
   "metadata": {
    "slideshow": {
     "slide_type": "slide"
    }
   },
   "source": [
    "We can now replicate the `toolbox` instance and then modify $n_\\mathrm{pop}$ and $t_\\mathrm{max}$."
   ]
  },
  {
   "cell_type": "code",
   "execution_count": null,
   "metadata": {
    "collapsed": true
   },
   "outputs": [],
   "source": [
    "total_evals = 500"
   ]
  },
  {
   "cell_type": "code",
   "execution_count": null,
   "metadata": {
    "collapsed": true
   },
   "outputs": [],
   "source": [
    "pop_sizes = (10, 50, 100)"
   ]
  },
  {
   "cell_type": "code",
   "execution_count": null,
   "metadata": {
    "collapsed": true,
    "slideshow": {
     "slide_type": "fragment"
    }
   },
   "outputs": [],
   "source": [
    "toolboxes = list([copy.deepcopy(toolbox) for _ in range(len(pop_sizes))])"
   ]
  },
  {
   "cell_type": "markdown",
   "metadata": {
    "slideshow": {
     "slide_type": "slide"
    }
   },
   "source": [
    "Now `toolboxes` is a list of copies of the same toolbox. One for each experiment configuration (population size)."
   ]
  },
  {
   "cell_type": "markdown",
   "metadata": {},
   "source": [
    "...but we still have to set the population sizes in the elements of `toolboxes`."
   ]
  },
  {
   "cell_type": "code",
   "execution_count": null,
   "metadata": {
    "collapsed": true,
    "slideshow": {
     "slide_type": "fragment"
    }
   },
   "outputs": [],
   "source": [
    "for pop_size, toolbox in zip(pop_sizes, toolboxes):\n",
    "    toolbox.pop_size = pop_size\n",
    "    toolbox.max_gen = total_evals // pop_size\n",
    "    toolbox.experiment_name = experiment_name.format(toolbox.pop_size, toolbox.max_gen)"
   ]
  },
  {
   "cell_type": "code",
   "execution_count": null,
   "metadata": {
    "slideshow": {
     "slide_type": "fragment"
    }
   },
   "outputs": [],
   "source": [
    "for toolbox in toolboxes:\n",
    "    print(toolbox.experiment_name, toolbox.pop_size, toolbox.max_gen)"
   ]
  },
  {
   "cell_type": "markdown",
   "metadata": {
    "slideshow": {
     "slide_type": "slide"
    }
   },
   "source": [
    "## Experiment design\n",
    "\n",
    "As we are dealing with stochastic methods their results should be reported relying on an statistical analysis.\n",
    "\n",
    "* A given  experiment (a `toolbox` instance in our case) should be repeated a *sufficient* amount of times. \n",
    "* In theory, the more runs the better, but how much in enough? In practice, we could say that about *30* runs is enough.\n",
    "* The non-dominated fronts produced by each experiment run should be compared to each other. \n",
    "* We have seen that a number of *performance indicators*, like the *hypervolume*, *additive* and *multiplicative epsilon indicators*, among others, have been proposed for that task.\n",
    "* We can use statistical visualizations like [box plots](http://en.wikipedia.org/wiki/Box_plot) or [violin plots](http://en.wikipedia.org/wiki/Violin_plot) to make a visual assessment of the indicator values produced in each run.\n",
    "* We must apply a set of [statistical hypothesis tests](http://en.wikipedia.org/wiki/Statistical_hypothesis_testing) in order to reach an statistically valid judgment of the results of an algorithms. "
   ]
  },
  {
   "cell_type": "markdown",
   "metadata": {
    "slideshow": {
     "slide_type": "notes"
    }
   },
   "source": [
    "_Note_: I personally like the number [42](http://en.wikipedia.org/wiki/42_%28number%29) as it is the [answer to The Ultimate Question of Life, the Universe, and Everything](http://en.wikipedia.org/wiki/Phrases_from_The_Hitchhiker%27s_Guide_to_the_Galaxy#Answer_to_the_Ultimate_Question_of_Life.2C_the_Universe.2C_and_Everything_.2842.29)."
   ]
  },
  {
   "cell_type": "code",
   "execution_count": null,
   "metadata": {
    "collapsed": true,
    "slideshow": {
     "slide_type": "fragment"
    }
   },
   "outputs": [],
   "source": [
    "number_of_runs = 42"
   ]
  },
  {
   "cell_type": "markdown",
   "metadata": {
    "slideshow": {
     "slide_type": "slide"
    }
   },
   "source": [
    "## Running experiments in parallel \n",
    "\n",
    "As we are now solving more demanding problems it would be nice to make our algorithms to run in parallel and profit from modern multi-core CPUs.\n",
    "\n",
    "* In DEAP it is very simple to parallelize an algorithm (if it has been properly programmed) by providing a parallel `map()` function via the `toolbox`.\n",
    "* Local parallelization can be achieved using Python's [`multiprocessing`](https://docs.python.org/2/library/multiprocessing.html) or [`concurrent.futures`](https://docs.python.org/3/library/concurrent.futures.html) modules.\n",
    "* Cluster parallelization can be achieved using IPython Parallel or [SCOOP](http://en.wikipedia.org/wiki/Python_SCOOP_%28software%29)."
   ]
  },
  {
   "cell_type": "markdown",
   "metadata": {
    "slideshow": {
     "slide_type": "skip"
    }
   },
   "source": [
    "### Progress feedback\n",
    "\n",
    "* Another issue with these long experiments has to do being patient.\n",
    "* A little bit of feedback on the experiment execution would be cool.\n",
    "* We can use the integer progress bar from [IPython widgets](http://nbviewer.ipython.org/github/jvns/ipython/blob/master/examples/Interactive%20Widgets/Index.ipynb) and report every time an experiment run is finished."
   ]
  },
  {
   "cell_type": "code",
   "execution_count": null,
   "metadata": {
    "collapsed": true,
    "slideshow": {
     "slide_type": "skip"
    }
   },
   "outputs": [],
   "source": [
    "from IPython.display import display\n",
    "from ipywidgets import IntProgress"
   ]
  },
  {
   "cell_type": "markdown",
   "metadata": {
    "slideshow": {
     "slide_type": "skip"
    }
   },
   "source": [
    "### A side-effect of using process-based parallelization\n",
    "\n",
    "Process-based parallelization based on `multiprocessing` requires that the parameters passed to `map()` be [pickleable](https://docs.python.org/3.4/library/pickle.html).\n",
    "\n",
    "* The direct consequence is that `lambda` functions can not be directly used. \n",
    "* This is will certainly ruin the party to all `lambda` fans out there! *-me included*.\n",
    "* Hence we need to write some wrapper functions instead.\n",
    "* But, that wrapper function can take care of filtering out dominated individuals in the results."
   ]
  },
  {
   "cell_type": "code",
   "execution_count": null,
   "metadata": {
    "collapsed": true,
    "slideshow": {
     "slide_type": "slide"
    }
   },
   "outputs": [],
   "source": [
    "def run_algo_wrapper(toolbox):\n",
    "    result, _ = run_ea(toolbox)\n",
    "    local_pareto_set = tools.emo.sortLogNondominated(\n",
    "        result, len(result), first_front_only=True\n",
    "    )\n",
    "    return local_pareto_set"
   ]
  },
  {
   "cell_type": "markdown",
   "metadata": {
    "slideshow": {
     "slide_type": "slide"
    }
   },
   "source": [
    "# All set! Run the experiments..."
   ]
  },
  {
   "cell_type": "code",
   "execution_count": null,
   "metadata": {},
   "outputs": [],
   "source": [
    "%%time\n",
    "import concurrent.futures\n",
    "\n",
    "progress_bar = IntProgress(description=\"000/000\", max=len(toolboxes) * number_of_runs)\n",
    "display(progress_bar)\n",
    "\n",
    "results = {toolbox.experiment_name: [] for toolbox in toolboxes}\n",
    "with concurrent.futures.ProcessPoolExecutor() as executor:\n",
    "    # Submit all the tasks...\n",
    "    futures = {\n",
    "        executor.submit(run_algo_wrapper, toolbox): toolbox\n",
    "        for _ in range(number_of_runs)\n",
    "        for toolbox in toolboxes\n",
    "    }\n",
    "\n",
    "    # ...and wait for them to finish.\n",
    "    for future in concurrent.futures.as_completed(futures):\n",
    "        tb = futures[future]\n",
    "        results[tb.experiment_name].append(future.result())\n",
    "        progress_bar.value += 1\n",
    "        progress_bar.description = \"%03d/%03d:\" % (progress_bar.value, progress_bar.max)"
   ]
  },
  {
   "cell_type": "markdown",
   "metadata": {
    "slideshow": {
     "slide_type": "slide"
    }
   },
   "source": [
    "As running the experiments sometimes takes a long time, it is a good practice to store the results."
   ]
  },
  {
   "cell_type": "code",
   "execution_count": null,
   "metadata": {
    "collapsed": true
   },
   "outputs": [],
   "source": [
    "# import pickle\n",
    "# pickle.dump(results, open('nsga_ii_dtlz3-results.pickle', 'wb'))"
   ]
  },
  {
   "cell_type": "markdown",
   "metadata": {
    "slideshow": {
     "slide_type": "fragment"
    }
   },
   "source": [
    "In case you need it, this file is included in the GitHub repository.\n",
    "\n",
    "To load the results we would just have to uncomment:"
   ]
  },
  {
   "cell_type": "code",
   "execution_count": null,
   "metadata": {
    "collapsed": true
   },
   "outputs": [],
   "source": [
    "# loaded_results = pickle.load(open('nsga_ii_dtlz3-results.pickle', 'rb'))\n",
    "# results = loaded_results #  <-- uncomment if needed"
   ]
  },
  {
   "cell_type": "markdown",
   "metadata": {
    "slideshow": {
     "slide_type": "slide"
    }
   },
   "source": [
    "`results` is a dictionary, but a pandas `DataFrame` is a more handy container for the results."
   ]
  },
  {
   "cell_type": "code",
   "execution_count": null,
   "metadata": {
    "collapsed": true
   },
   "outputs": [],
   "source": [
    "res = pd.DataFrame(results)\n",
    "res = res.reindex_axis([toolbox.experiment_name for toolbox in toolboxes], axis=1)"
   ]
  },
  {
   "cell_type": "code",
   "execution_count": null,
   "metadata": {
    "slideshow": {
     "slide_type": "fragment"
    }
   },
   "outputs": [],
   "source": [
    "res.head()"
   ]
  },
  {
   "cell_type": "markdown",
   "metadata": {
    "slideshow": {
     "slide_type": "slide"
    }
   },
   "source": [
    "## A first glance at the results"
   ]
  },
  {
   "cell_type": "code",
   "execution_count": null,
   "metadata": {},
   "outputs": [],
   "source": [
    "a = res.applymap(lambda pop: [toolbox.evaluate(ind) for ind in pop])\n",
    "plt.figure(figsize=(11, 3))\n",
    "for i, col in enumerate(a.columns):\n",
    "    plt.subplot(1, len(a.columns), i + 1)\n",
    "    for pop in a[col]:\n",
    "        x = pd.DataFrame(data=pop)\n",
    "        plt.scatter(x[0], x[1], marker=\".\", alpha=0.5)\n",
    "    plt.title(col)"
   ]
  },
  {
   "cell_type": "markdown",
   "metadata": {
    "slideshow": {
     "slide_type": "slide"
    }
   },
   "source": [
    "## Calculating performance indicators\n",
    "\n",
    "* As already mentioned, we need to evaluate the quality of the solutions produced in every execution of the algorithm. \n",
    "* We will use the hypervolumne indicator for that.\n",
    "* Larger hypervolume values are better.\n",
    "* We already filtered each population a leave only the non-dominated individuals."
   ]
  },
  {
   "cell_type": "code",
   "execution_count": null,
   "metadata": {
    "collapsed": true,
    "slideshow": {
     "slide_type": "slide"
    }
   },
   "outputs": [],
   "source": [
    "def calculate_reference(results, epsilon=0.1):\n",
    "    alldata = np.concatenate(np.concatenate(results.values))\n",
    "    obj_vals = [toolbox.evaluate(ind) for ind in alldata]\n",
    "    return np.max(obj_vals, axis=0) + epsilon"
   ]
  },
  {
   "cell_type": "code",
   "execution_count": null,
   "metadata": {
    "collapsed": true
   },
   "outputs": [],
   "source": [
    "reference = calculate_reference(res)"
   ]
  },
  {
   "cell_type": "code",
   "execution_count": null,
   "metadata": {},
   "outputs": [],
   "source": [
    "reference"
   ]
  },
  {
   "cell_type": "markdown",
   "metadata": {
    "slideshow": {
     "slide_type": "slide"
    }
   },
   "source": [
    "We can now compute the hypervolume of the Pareto-optimal fronts yielded by each algorithm run."
   ]
  },
  {
   "cell_type": "code",
   "execution_count": null,
   "metadata": {
    "collapsed": true
   },
   "outputs": [],
   "source": [
    "import deap.benchmarks.tools as bt"
   ]
  },
  {
   "cell_type": "code",
   "execution_count": null,
   "metadata": {
    "collapsed": true
   },
   "outputs": [],
   "source": [
    "hypervols = res.applymap(lambda pop: bt.hypervolume(pop, reference))"
   ]
  },
  {
   "cell_type": "code",
   "execution_count": null,
   "metadata": {
    "slideshow": {
     "slide_type": "subslide"
    }
   },
   "outputs": [],
   "source": [
    "hypervols.head()"
   ]
  },
  {
   "cell_type": "markdown",
   "metadata": {
    "slideshow": {
     "slide_type": "slide"
    }
   },
   "source": [
    "# How can we interpret the indicators?"
   ]
  },
  {
   "cell_type": "markdown",
   "metadata": {
    "slideshow": {
     "slide_type": "slide"
    }
   },
   "source": [
    "## Option A: *Tabular form*"
   ]
  },
  {
   "cell_type": "code",
   "execution_count": null,
   "metadata": {
    "slideshow": {
     "slide_type": "fragment"
    }
   },
   "outputs": [],
   "source": [
    "hypervols.describe()"
   ]
  },
  {
   "cell_type": "markdown",
   "metadata": {
    "slideshow": {
     "slide_type": "slide"
    }
   },
   "source": [
    "## Option B: *Visualization*"
   ]
  },
  {
   "cell_type": "code",
   "execution_count": null,
   "metadata": {
    "slideshow": {
     "slide_type": "fragment"
    }
   },
   "outputs": [],
   "source": [
    "fig = plt.figure(figsize=(11, 4))\n",
    "plt.subplot(121, title=\"Violin plots of NSGA-II with $P_{\\mathrm{mut}}$\")\n",
    "seaborn.violinplot(data=hypervols, palette=\"Set2\")\n",
    "plt.ylabel(\"Hypervolume\")\n",
    "plt.xlabel(\"Configuration\")\n",
    "plt.xticks(rotation=11)\n",
    "plt.subplot(122, title=\"Box plots of NSGA-II with $P_{\\mathrm{mut}}$\")\n",
    "seaborn.boxplot(data=hypervols, palette=\"Set2\")\n",
    "plt.ylabel(\"Hypervolume\")\n",
    "plt.xlabel(\"Configuration\")\n",
    "plt.xticks(rotation=11)\n",
    "plt.tight_layout()"
   ]
  },
  {
   "cell_type": "markdown",
   "metadata": {
    "slideshow": {
     "slide_type": "slide"
    }
   },
   "source": [
    "## Option C: *Statistical hypothesis test*"
   ]
  },
  {
   "cell_type": "markdown",
   "metadata": {},
   "source": [
    "* Choosing the correct statistical test is essential to properly report the results.\n",
    "* [Nonparametric statistics](http://en.wikipedia.org/wiki/Nonparametric_statistics) can lend a helping hand.\n",
    "* [Parametric statistics](http://en.wikipedia.org/wiki/Parametric_statistics) could be a better choice in some cases. \n",
    "* Parametric statistics require that *all* data follow a known distribution (frequently a normal one).\n",
    "* Some tests -like the [normality test](http://en.wikipedia.org/wiki/Normality_test)- can be apply to verify that data meet the parametric stats requirements.\n",
    "* In my experience that is very unlikely that all your EMO result meet those characteristics."
   ]
  },
  {
   "cell_type": "markdown",
   "metadata": {
    "slideshow": {
     "slide_type": "skip"
    }
   },
   "source": [
    "We start by writing a function that helps us tabulate the results of the application of an statistical hypothesis test."
   ]
  },
  {
   "cell_type": "code",
   "execution_count": null,
   "metadata": {
    "collapsed": true,
    "slideshow": {
     "slide_type": "skip"
    }
   },
   "outputs": [],
   "source": [
    "import itertools\n",
    "\n",
    "import scipy.stats as stats"
   ]
  },
  {
   "cell_type": "code",
   "execution_count": null,
   "metadata": {
    "collapsed": true,
    "slideshow": {
     "slide_type": "skip"
    }
   },
   "outputs": [],
   "source": [
    "def compute_stat_matrix(data, stat_func, alpha=0.05):\n",
    "    \"\"\"A function that applies `stat_func` to all combinations of columns in `data`.\n",
    "    Returns a squared matrix with the p-values\"\"\"\n",
    "    p_values = pd.DataFrame(columns=data.columns, index=data.columns)\n",
    "    for a, b in itertools.combinations(data.columns, 2):\n",
    "        s, p = stat_func(data[a], data[b])\n",
    "        p_values[a].ix[b] = p\n",
    "        p_values[b].ix[a] = p\n",
    "    return p_values"
   ]
  },
  {
   "cell_type": "markdown",
   "metadata": {
    "slideshow": {
     "slide_type": "slide"
    }
   },
   "source": [
    "The [Kruskal-Wallis H-test](http://docs.scipy.org/doc/scipy-0.14.0/reference/generated/scipy.stats.kruskal.html) tests the null hypothesis that the population median of all of the groups are equal.\n",
    "\n",
    "* It is a non-parametric version of [ANOVA](http://en.wikipedia.org/wiki/Analysis_of_variance). \n",
    "* The test works on 2 or more independent samples, which may have different sizes. \n",
    "* Note that rejecting the null hypothesis does not indicate which of the groups differs. \n",
    "* Post-hoc comparisons between groups are required to determine which groups are different."
   ]
  },
  {
   "cell_type": "code",
   "execution_count": null,
   "metadata": {
    "slideshow": {
     "slide_type": "fragment"
    }
   },
   "outputs": [],
   "source": [
    "stats.kruskal(*[hypervols[col] for col in hypervols.columns])"
   ]
  },
  {
   "cell_type": "markdown",
   "metadata": {
    "slideshow": {
     "slide_type": "fragment"
    }
   },
   "source": [
    "We now can assert that the results are not the same but...\n",
    "* ...which ones are different or similar to the others the others?"
   ]
  },
  {
   "cell_type": "markdown",
   "metadata": {
    "slideshow": {
     "slide_type": "slide"
    }
   },
   "source": [
    "In case that the null hypothesis of the Kruskal-Wallis is rejected the Conover–Inman procedure (Conover, 1999, pp. 288-290) can be applied in a pairwise manner in order to determine if the results of one algorithm were significantly better than those of the other.\n",
    "\n",
    "* Conover, W. J. (1999). *Practical Nonparametric Statistics*. John Wiley & Sons, New York, 3rd edition.\n",
    "\n",
    "_Note_: If you want to get an extended summary of this method check out my [PhD thesis](http://lmarti.com/). "
   ]
  },
  {
   "cell_type": "code",
   "execution_count": null,
   "metadata": {
    "collapsed": true,
    "slideshow": {
     "slide_type": "skip"
    }
   },
   "outputs": [],
   "source": [
    "def conover_inman_procedure(data, alpha=0.05):\n",
    "    num_runs = len(data)\n",
    "    num_algos = len(data.columns)\n",
    "    N = num_runs * num_algos\n",
    "\n",
    "    _, p_value = stats.kruskal(*[data[col] for col in data.columns])\n",
    "\n",
    "    ranked = stats.rankdata(np.concatenate([data[col] for col in data.columns]))\n",
    "\n",
    "    ranksums = []\n",
    "    for i in range(num_algos):\n",
    "        ranksums.append(np.sum(ranked[num_runs * i : num_runs * (i + 1)]))\n",
    "\n",
    "    S_sq = (np.sum(ranked**2) - N * ((N + 1) ** 2) / 4) / (N - 1)\n",
    "\n",
    "    right_side = stats.t.cdf(1 - (alpha / 2), N - num_algos) * math.sqrt(\n",
    "        (S_sq * ((N - 1 - p_value) / (N - 1))) * 2 / num_runs\n",
    "    )\n",
    "\n",
    "    res = pd.DataFrame(columns=data.columns, index=data.columns)\n",
    "\n",
    "    for i, j in itertools.combinations(np.arange(num_algos), 2):\n",
    "        res[res.columns[i]].ix[j] = (\n",
    "            abs(ranksums[i] - ranksums[j] / num_runs) > right_side\n",
    "        )\n",
    "        res[res.columns[j]].ix[i] = (\n",
    "            abs(ranksums[i] - ranksums[j] / num_runs) > right_side\n",
    "        )\n",
    "    return res"
   ]
  },
  {
   "cell_type": "code",
   "execution_count": null,
   "metadata": {
    "slideshow": {
     "slide_type": "slide"
    }
   },
   "outputs": [],
   "source": [
    "conover_inman_procedure(hypervols)"
   ]
  },
  {
   "cell_type": "markdown",
   "metadata": {
    "slideshow": {
     "slide_type": "fragment"
    }
   },
   "source": [
    "We now know in what cases the difference is sufficient as to say that one result is better than the other."
   ]
  },
  {
   "cell_type": "markdown",
   "metadata": {
    "slideshow": {
     "slide_type": "slide"
    }
   },
   "source": [
    "Another alternative is the [Friedman test](http://en.wikipedia.org/wiki/Friedman_test).\n",
    "\n",
    "* Its null hypothesis that repeated measurements of the same individuals have the same distribution. \n",
    "* It is often used to test for consistency among measurements obtained in different ways. \n",
    "    * For example, if two measurement techniques are used on the same set of individuals, the Friedman test can be used to determine if the two measurement techniques are consistent."
   ]
  },
  {
   "cell_type": "code",
   "execution_count": null,
   "metadata": {
    "slideshow": {
     "slide_type": "fragment"
    }
   },
   "outputs": [],
   "source": [
    "measurements = [list(hypervols[col]) for col in hypervols.columns]\n",
    "stats.friedmanchisquare(*measurements)"
   ]
  },
  {
   "cell_type": "markdown",
   "metadata": {
    "slideshow": {
     "slide_type": "slide"
    }
   },
   "source": [
    "[Mann–Whitney U test](http://en.wikipedia.org/wiki/Mann%E2%80%93Whitney_U_test) (also called the Mann–Whitney–Wilcoxon (MWW), Wilcoxon rank-sum test (WRS), or Wilcoxon–Mann–Whitney test)\n",
    "* a nonparametric test,\n",
    "* null hypothesis: **that two populations are the same** against an alternative hypothesis, especially that a particular population tends to have larger values than the other.\n",
    "\n",
    "It has greater efficiency than the $t$-test on non-normal distributions, such as a mixture of normal distributions, and it is nearly as efficient as the $t$-test on normal distributions."
   ]
  },
  {
   "cell_type": "code",
   "execution_count": null,
   "metadata": {
    "slideshow": {
     "slide_type": "fragment"
    }
   },
   "outputs": [],
   "source": [
    "raw_p_values = compute_stat_matrix(hypervols, stats.mannwhitneyu)\n",
    "raw_p_values"
   ]
  },
  {
   "cell_type": "markdown",
   "metadata": {
    "slideshow": {
     "slide_type": "slide"
    }
   },
   "source": [
    "The [familywise error rate](http://en.wikipedia.org/wiki/Familywise_error_rate) (FWER) is the probability of making one or more false discoveries, or [type I errors](http://en.wikipedia.org/wiki/Type_I_and_type_II_errors), among all the hypotheses when performing multiple hypotheses tests.\n",
    "\n",
    "_Example_: When performing a test, there is a $\\alpha$ chance of making a type I error. If we make $m$ tests, then the probability of making one type I error is $m\\alpha$. Therefore, if an $\\alpha=0.05$ is used and 5 pairwise comparisons are made, we will have a $5\\times0.05 = 0.25$ chance of making a type I error.\n",
    "\n",
    "* FWER procedures (such as the [Bonferroni correction](http://en.wikipedia.org/wiki/Bonferroni_correction)) exert a more stringent control over false discovery compared to False discovery rate controlling procedures. \n",
    "* FWER controlling seek to reduce the probability of even one false discovery, as opposed to the expected proportion of false discoveries. \n",
    "* Thus, FDR procedures have greater power at the cost of increased rates of type I errors, i.e., rejecting the null hypothesis of no effect when it should be accepted."
   ]
  },
  {
   "cell_type": "markdown",
   "metadata": {
    "slideshow": {
     "slide_type": "slide"
    }
   },
   "source": [
    "One of these corrections is the [Šidák correction](http://en.wikipedia.org/wiki/%C5%A0id%C3%A1k_correction) as it is less conservative than the [Bonferroni correction](http://en.wikipedia.org/wiki/Bonferroni_correction):\n",
    "$$\\alpha_{SID} = 1-(1-\\alpha)^\\frac{1}{m},$$\n",
    "where $m$ is the number of tests.\n",
    "\n",
    "* In our case $m$ is the number of combinations of algorithm configurations taken two at a time,\n",
    "\n",
    "$$\n",
    "m = {\\mathtt{number\\_of\\_experiments} \\choose 2}.\n",
    "$$\n",
    "\n",
    "* There are other corrections that can be used."
   ]
  },
  {
   "cell_type": "code",
   "execution_count": null,
   "metadata": {
    "collapsed": true,
    "slideshow": {
     "slide_type": "skip"
    }
   },
   "outputs": [],
   "source": [
    "from scipy.misc import comb"
   ]
  },
  {
   "cell_type": "code",
   "execution_count": null,
   "metadata": {
    "slideshow": {
     "slide_type": "fragment"
    }
   },
   "outputs": [],
   "source": [
    "alpha = 0.05\n",
    "alpha_sid = 1 - (1 - alpha) ** (1 / comb(len(hypervols.columns), 2))\n",
    "alpha_sid"
   ]
  },
  {
   "cell_type": "markdown",
   "metadata": {
    "slideshow": {
     "slide_type": "slide"
    }
   },
   "source": [
    "Let's apply the corrected alpha to `raw_p_values`. If we have a cell with a `True` value that means that those two results are the same."
   ]
  },
  {
   "cell_type": "code",
   "execution_count": null,
   "metadata": {},
   "outputs": [],
   "source": [
    "raw_p_values.applymap(lambda value: value <= alpha_sid)"
   ]
  },
  {
   "cell_type": "markdown",
   "metadata": {
    "slideshow": {
     "slide_type": "slide"
    }
   },
   "source": [
    "### Further reading\n",
    "\n",
    "* Cohen, P. R. (1995). _Empirical Methods for Artificial Intelligence_ (Vol. 139). Cambridge: MIT press. [link](http://mitpress.mit.edu/books/empirical-methods-artificial-intelligence)\n",
    "* Bartz-Beielstein, Thomas (2006). _Experimental Research in Evolutionary Computation: The New Experimentalism_. Springer [link](http://link.springer.com/book/10.1007%2F3-540-32027-X)\n",
    "* García, S., & Herrera, F. (2008). _An Extension on “Statistical Comparisons of Classifiers over Multiple Data Sets” for all Pairwise Comparisons_. Journal of Machine Learning Research, 9, 2677–2694. [pdf](http://www.jmlr.org/papers/v9/garcia08a.html)"
   ]
  },
  {
   "cell_type": "markdown",
   "metadata": {
    "nbpresent": {
     "id": "54825a46-c10f-43ae-a126-78826bd5e97d"
    },
    "slideshow": {
     "slide_type": "slide"
    }
   },
   "source": [
    "# Many-objective problems\n",
    "\n",
    "Problems with four or more objectives.\n",
    "\n",
    "* Visualization.\n",
    "* Scalability.\n",
    "    * Exponential relation between the number of objectives and the amount of required resources.\n",
    "    * Large populations are needed.\n",
    "* Fitness assignment.\n",
    "* Poor understanding of convergence and progress $\\rightarrow$ **stopping criteria**."
   ]
  },
  {
   "cell_type": "markdown",
   "metadata": {
    "collapsed": true,
    "slideshow": {
     "slide_type": "slide"
    }
   },
   "source": [
    "# Visualizing many-objectives\n",
    "\n",
    "<div class=\"container-fluid\">\n",
    "  <div class=\"row\">\n",
    "      <div class=\"col-md-3\"><span/></div>\n",
    "      <div class=\"col-md-6\">\n",
    "      <div class='well well-sm'>\n",
    "              <img src='imgs/visualization.png'/>\n",
    "      </div>\n",
    "      <small>from Z. He and G. G. Yen, \"Visualization and Performance Metric in Many-Objective Optimization,\" in IEEE Transactions on Evolutionary Computation, vol. 20, no. 3, pp. 386-402, June 2016. doi: 10.1109/TEVC.2015.2472283</small>\n",
    "      </div>\n",
    "      <div class=\"col-md-3\" align='center'><span/></div>\n",
    "  </div>\n",
    "</div>"
   ]
  },
  {
   "cell_type": "markdown",
   "metadata": {
    "nbpresent": {
     "id": "800468e1-293e-4668-815d-74c13f7981ce"
    },
    "slideshow": {
     "slide_type": "slide"
    }
   },
   "source": [
    "# Approaches to many-objs\n",
    "\n",
    "* 'Better' fitness assignment;\n",
    "* problem decomposition -- MOEA/D;\n",
    "* preferences and interactivity;\n",
    "* reduction of the number of objectives, and;\n",
    "* better search methods.\n",
    "\n",
    "Introducing learning in the search process might help and this direction is not fully explored!\t\t\t"
   ]
  },
  {
   "cell_type": "markdown",
   "metadata": {
    "nbpresent": {
     "id": "9f409bcd-b3eb-4428-b8f1-e3092c4a299e"
    },
    "slideshow": {
     "slide_type": "slide"
    }
   },
   "source": [
    "# Better fitness assignment\n",
    "\n",
    "* Pareto dominance yields little information...\n",
    "* ...i.e. 'how much' one solution dominates the other.\n",
    "* It requires a big population to find a search direction.\n",
    "* We can use **performance indicators** or **reference points**."
   ]
  },
  {
   "cell_type": "markdown",
   "metadata": {
    "nbpresent": {
     "id": "210e2754-53e3-4267-afe3-8690e1a69948"
    },
    "slideshow": {
     "slide_type": "slide"
    }
   },
   "source": [
    "## SMS-EMOA:\n",
    "### $\\set{S}$-metric selection evolutionary multiobjective optimization algorithm \n",
    "\n",
    "**What if we use the hypervolume to guide the search instead of for evaluating result?**\n",
    "\n",
    "* In every iteration, one individual is created and one has to be deleted from the population. \n",
    "* The key element of SMS-EMOA is the method for determining which element of the population will be substituted by the offspring. \n",
    "    - applies a non-domination ranking. \n",
    "    - From the individuals that are dominated by the rest of the population, one individual is selected such that it has the minimum contribution to the hypervolume of the set.\n",
    "    - It may happen, that there is only one non-dominated front (all individuals are non-dominated). In this case, the individual with least hypervolume contribution is removed."
   ]
  },
  {
   "cell_type": "markdown",
   "metadata": {
    "nbpresent": {
     "id": "8fcabcb1-6c7f-46cc-ad6b-481e5d13e8ce"
    },
    "slideshow": {
     "slide_type": "slide"
    }
   },
   "source": [
    "## Reference points: NSGA-III\n",
    "\n",
    "<div class=\"container-fluid\">\n",
    "  <div class=\"row\">\n",
    "      <div class=\"col-md-1\"><span/></div>\n",
    "      <div class=\"col-md-4\">\n",
    "      <div class='well well-sm'>\n",
    "              <img src='imgs/nsga-iii-projection.png'>\n",
    "      </div>\n",
    "      <div class=\"col-md-2\"><span/></div>\n",
    "      </div>\n",
    "      <div class=\"col-md-4\">\n",
    "      <div class='well well-sm'>\n",
    "              <img src='imgs/nsga-iii-eval.png'>\n",
    "      </div>\n",
    "      </div>\n",
    "      <div class=\"col-md-1\"><span/></div>\n",
    "  </div>\n",
    "</div>\n",
    "**Note**: Checkout `nsgaiii`, a Python implementation of NSGA-III in Python http://lmarti.github.io/nsgaiii/."
   ]
  },
  {
   "cell_type": "markdown",
   "metadata": {
    "nbpresent": {
     "id": "f6df3720-5bda-4664-b68f-31fc2bd37892"
    },
    "slideshow": {
     "slide_type": "slide"
    }
   },
   "source": [
    "# Preferences and Collective Intelligence\n",
    "\n",
    "* Expressing preferences allows us to reduce the search space.\n",
    "* Preferences are not restrictions (necessarily).\n",
    "* We are working on collective and interactive preferences (see papers with Daniel Cinalli).\n",
    "* Collective intelligence as 'local search'."
   ]
  },
  {
   "cell_type": "markdown",
   "metadata": {
    "nbpresent": {
     "id": "dcb72829-537a-4e38-a876-47a7c7c3b44f"
    },
    "slideshow": {
     "slide_type": "slide"
    }
   },
   "source": [
    "## Better search engines:\n",
    "# Estimation of distribution algorithms"
   ]
  },
  {
   "cell_type": "markdown",
   "metadata": {
    "nbpresent": {
     "id": "14756c13-08ef-4de1-8de5-8f2004f4f9f7"
    },
    "slideshow": {
     "slide_type": "slide"
    }
   },
   "source": [
    "## Estimation of distribution algorithms\n",
    "\n",
    "<div class=\"container-fluid\">\n",
    "  <div class=\"row\">\n",
    "      <div class=\"col-md-3\"><span/></div>\n",
    "      <div class=\"col-md-6\">\n",
    "      <div class='well well-sm'>\n",
    "              <img src='imgs/eda.png'/>\n",
    "      </div>\n",
    "      </div>\n",
    "      <div class=\"col-md-3\" align='center'><span/></div>\n",
    "  </div>\n",
    "</div>"
   ]
  },
  {
   "cell_type": "markdown",
   "metadata": {
    "nbpresent": {
     "id": "b1795315-0947-40ec-8904-6ff545cdd25b"
    },
    "slideshow": {
     "slide_type": "fragment"
    }
   },
   "source": [
    "* From population-based to model-based optimization algorithms.\n",
    "* Evolutionary operators are substituted by...\n",
    "* ...the construction of a model of the fittest individuals; \n",
    "* that model is sampled to produce new individuals.\n",
    "* **Model-building process** --- Bayesian networks, mixtures, **etc**."
   ]
  },
  {
   "cell_type": "markdown",
   "metadata": {
    "nbpresent": {
     "id": "4efdb1bd-cc25-4c43-bcf6-d4f28b594271"
    },
    "slideshow": {
     "slide_type": "skip"
    }
   },
   "source": [
    "<div class=\"container-fluid\">\n",
    "  <div class=\"row\">\n",
    "      <div class=\"col-md-1\"><span/></div>\n",
    "      <div class=\"col-md-10\">\n",
    "      <div class='well well-sm'>\n",
    "              <img src='imgs/moeda-approaches.png'/>\n",
    "      </div>\n",
    "      </div>\n",
    "      <div class=\"col-md-1\" align='center'><span/></div>\n",
    "  </div>\n",
    "</div>"
   ]
  },
  {
   "cell_type": "markdown",
   "metadata": {
    "nbpresent": {
     "id": "1d814872-a4f6-444f-9967-d7d159fc198a"
    },
    "slideshow": {
     "slide_type": "slide"
    }
   },
   "source": [
    "## Multi-objective EDAs (MOEDAs) in many-obj's\n",
    "\n",
    "* It was expected that EDAs would make many-obj's more tractable.\n",
    "* Scalability has not improved substantially by introducing MOEDAs.\n",
    "* Our experiments showed that **non-robust** approaches performed better than more sound ones."
   ]
  },
  {
   "cell_type": "markdown",
   "metadata": {
    "nbpresent": {
     "id": "3bd5d11d-ab3e-49e9-a038-1e6f09ca3f52"
    },
    "slideshow": {
     "slide_type": "fragment"
    }
   },
   "source": [
    "### Why? - A hypothesis\n",
    "* MOEDA approaches have mostly used off-the-shelf machine learning methods, but;\n",
    "* model building **is not a typical** machine learning problem."
   ]
  },
  {
   "cell_type": "markdown",
   "metadata": {
    "nbpresent": {
     "id": "24f767e9-7f2e-4d96-a6b2-74fd17f93a1e"
    },
    "slideshow": {
     "slide_type": "slide"
    }
   },
   "source": [
    "The *precursors* or *outliers* issue.\n",
    "\n",
    "<div class=\"container-fluid\">\n",
    "  <div class=\"row\">\n",
    "      <div class=\"col-md-1\">&nbsp;<span>&nbsp;</span></div>\n",
    "      <div class=\"col-md-4\">\n",
    "      <div class='well well-sm'>\n",
    "              <img src='imgs/outliers-p_t_prime.png'>\n",
    "      </div>\n",
    "      <div class=\"col-md-2\"> &nbsp;<span>&nbsp;</span></div>\n",
    "      </div>\n",
    "      <div class=\"col-md-4\">\n",
    "      <div class='well well-sm'>\n",
    "              <img src='imgs/outliers-model-built.png'>\n",
    "      </div>\n",
    "      </div>\n",
    "      <div class=\"col-md-1\">&nbsp;<span>&nbsp;</span></div>\n",
    "  </div>\n",
    "</div>"
   ]
  },
  {
   "cell_type": "markdown",
   "metadata": {
    "nbpresent": {
     "id": "a1bb5f66-937c-43a3-abe1-7e957a3d99ee"
    },
    "slideshow": {
     "slide_type": "slide"
    }
   },
   "source": [
    "<div class=\"container-fluid\">\n",
    "  <div class=\"row\">\n",
    "      <div class=\"col-md-1\"><span/></div>\n",
    "      <div class=\"col-md-10\">\n",
    "      <div class='well well-sm'>\n",
    "              <img src='imgs/outliers.png'/>\n",
    "      </div>\n",
    "      </div>\n",
    "      <div class=\"col-md-1\" align='center'><span/></div>\n",
    "  </div>\n",
    "</div>"
   ]
  },
  {
   "cell_type": "markdown",
   "metadata": {
    "nbpresent": {
     "id": "07648271-cf0f-46c8-81c9-f8990383b845"
    },
    "slideshow": {
     "slide_type": "slide"
    }
   },
   "source": [
    "# Tamming many-objectives with EDAs"
   ]
  },
  {
   "cell_type": "markdown",
   "metadata": {
    "nbpresent": {
     "id": "583c1d13-89c7-40b7-bcfb-5daabbfd7573"
    },
    "slideshow": {
     "slide_type": "slide"
    }
   },
   "source": [
    "## Multi-objective Neural EDA (MONEDA)\n",
    "\n",
    "* Uses a modified growing neural gas neural network for model building (MB-GNG).\n",
    "* NSGA-II fitness assignment, we later used a hypervolume-based approach.\n",
    "* Outperformed the state of the art methods.\n",
    "\n",
    "See: Martí, L., García, J., Berlanga, A., & Molina, J. M. (2016). MONEDA: scalable multi-objective optimization with a neural network-based estimation of distribution algorithm. Journal of Global Optimization. doi:10.1007/s10898-016-0415-7"
   ]
  },
  {
   "cell_type": "markdown",
   "metadata": {
    "nbpresent": {
     "id": "df444856-89e4-49fb-ad28-07e8f8477a07"
    },
    "slideshow": {
     "slide_type": "slide"
    }
   },
   "source": [
    "### Multi-objective Adaptive Resonance Theory EDA (MARTEDA)\n",
    "\n",
    "* Provides a learning theory that supports the precursor hypothesis: Adaptive Resonance Theory.\n",
    "* Hypervolume-based fitness.\n",
    "\n",
    "See: Martí, L., García, J., Berlanga, A. & Molina, J. M. (2013) Multi-objective optimization with an adaptive resonance theory-based estimation of distribution algorithm. Annals of Mathematics and Artificial Intelligence, 68 (4):247–273. ISSN 1012-2443. doi: 10.1007/s10472-012-9303-0."
   ]
  },
  {
   "cell_type": "markdown",
   "metadata": {
    "nbpresent": {
     "id": "66c5449e-7327-4b31-aee8-488530a7b0d5"
    },
    "slideshow": {
     "slide_type": "slide"
    }
   },
   "source": [
    "## $\\mathcal{S}$-metric selection EDA based on multivariate extension of copulas (SMS-EDA-MEC)\n",
    "* Model building using Clayton copulas.\n",
    "* Stagnation detection and population restart.\n",
    "* Modelling of precursor individuals using the inverse log-likelihood.\n",
    "\n",
    "See: Martí, L., de Mello Jr., H.D., Sanchez-Pi, N. & Vellasco, M. (2016) SMS-EDA-MEC: Extending Copula-based EDAs to Multi-Objective Optimization. 2016 IEEE Conference on Evolutionary Computation. http://lmarti.com/smsedamec-cec2016 (code available in Matlab and, eventually, Python)"
   ]
  },
  {
   "cell_type": "markdown",
   "metadata": {
    "nbpresent": {
     "id": "2097fa2c-0889-48ef-94a9-d2f8c49842f1"
    },
    "slideshow": {
     "slide_type": "skip"
    }
   },
   "source": [
    "## Copulas\n",
    "\n",
    "* The concept of copulas was introduced by Sklar (1959).\n",
    "* Remained dormant until it was applied to finance only many years later by Cherubini (2004).\n",
    "* Useful tool for constructing of multivariate models that characterize linear and nonlinear dependencies between the variables.\n",
    "* Copulas are popular in high-dimensional statistical applications as they model and estimate the distribution of random vectors by estimating marginals and copulae separately. "
   ]
  },
  {
   "cell_type": "markdown",
   "metadata": {
    "nbpresent": {
     "id": "8cce32f9-2bab-4088-bcc2-d79870d1abad"
    },
    "slideshow": {
     "slide_type": "skip"
    }
   },
   "source": [
    "## Copula definition\n",
    "\n",
    "A multivariate probability distribution for which the marginal probability distribution of each variable is uniform:\n",
    "* Copula $C$ is a probability distribution function in $\\left[0, 1\\right]^n$ that has marginal uniform functions $u_k\\in\\left(0,1\\right)$, with $k = 1,\\ldots,n$."
   ]
  },
  {
   "cell_type": "markdown",
   "metadata": {
    "nbpresent": {
     "id": "85b5dbdb-d611-4f8a-a6bd-4c38c95d03b5"
    },
    "slideshow": {
     "slide_type": "skip"
    }
   },
   "source": [
    "# Why are copulas cool?\n",
    "\n",
    "#### Sklar's theorem\n",
    "\n",
    "A joint cumulative distribution function (JCDF), $F$, of random variables $X_{1},X_{2},\\ldots,X_{n}$, with continuous marginal distributions $F_{1}, F_{2}, \\ldots, F_{n}$, respectively, can be characterized by a single $n$-dimensional dependence function or copula $C$, such that for all $\\vec{x} \\in \\mathbb{R}^{n}$:\n",
    "$$\n",
    "\\mathit{F}(\\mathit{x}_{1}, \\mathit{x}_{2}, \\ldots, \\mathit{x}_{\\mathit{n}}) = \\mathit{C}(\\mathit{F}_{1}(\\mathit{x}_{1}), \\mathit{F}_{2}(\\mathit{x}_{2}), \\ldots, \\mathit{F}_{\\mathit{n}}(\\mathit{x}_{\\mathit{n}}))\n",
    "$$"
   ]
  },
  {
   "cell_type": "markdown",
   "metadata": {
    "nbpresent": {
     "id": "683d53c1-4891-469a-9700-113924b3ae40"
    },
    "slideshow": {
     "slide_type": "skip"
    }
   },
   "source": [
    "## Archimedean copulas. \n",
    "* can be expressed in an explicit closed form and\n",
    "* are able to capture wide ranges of dependences. \n",
    "\n",
    "For the bivariate case, this copula holds the following representation:\n",
    "$$\n",
    "\\mathit{C}(\\mathit{u}_{1}, \\mathit{u}_{2})=\\varphi^{-1}\\left (\\varphi\\left ( u_{1} \\right ) + \\varphi\\left ( u_{2} \\right )  \\right ),\n",
    "$$\n",
    "where:\n",
    "* ${u}_{1}, {u}_{2} \\in \\left (0,1 \\right )$,\n",
    "* $\\varphi\\left ( \\cdot \\right )$ is known as a generator function of the copula, and\n",
    "* $\\varphi^{-1}$ is its inverse."
   ]
  },
  {
   "cell_type": "markdown",
   "metadata": {
    "nbpresent": {
     "id": "c4a2064c-f5d8-4916-aca3-a38a42c5e40a"
    },
    "slideshow": {
     "slide_type": "skip"
    }
   },
   "source": [
    "Clayton's bivariate copula one of the most frequently used and best known Archimedean copulas. It takes the form\n",
    "$$\n",
    "C\\left( \\mathit{u}_{1}, \\mathit{u}_{2}  \\right )= \\left ( \\mathit{u}_{1}^{-\\theta}+\\mathit{u}_{2}^{-\\theta }-1 \\right )^{-1/\\theta}\n",
    "$$\n",
    "\n",
    "*  has lower-tail dependence $2^{-1/\\theta}$ but \n",
    "* does not have upper-tail dependence.\n",
    "* perfect dependence among the random variables occurs when $\\theta\\rightarrow \\infty$;\n",
    "* $\\theta= 1$ indicates total independence among the variables. \n",
    "\n",
    "The Clayton copula's parameter is often estimated via Kendall's $\\tau$:\n",
    "$$\n",
    "\\tau = \\frac{\\theta}{\\theta+2}\n",
    "$$"
   ]
  },
  {
   "cell_type": "markdown",
   "metadata": {
    "nbpresent": {
     "id": "28935ce3-aaf5-4f8c-ab42-a542f264a988"
    },
    "slideshow": {
     "slide_type": "skip"
    }
   },
   "source": [
    "An additional advantage of Archimedean copulas is that they can be easily used to generate multivariate distributions from extensions of Archimedean 2-copulas.\n",
    "\n",
    "* the simplest method is to create exchangeable multivariate Archimedean copula (EAC), \n",
    "* it presents a limitation: the dependence structure between any pair of variables is described by the same parameter $\\theta$, regardless of dimension.\n",
    "* copulas created by the nesting of Archimedean copula generators and pair-copulas models are more flexible."
   ]
  },
  {
   "cell_type": "markdown",
   "metadata": {
    "collapsed": true,
    "nbpresent": {
     "id": "286a3756-8ae9-402d-8354-59ccbef4172a"
    },
    "slideshow": {
     "slide_type": "slide"
    }
   },
   "source": [
    "## Handling precursors\n",
    "\n",
    "* Precursors correspond to samples of a new probability distribution is obtained as a variation of the learned one so as to generate individuals with a lower probability.\n",
    "* Using the samples generated along with the copula, a set of precursors can be calculated as\n",
    "$$\n",
    "r_{n}=F_{n}^{-1}(1-{u}_{n})\n",
    "$$\n",
    "* This allows us determine the inverse probability for variables and explore other regions of the search space and\n",
    "* also avoids premature convergence.\n",
    "* Precursors replace the worst individuals from the population."
   ]
  },
  {
   "cell_type": "markdown",
   "metadata": {
    "collapsed": true,
    "nbpresent": {
     "id": "23245f34-ec66-4c08-9037-9f74f45ea1e4"
    },
    "slideshow": {
     "slide_type": "slide"
    }
   },
   "source": [
    "## Smart population restart\n",
    "\n",
    "* In the single-objective case discovering stagnation is relatively simple.\n",
    "* In multi-objective optimization we can use stopping criteria to determine when the search process is not making too much progress.\n",
    "* We apply the Online Convergence Criterion (OCD).\n",
    "    - Measures the hypervolume across iterations.\n",
    "    - Applies a $\\chi^2$ test to assert that the values are stable.\n",
    "    - For our case we set a relatively high threshold."
   ]
  },
  {
   "cell_type": "markdown",
   "metadata": {
    "nbpresent": {
     "id": "b53d6700-737d-4d9a-a009-0c748d51205e"
    },
    "slideshow": {
     "slide_type": "slide"
    }
   },
   "source": [
    "Two sets of restarted individuals:\n",
    "\n",
    "* $\\set{P}^\\text{restarted}_\\text{local}$ that represents a *local restart* and\n",
    "* $\\set{P}^\\text{restarted}_\\text{global}$ its *global* counterpart, such that\n",
    "$$\n",
    "\\left|\\set{P}^\\text{restarted}_\\text{local}\\right|=\\left|\\set{P}^\\text{restarted}_\\text{global}\\right|=\\frac{\\left\\lceil\\nu n_\\text{pop}\\right\\rceil}{2},\n",
    "$$\n",
    "where $\\nu$ is the restarting percentile that control how much of the population is to be substituted by restarted individuals."
   ]
  },
  {
   "cell_type": "markdown",
   "metadata": {
    "nbpresent": {
     "id": "bc8d8fa2-1bda-4fd8-97f7-368ae8c8ee5d"
    },
    "slideshow": {
     "slide_type": "slide"
    }
   },
   "source": [
    "$\\set{P}^\\text{restarted}_\\text{local}$ is created by sampling a uniform distribution on the interval of the feature set currently occupied by the population $\\set{P}$ as,\n",
    "$$\n",
    "\\set{P}^\\text{restarted}_\\text{local}=\\left\\{x\\sim U(\\vec{\\ell}^\\text{lower}, \\vec{\\ell}^\\text{upper})\\right\\},\n",
    "$$\n",
    "where $\\ell^\\text{lower}_i = \\min_{\\vec{x}\\in\\set{P}}(x_i)$ and $\\ell^\\text{lower}_i = \\max_{\\vec{x}\\in\\set{P}}(x_i)$ for $i=1,\\ldots,n$.\n",
    "\n",
    "* Having $\\set{P}^\\text{restarted}_\\text{local}$ and $\\set{P}^\\text{restarted}_\\text{global}$ they are merged with the original population $\\set{P}$ by substituting randomly selected individuals from it.\n",
    "* In practical applications it is convenient to disable restarting in the last part of the optimization."
   ]
  },
  {
   "cell_type": "markdown",
   "metadata": {
    "nbpresent": {
     "id": "fdca7c70-beaa-4757-b7fd-61a3576f8fd2"
    },
    "slideshow": {
     "slide_type": "slide"
    }
   },
   "source": [
    "## The $\\mathcal{S}$-Metric Selection EDA-MEC algorithm"
   ]
  },
  {
   "cell_type": "code",
   "execution_count": null,
   "metadata": {
    "nbpresent": {
     "id": "ce244de5-c37a-4c61-a11c-3c78acc57e53"
    }
   },
   "outputs": [],
   "source": [
    "%dotstr open('imgs/sms-eda-mec.dot', 'r').read()"
   ]
  },
  {
   "cell_type": "markdown",
   "metadata": {
    "nbpresent": {
     "id": "a351861e-3cb2-4127-8672-1cc00e1bc6e5"
    },
    "slideshow": {
     "slide_type": "slide"
    }
   },
   "source": [
    "## SMS-EDA-MEC in action\n",
    "\n",
    "<div class=\"container-fluid\">\n",
    "  <div class=\"row\">\n",
    "      <div class=\"col-md-2\"><span/></div>\n",
    "      <div class=\"col-md-8\">\n",
    "      <div class='well well-sm'>\n",
    "              <img src='imgs/summary-by-problem.png'/>\n",
    "      </div>\n",
    "      </div>\n",
    "      <div class=\"col-md-2\" align='center'><span/></div>\n",
    "  </div>\n",
    "</div>"
   ]
  },
  {
   "cell_type": "markdown",
   "metadata": {
    "nbpresent": {
     "id": "e1c0bb29-75b5-4465-b941-73c5194a6516"
    },
    "slideshow": {
     "slide_type": "subslide"
    }
   },
   "source": [
    "## SMS-EDA-MEC in action (II)\n",
    "\n",
    "<div class=\"container-fluid\">\n",
    "  <div class=\"row\">\n",
    "      <div class=\"col-md-2\"><span/></div>\n",
    "      <div class=\"col-md-8\">\n",
    "      <div class='well well-sm'>\n",
    "              <img src='imgs/summary-by-objectives.png'/>\n",
    "      </div>\n",
    "      </div>\n",
    "      <div class=\"col-md-2\" align='center'><span/></div>\n",
    "  </div>\n",
    "</div>"
   ]
  },
  {
   "cell_type": "markdown",
   "metadata": {
    "internals": {
     "frag_helper": "fragment_end",
     "frag_number": 183,
     "slide_helper": "subslide_end",
     "slide_type": "subslide"
    },
    "nbpresent": {
     "id": "0c54f3c9-6158-4675-b675-7229f346d172"
    },
    "slide_helper": "slide_end",
    "slideshow": {
     "slide_type": "slide"
    }
   },
   "source": [
    "# Current research directions\n",
    "\n",
    "* Many-objective problems.\n",
    "* Make the variation smarter by including machine learning:\n",
    "    * MO-CMA-ES, MIDEA, MONEDA, MARTEDA, etc.\n",
    "* Learn copulas and vines!\n",
    "* Precursor individuals.\n",
    "* Why not evolve sets instead of individuals?\n",
    "    * Set-based multi-objective optimization.\n",
    "* Decomposition: \n",
    "    * MOEA/D.\n",
    "* Preferences and interactivity\n",
    "    * r-NSGA-II, NSGA-III.\n",
    "* Fitness landscapes.\n",
    "\n",
    "Check out http://simco.gforge.inria.fr/doku.php?id=openproblems "
   ]
  },
  {
   "cell_type": "markdown",
   "metadata": {
    "slideshow": {
     "slide_type": "slide"
    }
   },
   "source": [
    "# Recommended reading\n",
    "\n",
    "<br/>\n",
    "<div class=\"container-fluid\">\n",
    "  <div class=\"row\">\n",
    "      <div class=\"col-md-5\">\n",
    "              <img src='https://images.springer.com/sgw/books/medium/9783540889076.jpg'/><br/>\n",
    "              Branke, J., Deb, K., Miettinen, K., Slowiński, R. (Eds.) (2008) <br/><b>Multiobjective Optimization: Interactive and Evolutionary Approaches</b>.<br/> Springer. <br/>doi: 10.1007/978-3-540-88908-3.\n",
    "      </div>\n",
    "      <div class=\"col-md-1\"></div>\n",
    "      <div class=\"col-md-5\">\n",
    "              <img src='https://images.springer.com/sgw/books/medium/9780387332543.jpg'/><br/>\n",
    "              Coello Coello, Carlos, Lamont, Gary B., van Veldhuizen, David A. (2007) <br/> <b>Evolutionary Algorithms for Solving Multi-Objective Problems</b>.<br/>Springer. <br/>doi: 10.1007/978-0-387-36797-2.\n",
    "      </div>\n",
    "  </div>\n",
    "</div>"
   ]
  },
  {
   "cell_type": "markdown",
   "metadata": {
    "nbpresent": {
     "id": "b6672207-3816-4622-b1a0-1d18622d732a"
    },
    "slideshow": {
     "slide_type": "slide"
    }
   },
   "source": [
    "<div align='center'>\n",
    "<h2>Obrigado! ¡Gracias! Merci beaucoup! Thank you!</h2><br/>\n",
    "lmarti@ic.uff.br - http://lmarti.com <br/>\n",
    "¿Perguntas?\n",
    "</div>"
   ]
  },
  {
   "cell_type": "code",
   "execution_count": null,
   "metadata": {
    "nbpresent": {
     "id": "b9b35b4d-a170-4fc9-8948-db25797529f5"
    },
    "slideshow": {
     "slide_type": "skip"
    }
   },
   "outputs": [],
   "source": [
    "# this code is here for cosmetic reasons\n",
    "from urllib.request import urlopen\n",
    "\n",
    "from IPython.core.display import HTML\n",
    "\n",
    "HTML(\n",
    "    urlopen(\n",
    "        \"https://raw.githubusercontent.com/lmarti/jupyter_custom/master/custom.include\"\n",
    "    )\n",
    "    .read()\n",
    "    .decode(\"utf-8\")\n",
    ")"
   ]
  },
  {
   "cell_type": "markdown",
   "metadata": {
    "nbpresent": {
     "id": "17e7b252-2425-4caf-8584-161a183ccf8f"
    }
   },
   "source": [
    " "
   ]
  }
 ],
 "metadata": {
  "anaconda-cloud": {},
  "kernel_info": {
   "name": "python3"
  },
  "kernelspec": {
   "display_name": "Python 3",
   "language": "python",
   "name": "python3"
  },
  "language_info": {
   "codemirror_mode": {
    "name": "ipython",
    "version": 3
   },
   "file_extension": ".py",
   "mimetype": "text/x-python",
   "name": "python",
   "nbconvert_exporter": "python",
   "pygments_lexer": "ipython3",
   "version": "3.11.5"
  },
  "latex_envs": {
   "LaTeX_envs_menu_present": true,
   "bibliofile": "biblio.bib",
   "cite_by": "apalike",
   "current_citInitial": 1,
   "eqLabelWithNumbers": true,
   "eqNumInitial": 1,
   "labels_anchors": false,
   "latex_user_defs": false,
   "report_style_numbering": false,
   "user_envs_cfg": false
  },
  "nbpresent": {
   "slides": {
    "0525a4c2-8d9b-4b31-a032-fd0e6d3e5397": {
     "id": "0525a4c2-8d9b-4b31-a032-fd0e6d3e5397",
     "prev": "d1578704-7815-4900-bcc1-5e54f2896b84",
     "regions": {
      "0bea7764-495d-47d4-bf3a-4a959842ae69": {
       "attrs": {
        "height": 0.8,
        "width": 0.8,
        "x": 0.1,
        "y": 0.1
       },
       "content": {
        "cell": "d4cc2b3c-498c-4f0b-9786-27059e63a7ac",
        "part": "whole"
       },
       "id": "0bea7764-495d-47d4-bf3a-4a959842ae69"
      }
     }
    },
    "070c9f9b-a21d-4c78-88e2-154e3faa2c07": {
     "id": "070c9f9b-a21d-4c78-88e2-154e3faa2c07",
     "prev": "c027cf57-7a30-42ba-9831-86003f404035",
     "regions": {
      "3bf163d0-fda6-4a1e-97ee-a47e38b48620": {
       "attrs": {
        "height": 0.4,
        "width": 0.8,
        "x": 0.1,
        "y": 0.5
       },
       "content": {
        "cell": "4a35472b-7a4c-455d-9006-405f9f95dede",
        "part": "whole"
       },
       "id": "3bf163d0-fda6-4a1e-97ee-a47e38b48620"
      },
      "beec46e5-2d6a-4ff3-b7a4-8bbd21742ad9": {
       "attrs": {
        "height": 0.8,
        "width": 0.8,
        "x": 0.1,
        "y": 0.1
       },
       "content": {
        "cell": "e56b6522-fbe8-4a91-98a0-28ce5295d36b",
        "part": "whole"
       },
       "id": "beec46e5-2d6a-4ff3-b7a4-8bbd21742ad9"
      }
     }
    },
    "07699b46-6545-4cdb-b0e5-16371d9ffdac": {
     "id": "07699b46-6545-4cdb-b0e5-16371d9ffdac",
     "prev": "846520f7-f8ca-49e6-8eaf-06d635aba36f",
     "regions": {
      "6d42e3b1-6dc7-41fd-bc84-05c64c63c96d": {
       "attrs": {
        "height": 0.8,
        "width": 0.8,
        "x": 0.1,
        "y": 0.1
       },
       "content": {
        "cell": "430676e2-2edf-4d0d-b477-6414a9a283c8",
        "part": "whole"
       },
       "id": "6d42e3b1-6dc7-41fd-bc84-05c64c63c96d"
      }
     }
    },
    "0ba0fffd-8667-41e9-b7d1-9aa97e50a9ad": {
     "id": "0ba0fffd-8667-41e9-b7d1-9aa97e50a9ad",
     "prev": "1b5a220f-e270-4198-b7f5-379307f19497",
     "regions": {
      "0bd4ea24-ca25-4026-8693-fd2fc92da786": {
       "attrs": {
        "height": 0.4,
        "width": 0.8,
        "x": 0.1,
        "y": 0.5
       },
       "content": {
        "cell": "5235f649-752a-483b-b85b-1e6cf918d9ef",
        "part": "whole"
       },
       "id": "0bd4ea24-ca25-4026-8693-fd2fc92da786"
      },
      "1e09e26d-d071-484e-b468-c5dfebf0c814": {
       "attrs": {
        "height": 0.8,
        "width": 0.8,
        "x": 0.1,
        "y": 0.1
       },
       "content": {
        "cell": "54825a46-c10f-43ae-a126-78826bd5e97d",
        "part": "whole"
       },
       "id": "1e09e26d-d071-484e-b468-c5dfebf0c814"
      }
     }
    },
    "0c45ad51-4984-46a5-856e-87ee5c8e9913": {
     "id": "0c45ad51-4984-46a5-856e-87ee5c8e9913",
     "prev": "2ea3d29c-f6f8-4349-93c9-7db28237e3cd",
     "regions": {
      "674a9c4e-6603-452b-9d32-b2cd5fd347f5": {
       "attrs": {
        "height": 0.8,
        "width": 0.8,
        "x": 0.1,
        "y": 0.1
       },
       "content": {
        "cell": "322c39bb-4d98-4f3d-a1c5-bc5931123db1",
        "part": "whole"
       },
       "id": "674a9c4e-6603-452b-9d32-b2cd5fd347f5"
      }
     }
    },
    "0c636a22-cdc3-42cc-942f-cc6bcfc6028f": {
     "id": "0c636a22-cdc3-42cc-942f-cc6bcfc6028f",
     "prev": "0525a4c2-8d9b-4b31-a032-fd0e6d3e5397",
     "regions": {
      "c409f935-1613-43ac-8fda-6dc3db1392d1": {
       "attrs": {
        "height": 0.8,
        "width": 0.8,
        "x": 0.1,
        "y": 0.1
       },
       "content": {
        "cell": "d195cb1a-d7f6-480e-ac23-c5ff60003b0e",
        "part": "whole"
       },
       "id": "c409f935-1613-43ac-8fda-6dc3db1392d1"
      }
     }
    },
    "0e249c9a-4300-49ea-8584-acdef51ba265": {
     "id": "0e249c9a-4300-49ea-8584-acdef51ba265",
     "prev": "198dc1a4-a084-4ea8-87c9-1800eff81e8e",
     "regions": {
      "0902811c-8139-4900-8927-deab31f548e5": {
       "attrs": {
        "height": 0.4,
        "width": 0.8,
        "x": 0.1,
        "y": 0.5
       },
       "content": {
        "cell": "b3de5ec2-4e2d-4099-bd29-30befceffcdd",
        "part": "whole"
       },
       "id": "0902811c-8139-4900-8927-deab31f548e5"
      },
      "484900fb-19be-4d6d-b55c-88af6476f2bd": {
       "attrs": {
        "height": 0.8,
        "width": 0.8,
        "x": 0.1,
        "y": 0.1
       },
       "content": {
        "cell": "9ed6d71b-b34f-49b9-99f1-ce144fc20bbd",
        "part": "whole"
       },
       "id": "484900fb-19be-4d6d-b55c-88af6476f2bd"
      },
      "5c05406c-2dfb-44d8-a89b-4e9322c3094c": {
       "attrs": {
        "height": 0.4,
        "width": 0.8,
        "x": 0.1,
        "y": 0.5
       },
       "content": {
        "cell": "09fd64f6-7c19-42cd-a2bd-03d1f48c686c",
        "part": "whole"
       },
       "id": "5c05406c-2dfb-44d8-a89b-4e9322c3094c"
      }
     }
    },
    "111bc524-7ede-4866-bcaa-14d9e9e026ee": {
     "id": "111bc524-7ede-4866-bcaa-14d9e9e026ee",
     "prev": "6df886f8-5b49-4ac2-95a3-583c1c893642",
     "regions": {
      "eb4af181-1d7d-42e5-b882-63736cf7d77d": {
       "attrs": {
        "height": 0.8,
        "width": 0.8,
        "x": 0.1,
        "y": 0.1
       },
       "content": {
        "cell": "4ea0bab4-8106-4527-a1c3-54a6b25ebb5f",
        "part": "whole"
       },
       "id": "eb4af181-1d7d-42e5-b882-63736cf7d77d"
      }
     }
    },
    "11620390-2c4e-4ee9-89a7-8d3be6f763a3": {
     "id": "11620390-2c4e-4ee9-89a7-8d3be6f763a3",
     "prev": "fb24bf97-17c9-4943-958a-fc45cd6f2308",
     "regions": {
      "c8f0bedc-7eee-4e1a-aa6d-bdfa88ef32f6": {
       "attrs": {
        "height": 0.8,
        "width": 0.8,
        "x": 0.1,
        "y": 0.1
       },
       "content": {
        "cell": "683d53c1-4891-469a-9700-113924b3ae40",
        "part": "whole"
       },
       "id": "c8f0bedc-7eee-4e1a-aa6d-bdfa88ef32f6"
      }
     }
    },
    "136d970f-b4d9-445a-9e91-565107f52aa6": {
     "id": "136d970f-b4d9-445a-9e91-565107f52aa6",
     "prev": "52116b15-396a-4993-aae8-7c72222f4cbb",
     "regions": {
      "9190645e-52ae-4725-a393-b6c871814d30": {
       "attrs": {
        "height": 0.8,
        "width": 0.8,
        "x": 0.1,
        "y": 0.1
       },
       "content": {
        "cell": "8a335972-5778-46fd-aa18-4ab710675f28",
        "part": "whole"
       },
       "id": "9190645e-52ae-4725-a393-b6c871814d30"
      }
     }
    },
    "184945ed-4e0c-4ca5-9705-e2d5d5b97f9d": {
     "id": "184945ed-4e0c-4ca5-9705-e2d5d5b97f9d",
     "prev": "90f590e4-8675-400e-93a6-5c472f709515",
     "regions": {
      "741229fa-2c06-4daa-bd0a-fc27594580c9": {
       "attrs": {
        "height": 0.8,
        "width": 0.8,
        "x": 0.1,
        "y": 0.1
       },
       "content": {
        "cell": "85e42507-7706-49d9-9aba-333053711177",
        "part": "whole"
       },
       "id": "741229fa-2c06-4daa-bd0a-fc27594580c9"
      }
     }
    },
    "198dc1a4-a084-4ea8-87c9-1800eff81e8e": {
     "id": "198dc1a4-a084-4ea8-87c9-1800eff81e8e",
     "prev": "a9f12b72-ee3c-4bdc-995c-cd54f6661066",
     "regions": {
      "45c51194-7d16-4f26-b088-35cc53040784": {
       "attrs": {
        "height": 0.4,
        "width": 0.8,
        "x": 0.1,
        "y": 0.5
       },
       "content": {
        "cell": "b61530d8-bc78-4d6f-8b38-81f304f9422c",
        "part": "whole"
       },
       "id": "45c51194-7d16-4f26-b088-35cc53040784"
      },
      "94bfef8a-31fa-4638-8035-2de69fdf17cf": {
       "attrs": {
        "height": 0.8,
        "width": 0.8,
        "x": 0.1,
        "y": 0.1
       },
       "content": {
        "cell": "74e8fa37-f51d-4d79-927e-d6f66c184cb0",
        "part": "whole"
       },
       "id": "94bfef8a-31fa-4638-8035-2de69fdf17cf"
      }
     }
    },
    "1a162695-6d23-4aa5-84e5-9293359145dd": {
     "id": "1a162695-6d23-4aa5-84e5-9293359145dd",
     "prev": "11620390-2c4e-4ee9-89a7-8d3be6f763a3",
     "regions": {
      "75d723c3-7cd5-42bf-816a-d0c94b42b4dd": {
       "attrs": {
        "height": 0.8,
        "width": 0.8,
        "x": 0.1,
        "y": 0.1
       },
       "content": {
        "cell": "c4a2064c-f5d8-4916-aca3-a38a42c5e40a",
        "part": "whole"
       },
       "id": "75d723c3-7cd5-42bf-816a-d0c94b42b4dd"
      }
     }
    },
    "1a58efb1-7ce3-4ced-823f-4dd9697607c2": {
     "id": "1a58efb1-7ce3-4ced-823f-4dd9697607c2",
     "prev": "bd8700af-e789-44d4-a2b9-75431c1b5de7",
     "regions": {
      "4cd81af6-7743-4d96-904b-55f29a30dc96": {
       "attrs": {
        "height": 0.8,
        "width": 0.8,
        "x": 0.1,
        "y": 0.1
       },
       "content": {
        "cell": "fdca7c70-beaa-4757-b7fd-61a3576f8fd2",
        "part": "whole"
       },
       "id": "4cd81af6-7743-4d96-904b-55f29a30dc96"
      },
      "cc6eb337-5b6b-4959-a0b9-72fdbdbc989e": {
       "attrs": {
        "height": 0.4,
        "width": 0.8,
        "x": 0.1,
        "y": 0.5
       },
       "content": {
        "cell": "ce244de5-c37a-4c61-a11c-3c78acc57e53",
        "part": "whole"
       },
       "id": "cc6eb337-5b6b-4959-a0b9-72fdbdbc989e"
      }
     }
    },
    "1b5a220f-e270-4198-b7f5-379307f19497": {
     "id": "1b5a220f-e270-4198-b7f5-379307f19497",
     "prev": "f66ca40e-1205-4d69-9a5f-17d9ae0638e0",
     "regions": {
      "621203ab-141a-444d-a1d8-83114e563bf8": {
       "attrs": {
        "height": 0.8,
        "width": 0.8,
        "x": 0.1,
        "y": 0.1
       },
       "content": {
        "cell": "908243fb-d6dc-47d7-b8d3-f8e785bf22d3",
        "part": "whole"
       },
       "id": "621203ab-141a-444d-a1d8-83114e563bf8"
      }
     }
    },
    "1bbbcd0c-55d4-4b4f-8b8e-030968ab88ac": {
     "id": "1bbbcd0c-55d4-4b4f-8b8e-030968ab88ac",
     "prev": "0ba0fffd-8667-41e9-b7d1-9aa97e50a9ad",
     "regions": {
      "820e8e23-871c-466b-961e-570cc1cfcd84": {
       "attrs": {
        "height": 0.8,
        "width": 0.8,
        "x": 0.1,
        "y": 0.1
       },
       "content": {
        "cell": "800468e1-293e-4668-815d-74c13f7981ce",
        "part": "whole"
       },
       "id": "820e8e23-871c-466b-961e-570cc1cfcd84"
      }
     }
    },
    "1cc58670-9996-4ef3-8e5a-ed9a8e887979": {
     "id": "1cc58670-9996-4ef3-8e5a-ed9a8e887979",
     "prev": "b623c826-f1ef-43ee-889e-b849c9fc87ce",
     "regions": {
      "46b381cd-0dd0-4232-bc53-279d162482dc": {
       "attrs": {
        "height": 0.8,
        "width": 0.8,
        "x": 0.1,
        "y": 0.1
       },
       "content": {
        "cell": "98d63654-f18b-4f5a-982c-d52bb58f7235",
        "part": "whole"
       },
       "id": "46b381cd-0dd0-4232-bc53-279d162482dc"
      },
      "b16fa2b6-cc74-4d2a-bbb5-3ccc99d0723c": {
       "attrs": {
        "height": 0.4,
        "width": 0.8,
        "x": 0.1,
        "y": 0.5
       },
       "content": {
        "cell": "693295fc-dc34-4cc4-9bc3-e1bd9cb3f9dc",
        "part": "whole"
       },
       "id": "b16fa2b6-cc74-4d2a-bbb5-3ccc99d0723c"
      }
     }
    },
    "21897ce9-9a3a-451d-9dca-b5e7c9a86dce": {
     "id": "21897ce9-9a3a-451d-9dca-b5e7c9a86dce",
     "prev": "07699b46-6545-4cdb-b0e5-16371d9ffdac",
     "regions": {
      "a5ab6367-5418-4351-994c-0631ff5de702": {
       "attrs": {
        "height": 0.8,
        "width": 0.8,
        "x": 0.1,
        "y": 0.1
       },
       "content": {
        "cell": "45558e6d-31de-4cec-b658-cf0f38626530",
        "part": "whole"
       },
       "id": "a5ab6367-5418-4351-994c-0631ff5de702"
      }
     }
    },
    "21dbec46-aa2b-4eea-aef2-4024cc967c12": {
     "id": "21dbec46-aa2b-4eea-aef2-4024cc967c12",
     "prev": "a0dde674-4ddb-4cdd-a20b-b02cf3ffd9e5",
     "regions": {
      "3cf512b2-43db-4a87-b58a-3ad003b74772": {
       "attrs": {
        "height": 0.4,
        "width": 0.8,
        "x": 0.1,
        "y": 0.5
       },
       "content": {
        "cell": "875c5a2c-d8da-4f0c-891e-7b0feae8ee75",
        "part": "whole"
       },
       "id": "3cf512b2-43db-4a87-b58a-3ad003b74772"
      },
      "ef2adeb7-3cb3-46e1-82bd-ebeef25e2172": {
       "attrs": {
        "height": 0.4,
        "width": 0.8,
        "x": 0.1,
        "y": 0.5
       },
       "content": {
        "cell": "9767e4e8-0e9d-4b6b-9b62-2c308db0bdd4",
        "part": "whole"
       },
       "id": "ef2adeb7-3cb3-46e1-82bd-ebeef25e2172"
      },
      "efb6da4c-72fd-435b-b423-5e5004d9c1fd": {
       "attrs": {
        "height": 0.8,
        "width": 0.8,
        "x": 0.1,
        "y": 0.1
       },
       "content": {
        "cell": "208bca27-089f-4249-9da1-1885de975f26",
        "part": "whole"
       },
       "id": "efb6da4c-72fd-435b-b423-5e5004d9c1fd"
      }
     }
    },
    "2cbb52d0-296f-427f-99ad-714b2e80255f": {
     "id": "2cbb52d0-296f-427f-99ad-714b2e80255f",
     "prev": "f7431e5b-a7b6-4b9d-b963-d88894a8c28b",
     "regions": {
      "2f37d522-b7b4-435a-bcce-0cf80e953853": {
       "attrs": {
        "height": 0.4,
        "width": 0.8,
        "x": 0.1,
        "y": 0.5
       },
       "content": {
        "cell": "dff0decd-81eb-407c-ba15-e38964635b17",
        "part": "whole"
       },
       "id": "2f37d522-b7b4-435a-bcce-0cf80e953853"
      },
      "816e715e-47e9-4483-9643-5afbf5eaba91": {
       "attrs": {
        "height": 0.8,
        "width": 0.8,
        "x": 0.1,
        "y": 0.1
       },
       "content": {
        "cell": "d9ea574a-ce9a-415f-ad0b-b26fb2ce2e26",
        "part": "whole"
       },
       "id": "816e715e-47e9-4483-9643-5afbf5eaba91"
      }
     }
    },
    "2ea3d29c-f6f8-4349-93c9-7db28237e3cd": {
     "id": "2ea3d29c-f6f8-4349-93c9-7db28237e3cd",
     "prev": "184945ed-4e0c-4ca5-9705-e2d5d5b97f9d",
     "regions": {
      "976252dd-2eae-46e9-a425-10f0ee9da9fd": {
       "attrs": {
        "height": 0.8,
        "width": 0.8,
        "x": 0.1,
        "y": 0.1
       },
       "content": {
        "cell": "ae190ffa-f297-43cc-8af8-616938f2fb0e",
        "part": "whole"
       },
       "id": "976252dd-2eae-46e9-a425-10f0ee9da9fd"
      }
     }
    },
    "34910890-e332-494f-a001-db7aa378ba4a": {
     "id": "34910890-e332-494f-a001-db7aa378ba4a",
     "prev": null,
     "regions": {
      "7ce56f59-5459-4561-9238-8f45666fce3a": {
       "attrs": {
        "height": 0.8,
        "width": 0.8,
        "x": 0.1,
        "y": 0.1
       },
       "content": {
        "cell": "fb4e8a4a-8abb-48ed-8947-e61299403ea0",
        "part": "whole"
       },
       "id": "7ce56f59-5459-4561-9238-8f45666fce3a"
      },
      "9a6cb1df-1b35-4733-9d29-b30da5e3e9d9": {
       "attrs": {
        "height": 0.4,
        "width": 0.8,
        "x": 0.1,
        "y": 0.5
       },
       "content": {
        "cell": "5abaa188-a2ce-4b69-9979-dce7f7319480",
        "part": "whole"
       },
       "id": "9a6cb1df-1b35-4733-9d29-b30da5e3e9d9"
      },
      "b6333d01-29a3-4fa5-b167-89d02720c121": {
       "attrs": {
        "height": 0.4,
        "width": 0.8,
        "x": 0.1,
        "y": 0.5
       },
       "content": {
        "cell": "02df5358-3921-4111-9315-25df44ee6a53",
        "part": "whole"
       },
       "id": "b6333d01-29a3-4fa5-b167-89d02720c121"
      }
     }
    },
    "3bf6cc64-674d-441f-b281-95b8a65efbb7": {
     "id": "3bf6cc64-674d-441f-b281-95b8a65efbb7",
     "prev": "c3d2eed8-b23b-4fff-b929-ba5a98657cad",
     "regions": {
      "c0a9bca2-bfdc-418c-afe3-04fddf2cc02a": {
       "attrs": {
        "height": 0.8,
        "width": 0.8,
        "x": 0.1,
        "y": 0.1
       },
       "content": {
        "cell": "8036e3ab-5453-408a-8da9-102fca42141e",
        "part": "whole"
       },
       "id": "c0a9bca2-bfdc-418c-afe3-04fddf2cc02a"
      }
     }
    },
    "52116b15-396a-4993-aae8-7c72222f4cbb": {
     "id": "52116b15-396a-4993-aae8-7c72222f4cbb",
     "prev": "9a7a389b-24ae-4997-87b4-a1bd678c84a4",
     "regions": {
      "2b878087-9751-4e18-a639-c0347e251afe": {
       "attrs": {
        "height": 0.8,
        "width": 0.8,
        "x": 0.1,
        "y": 0.1
       },
       "content": {
        "cell": "7ca8f3a1-f205-48b3-850c-e37a14da366c",
        "part": "whole"
       },
       "id": "2b878087-9751-4e18-a639-c0347e251afe"
      }
     }
    },
    "52b8b057-93f8-4958-9834-05f15f948afb": {
     "id": "52b8b057-93f8-4958-9834-05f15f948afb",
     "prev": "ac5c6789-f81c-478e-be10-2200388e7504",
     "regions": {
      "5d0d5bde-666f-45f0-bea5-eee2f94c8f9a": {
       "attrs": {
        "height": 0.8,
        "width": 0.8,
        "x": 0.1,
        "y": 0.1
       },
       "content": {
        "cell": "b53d6700-737d-4d9a-a009-0c748d51205e",
        "part": "whole"
       },
       "id": "5d0d5bde-666f-45f0-bea5-eee2f94c8f9a"
      }
     }
    },
    "54c88434-6ff4-47aa-b97f-4a8869adc484": {
     "id": "54c88434-6ff4-47aa-b97f-4a8869adc484",
     "prev": "8c6a2446-0585-4d1d-8d54-e954de251b0f",
     "regions": {
      "a155224c-5e35-4821-91b7-23ac74570c34": {
       "attrs": {
        "height": 0.4,
        "width": 0.8,
        "x": 0.1,
        "y": 0.5
       },
       "content": {
        "cell": "17e7b252-2425-4caf-8584-161a183ccf8f",
        "part": "whole"
       },
       "id": "a155224c-5e35-4821-91b7-23ac74570c34"
      },
      "db1360b5-719c-4c95-9f9b-504443119260": {
       "attrs": {
        "height": 0.8,
        "width": 0.8,
        "x": 0.1,
        "y": 0.1
       },
       "content": {
        "cell": "b6672207-3816-4622-b1a0-1d18622d732a",
        "part": "whole"
       },
       "id": "db1360b5-719c-4c95-9f9b-504443119260"
      }
     }
    },
    "56e2dddd-fbe5-4a66-872b-aaad161179fe": {
     "id": "56e2dddd-fbe5-4a66-872b-aaad161179fe",
     "prev": "67c2edad-3f2e-40be-b875-9d4120cb4ad7",
     "regions": {
      "fcd31c81-2068-4acf-ad9a-2df6076e7587": {
       "attrs": {
        "height": 0.8,
        "width": 0.8,
        "x": 0.1,
        "y": 0.1
       },
       "content": {
        "cell": "2097fa2c-0889-48ef-94a9-d2f8c49842f1",
        "part": "whole"
       },
       "id": "fcd31c81-2068-4acf-ad9a-2df6076e7587"
      }
     }
    },
    "5b7ea573-d1eb-4f12-a8a6-41457575b4e9": {
     "id": "5b7ea573-d1eb-4f12-a8a6-41457575b4e9",
     "prev": "da4d55b3-839f-4375-827f-df2efa947646",
     "regions": {
      "5e99273b-2910-4457-a052-c3b742beaa78": {
       "attrs": {
        "height": 0.8,
        "width": 0.8,
        "x": 0.1,
        "y": 0.1
       },
       "content": {
        "cell": "df444856-89e4-49fb-ad28-07e8f8477a07",
        "part": "whole"
       },
       "id": "5e99273b-2910-4457-a052-c3b742beaa78"
      }
     }
    },
    "5c391c71-5a53-49a8-b5e7-8c508c0d0e4b": {
     "id": "5c391c71-5a53-49a8-b5e7-8c508c0d0e4b",
     "prev": "1a162695-6d23-4aa5-84e5-9293359145dd",
     "regions": {
      "44052625-8206-40a1-aa51-5b06af36d925": {
       "attrs": {
        "height": 0.8,
        "width": 0.8,
        "x": 0.1,
        "y": 0.1
       },
       "content": {
        "cell": "28935ce3-aaf5-4f8c-ab42-a542f264a988",
        "part": "whole"
       },
       "id": "44052625-8206-40a1-aa51-5b06af36d925"
      }
     }
    },
    "5eeebf2c-d09e-4aab-a878-6c44e7ccbb5f": {
     "id": "5eeebf2c-d09e-4aab-a878-6c44e7ccbb5f",
     "prev": "be57be5d-cdf5-4ae6-9fa9-c039ae7a7837",
     "regions": {
      "7df7ff51-2f1b-4dc8-b0c2-ffeac4cf438c": {
       "attrs": {
        "height": 0.8,
        "width": 0.8,
        "x": 0.1,
        "y": 0.1
       },
       "content": {
        "cell": "4b918520-e4d4-4328-8cf7-4efecf18e1b7",
        "part": "whole"
       },
       "id": "7df7ff51-2f1b-4dc8-b0c2-ffeac4cf438c"
      }
     }
    },
    "6053802b-d657-4859-9223-e680e00a9b8d": {
     "id": "6053802b-d657-4859-9223-e680e00a9b8d",
     "prev": "9936f1f9-9b71-48f2-9a0f-be6ad0df5d6d",
     "regions": {
      "4ed9599d-e44d-4cde-a3e2-3d27d684c874": {
       "attrs": {
        "height": 0.8,
        "width": 0.8,
        "x": 0.1,
        "y": 0.1
       },
       "content": {
        "cell": "9d3f44e7-09a0-4163-92ec-4b4072eab499",
        "part": "whole"
       },
       "id": "4ed9599d-e44d-4cde-a3e2-3d27d684c874"
      },
      "d1a13b0d-415a-426c-b404-2ebfd424e39d": {
       "attrs": {
        "height": 0.4,
        "width": 0.8,
        "x": 0.1,
        "y": 0.5
       },
       "content": {
        "cell": "16fadcdd-76b7-4f71-8495-443a3a4fad21",
        "part": "whole"
       },
       "id": "d1a13b0d-415a-426c-b404-2ebfd424e39d"
      }
     }
    },
    "62cd72b4-9259-44ee-a1bd-1b9df790624f": {
     "id": "62cd72b4-9259-44ee-a1bd-1b9df790624f",
     "prev": "96af0963-4c71-4980-91f9-33da56766d9e",
     "regions": {
      "aa4f6659-f18e-44ea-adaf-71cfe39e6ddf": {
       "attrs": {
        "height": 0.8,
        "width": 0.8,
        "x": 0.1,
        "y": 0.1
       },
       "content": {
        "cell": "eb9326e6-a3cb-4d0a-9bdf-e04410355aff",
        "part": "whole"
       },
       "id": "aa4f6659-f18e-44ea-adaf-71cfe39e6ddf"
      }
     }
    },
    "6366b936-5b36-4251-b6ef-ec6c9badd2a2": {
     "id": "6366b936-5b36-4251-b6ef-ec6c9badd2a2",
     "prev": "e9e38cb2-1166-45b7-bfcb-bb63cbea28bb",
     "regions": {
      "b5e492df-22e0-4cc5-a235-74710fc15f8a": {
       "attrs": {
        "height": 0.8,
        "width": 0.8,
        "x": 0.1,
        "y": 0.1
       },
       "content": {
        "cell": "f6df3720-5bda-4664-b68f-31fc2bd37892",
        "part": "whole"
       },
       "id": "b5e492df-22e0-4cc5-a235-74710fc15f8a"
      }
     }
    },
    "65286945-77b7-415e-bbb7-b57f1776d3e4": {
     "id": "65286945-77b7-415e-bbb7-b57f1776d3e4",
     "prev": "94efea50-b5ac-4497-b90f-8548538d44df",
     "regions": {
      "4ecd87f3-a2c3-4761-a677-dc227d6df9de": {
       "attrs": {
        "height": 0.8,
        "width": 0.8,
        "x": 0.1,
        "y": 0.1
       },
       "content": {
        "cell": "616e01bc-f361-4841-85b0-21b5b0167dc4",
        "part": "whole"
       },
       "id": "4ecd87f3-a2c3-4761-a677-dc227d6df9de"
      }
     }
    },
    "67c2edad-3f2e-40be-b875-9d4120cb4ad7": {
     "id": "67c2edad-3f2e-40be-b875-9d4120cb4ad7",
     "prev": "5b7ea573-d1eb-4f12-a8a6-41457575b4e9",
     "regions": {
      "cba2915e-2dc6-43a6-ad68-fcbb5cae1d76": {
       "attrs": {
        "height": 0.8,
        "width": 0.8,
        "x": 0.1,
        "y": 0.1
       },
       "content": {
        "cell": "66c5449e-7327-4b31-aee8-488530a7b0d5",
        "part": "whole"
       },
       "id": "cba2915e-2dc6-43a6-ad68-fcbb5cae1d76"
      }
     }
    },
    "6cf64e82-8633-431e-ace2-d64e99a3efea": {
     "id": "6cf64e82-8633-431e-ace2-d64e99a3efea",
     "prev": "78b918d7-391a-42de-9781-fd76bbc896ca",
     "regions": {
      "813353ad-dc72-409e-be1a-f6e4733b339f": {
       "attrs": {
        "height": 0.8,
        "width": 0.8,
        "x": 0.1,
        "y": 0.1
       },
       "content": {
        "cell": "e57346c6-cb9e-4366-82a8-e3f35229501a",
        "part": "whole"
       },
       "id": "813353ad-dc72-409e-be1a-f6e4733b339f"
      },
      "c0f98b72-3f94-476f-a5d4-4fc0884473e0": {
       "attrs": {
        "height": 0.4,
        "width": 0.8,
        "x": 0.1,
        "y": 0.5
       },
       "content": {
        "cell": "df2c1646-4142-4b4a-8cf8-dec4b7cfca0b",
        "part": "whole"
       },
       "id": "c0f98b72-3f94-476f-a5d4-4fc0884473e0"
      }
     }
    },
    "6df886f8-5b49-4ac2-95a3-583c1c893642": {
     "id": "6df886f8-5b49-4ac2-95a3-583c1c893642",
     "prev": "3bf6cc64-674d-441f-b281-95b8a65efbb7",
     "regions": {
      "1743dc13-c3f9-4ba0-b016-f62ce464c99e": {
       "attrs": {
        "height": 0.8,
        "width": 0.8,
        "x": 0.1,
        "y": 0.1
       },
       "content": {
        "cell": "0aef1718-4ce6-4cf4-ad4e-72a84153f603",
        "part": "whole"
       },
       "id": "1743dc13-c3f9-4ba0-b016-f62ce464c99e"
      }
     }
    },
    "7036d34e-d0f7-4c8e-b453-5385227109b0": {
     "id": "7036d34e-d0f7-4c8e-b453-5385227109b0",
     "prev": "c76aebc7-7976-45db-a323-38412b328a57",
     "regions": {
      "b67d4190-6d83-4564-b5e0-f0f0c1180927": {
       "attrs": {
        "height": 0.8,
        "width": 0.8,
        "x": 0.1,
        "y": 0.1
       },
       "content": {
        "cell": "4efdb1bd-cc25-4c43-bcf6-d4f28b594271",
        "part": "whole"
       },
       "id": "b67d4190-6d83-4564-b5e0-f0f0c1180927"
      }
     }
    },
    "71dbc51a-ec10-4eb8-af23-a77a48549d44": {
     "id": "71dbc51a-ec10-4eb8-af23-a77a48549d44",
     "prev": "a8cbab7b-1494-4c45-b72d-3188efa5a737",
     "regions": {
      "637a4748-4a01-461a-8364-e08a83f15228": {
       "attrs": {
        "height": 0.8,
        "width": 0.8,
        "x": 0.1,
        "y": 0.1
       },
       "content": {
        "cell": "ca7b317d-e5fe-4eff-9729-1774384bf07b",
        "part": "whole"
       },
       "id": "637a4748-4a01-461a-8364-e08a83f15228"
      },
      "ea268932-174a-460f-848c-aecb28a6433f": {
       "attrs": {
        "height": 0.4,
        "width": 0.8,
        "x": 0.1,
        "y": 0.5
       },
       "content": {
        "cell": "fdce0179-6bc0-41ef-9658-6507a2602ff2",
        "part": "whole"
       },
       "id": "ea268932-174a-460f-848c-aecb28a6433f"
      }
     }
    },
    "78b918d7-391a-42de-9781-fd76bbc896ca": {
     "id": "78b918d7-391a-42de-9781-fd76bbc896ca",
     "prev": "a55e2c8c-094d-4c5d-9c84-5c924aa7c394",
     "regions": {
      "ba751469-c9d2-410d-9c72-ea1d14b4ce45": {
       "attrs": {
        "height": 0.4,
        "width": 0.8,
        "x": 0.1,
        "y": 0.5
       },
       "content": {
        "cell": "2412c56c-5817-4c11-ac12-d5df69913ade",
        "part": "whole"
       },
       "id": "ba751469-c9d2-410d-9c72-ea1d14b4ce45"
      },
      "cb85aae5-3544-42d5-b2e7-79010a4dd069": {
       "attrs": {
        "height": 0.8,
        "width": 0.8,
        "x": 0.1,
        "y": 0.1
       },
       "content": {
        "cell": "3830ef40-597d-430b-998e-5b03b13ba708",
        "part": "whole"
       },
       "id": "cb85aae5-3544-42d5-b2e7-79010a4dd069"
      }
     }
    },
    "7acf734e-923f-4825-8dd4-e021b3ae2683": {
     "id": "7acf734e-923f-4825-8dd4-e021b3ae2683",
     "prev": "65286945-77b7-415e-bbb7-b57f1776d3e4",
     "regions": {
      "571865df-3b6a-42a8-b02b-48ca1207e79c": {
       "attrs": {
        "height": 0.8,
        "width": 0.8,
        "x": 0.1,
        "y": 0.1
       },
       "content": {
        "cell": "124561aa-b334-4d5c-b514-40f3200d9616",
        "part": "whole"
       },
       "id": "571865df-3b6a-42a8-b02b-48ca1207e79c"
      }
     }
    },
    "846520f7-f8ca-49e6-8eaf-06d635aba36f": {
     "id": "846520f7-f8ca-49e6-8eaf-06d635aba36f",
     "prev": "5eeebf2c-d09e-4aab-a878-6c44e7ccbb5f",
     "regions": {
      "5b90158b-20c7-462f-8a41-409ec9e563b4": {
       "attrs": {
        "height": 0.8,
        "width": 0.8,
        "x": 0.1,
        "y": 0.1
       },
       "content": {
        "cell": "7c7445f2-d5bc-4969-a37b-557a2e69eead",
        "part": "whole"
       },
       "id": "5b90158b-20c7-462f-8a41-409ec9e563b4"
      }
     }
    },
    "8610569b-022a-4a36-b75d-f2cb19f7751b": {
     "id": "8610569b-022a-4a36-b75d-f2cb19f7751b",
     "prev": "6cf64e82-8633-431e-ace2-d64e99a3efea",
     "regions": {
      "65d9d9c6-1509-4bad-a04d-a62b3394937b": {
       "attrs": {
        "height": 0.4,
        "width": 0.8,
        "x": 0.1,
        "y": 0.5
       },
       "content": {
        "cell": "7cfdba0d-e8be-461c-b52f-57338128738b",
        "part": "whole"
       },
       "id": "65d9d9c6-1509-4bad-a04d-a62b3394937b"
      },
      "7f6a6a2c-ff15-40b6-9672-b1bad86e822a": {
       "attrs": {
        "height": 0.4,
        "width": 0.8,
        "x": 0.1,
        "y": 0.5
       },
       "content": {
        "cell": "6a0e3811-73f7-4223-8dc3-729567d6b48a",
        "part": "whole"
       },
       "id": "7f6a6a2c-ff15-40b6-9672-b1bad86e822a"
      },
      "e1bdb8a3-1588-415c-8647-1551fc350cb1": {
       "attrs": {
        "height": 0.8,
        "width": 0.8,
        "x": 0.1,
        "y": 0.1
       },
       "content": {
        "cell": "04eb7353-25b4-428c-baed-7f97e1526e52",
        "part": "whole"
       },
       "id": "e1bdb8a3-1588-415c-8647-1551fc350cb1"
      },
      "ef3db868-e1aa-436f-aef3-2c6c03ce96d3": {
       "attrs": {
        "height": 0.4,
        "width": 0.8,
        "x": 0.1,
        "y": 0.5
       },
       "content": {
        "cell": "c9a0b1e9-6f98-4b73-9ac5-dc0c57f45441",
        "part": "whole"
       },
       "id": "ef3db868-e1aa-436f-aef3-2c6c03ce96d3"
      }
     }
    },
    "8c6a2446-0585-4d1d-8d54-e954de251b0f": {
     "id": "8c6a2446-0585-4d1d-8d54-e954de251b0f",
     "prev": "8ce312b9-2f3f-48b8-9492-f99fe2788387",
     "regions": {
      "b401c5b6-9e7c-4884-974a-f9fbe7bfbb9e": {
       "attrs": {
        "height": 0.8,
        "width": 0.8,
        "x": 0.1,
        "y": 0.1
       },
       "content": {
        "cell": "0c54f3c9-6158-4675-b675-7229f346d172",
        "part": "whole"
       },
       "id": "b401c5b6-9e7c-4884-974a-f9fbe7bfbb9e"
      }
     }
    },
    "8c7efb39-482f-4c89-b12a-5e539e00e4dc": {
     "id": "8c7efb39-482f-4c89-b12a-5e539e00e4dc",
     "prev": "e7314a51-13ba-48ab-93a3-67f61bb897ae",
     "regions": {
      "110e1c09-312f-45c0-8620-532f0b292a74": {
       "attrs": {
        "height": 0.8,
        "width": 0.8,
        "x": 0.1,
        "y": 0.1
       },
       "content": {
        "cell": "210e2754-53e3-4267-afe3-8690e1a69948",
        "part": "whole"
       },
       "id": "110e1c09-312f-45c0-8620-532f0b292a74"
      }
     }
    },
    "8ce312b9-2f3f-48b8-9492-f99fe2788387": {
     "id": "8ce312b9-2f3f-48b8-9492-f99fe2788387",
     "prev": "c65a84d0-38c4-40b0-88b5-b53af6cbd9fb",
     "regions": {
      "9daf1bf5-4f9b-462c-880b-1e85cefa07e7": {
       "attrs": {
        "height": 0.8,
        "width": 0.8,
        "x": 0.1,
        "y": 0.1
       },
       "content": {
        "cell": "e1c0bb29-75b5-4465-b941-73c5194a6516",
        "part": "whole"
       },
       "id": "9daf1bf5-4f9b-462c-880b-1e85cefa07e7"
      }
     }
    },
    "90f590e4-8675-400e-93a6-5c472f709515": {
     "id": "90f590e4-8675-400e-93a6-5c472f709515",
     "prev": "21897ce9-9a3a-451d-9dca-b5e7c9a86dce",
     "regions": {
      "14400cbb-12d6-4b66-a6dc-509c48667e41": {
       "attrs": {
        "height": 0.8,
        "width": 0.8,
        "x": 0.1,
        "y": 0.1
       },
       "content": {
        "cell": "4220f1e7-eb05-4f71-ac83-666921b265ed",
        "part": "whole"
       },
       "id": "14400cbb-12d6-4b66-a6dc-509c48667e41"
      }
     }
    },
    "938cebbe-3328-42c9-ace3-7fd8eb72b0ca": {
     "id": "938cebbe-3328-42c9-ace3-7fd8eb72b0ca",
     "prev": "9ef21567-900e-433c-934a-ea62045c230d",
     "regions": {
      "5d6c75e6-0713-442f-b423-30c9b656529e": {
       "attrs": {
        "height": 0.8,
        "width": 0.8,
        "x": 0.1,
        "y": 0.1
       },
       "content": {
        "cell": "07648271-cf0f-46c8-81c9-f8990383b845",
        "part": "whole"
       },
       "id": "5d6c75e6-0713-442f-b423-30c9b656529e"
      }
     }
    },
    "94efea50-b5ac-4497-b90f-8548538d44df": {
     "id": "94efea50-b5ac-4497-b90f-8548538d44df",
     "prev": "1bbbcd0c-55d4-4b4f-8b8e-030968ab88ac",
     "regions": {
      "bf50fcfb-6240-4346-ad2c-2a8df72bac79": {
       "attrs": {
        "height": 0.8,
        "width": 0.8,
        "x": 0.1,
        "y": 0.1
       },
       "content": {
        "cell": "9f409bcd-b3eb-4428-b8f1-e3092c4a299e",
        "part": "whole"
       },
       "id": "bf50fcfb-6240-4346-ad2c-2a8df72bac79"
      }
     }
    },
    "969a2bd0-0362-4ff9-b1b6-2c1cc4757a5e": {
     "id": "969a2bd0-0362-4ff9-b1b6-2c1cc4757a5e",
     "prev": "7acf734e-923f-4825-8dd4-e021b3ae2683",
     "regions": {
      "0d0bb9ff-e616-4057-8602-c2da4cbc5d7d": {
       "attrs": {
        "height": 0.4,
        "width": 0.8,
        "x": 0.1,
        "y": 0.5
       },
       "content": {
        "cell": "427d9f1b-1b27-492d-8212-e66069d6b5f9",
        "part": "whole"
       },
       "id": "0d0bb9ff-e616-4057-8602-c2da4cbc5d7d"
      },
      "16194f61-986b-44d9-8dd1-50079a49e0e9": {
       "attrs": {
        "height": 0.4,
        "width": 0.8,
        "x": 0.1,
        "y": 0.5
       },
       "content": {
        "cell": "6acbc902-f7f9-4863-aa66-c490850b9c47",
        "part": "whole"
       },
       "id": "16194f61-986b-44d9-8dd1-50079a49e0e9"
      },
      "1b8ace69-0c3f-4e25-898f-f83094d4dbb5": {
       "attrs": {
        "height": 0.8,
        "width": 0.8,
        "x": 0.1,
        "y": 0.1
       },
       "content": {
        "cell": "73f32308-3e58-477b-85cc-9f96fff83666",
        "part": "whole"
       },
       "id": "1b8ace69-0c3f-4e25-898f-f83094d4dbb5"
      },
      "2493413f-c962-4429-8c84-17ae456eeeb3": {
       "attrs": {
        "height": 0.4,
        "width": 0.8,
        "x": 0.1,
        "y": 0.5
       },
       "content": {
        "cell": "185c508a-d82f-4779-b1c1-c436843ac503",
        "part": "whole"
       },
       "id": "2493413f-c962-4429-8c84-17ae456eeeb3"
      },
      "36d5ca99-cd39-4b7c-bd85-5d69faf6f55f": {
       "attrs": {
        "height": 0.4,
        "width": 0.8,
        "x": 0.1,
        "y": 0.5
       },
       "content": {
        "cell": "7309610f-1ce3-4130-aaf2-835ec6a306c4",
        "part": "whole"
       },
       "id": "36d5ca99-cd39-4b7c-bd85-5d69faf6f55f"
      }
     }
    },
    "96af0963-4c71-4980-91f9-33da56766d9e": {
     "id": "96af0963-4c71-4980-91f9-33da56766d9e",
     "prev": "aac693de-2452-44bb-aca5-c8ff9fa01f58",
     "regions": {
      "55ea8f25-d29c-4c6e-b44c-a7f8a0c51e35": {
       "attrs": {
        "height": 0.8,
        "width": 0.8,
        "x": 0.1,
        "y": 0.1
       },
       "content": {
        "cell": "2f1b9eab-6507-4392-9075-589b0eed8942",
        "part": "whole"
       },
       "id": "55ea8f25-d29c-4c6e-b44c-a7f8a0c51e35"
      }
     }
    },
    "98c74023-3fea-45e4-82df-efbb9bf30c07": {
     "id": "98c74023-3fea-45e4-82df-efbb9bf30c07",
     "prev": "8c7efb39-482f-4c89-b12a-5e539e00e4dc",
     "regions": {
      "7f5cd404-891c-4ad5-9996-b9d73b0a8fa4": {
       "attrs": {
        "height": 0.8,
        "width": 0.8,
        "x": 0.1,
        "y": 0.1
       },
       "content": {
        "cell": "8fcabcb1-6c7f-46cc-ad6b-481e5d13e8ce",
        "part": "whole"
       },
       "id": "7f5cd404-891c-4ad5-9996-b9d73b0a8fa4"
      }
     }
    },
    "9936f1f9-9b71-48f2-9a0f-be6ad0df5d6d": {
     "id": "9936f1f9-9b71-48f2-9a0f-be6ad0df5d6d",
     "prev": "f8644d87-96a3-4b8d-bfba-64ec5f35ff95",
     "regions": {
      "1d42444d-2ad6-4c6d-9d02-01dcac73aec8": {
       "attrs": {
        "height": 0.8,
        "width": 0.8,
        "x": 0.1,
        "y": 0.1
       },
       "content": {
        "cell": "209caf8e-3d4f-4c00-971c-1a46e416ce72",
        "part": "whole"
       },
       "id": "1d42444d-2ad6-4c6d-9d02-01dcac73aec8"
      },
      "d0abcf2a-07d0-4a83-91e6-b2c97511a900": {
       "attrs": {
        "height": 0.4,
        "width": 0.8,
        "x": 0.1,
        "y": 0.5
       },
       "content": {
        "cell": "ed8c24ff-b9dd-4c84-a094-092945a9fc9f",
        "part": "whole"
       },
       "id": "d0abcf2a-07d0-4a83-91e6-b2c97511a900"
      }
     }
    },
    "9a7a389b-24ae-4997-87b4-a1bd678c84a4": {
     "id": "9a7a389b-24ae-4997-87b4-a1bd678c84a4",
     "prev": "f0ea318f-c113-4e80-9bcc-80f9fdacd504",
     "regions": {
      "c2e6c9a0-5d07-4355-8086-9520b34f0ba9": {
       "attrs": {
        "height": 0.8,
        "width": 0.8,
        "x": 0.1,
        "y": 0.1
       },
       "content": {
        "cell": "29849887-d82a-44fb-ad51-37f9aa11cd1d",
        "part": "whole"
       },
       "id": "c2e6c9a0-5d07-4355-8086-9520b34f0ba9"
      }
     }
    },
    "9ef21567-900e-433c-934a-ea62045c230d": {
     "id": "9ef21567-900e-433c-934a-ea62045c230d",
     "prev": "efd113a9-0314-4c86-ad44-fb322cdf3cae",
     "regions": {
      "32200910-5286-4d65-b909-fe17eb5a73f4": {
       "attrs": {
        "height": 0.8,
        "width": 0.8,
        "x": 0.1,
        "y": 0.1
       },
       "content": {
        "cell": "a1bb5f66-937c-43a3-abe1-7e957a3d99ee",
        "part": "whole"
       },
       "id": "32200910-5286-4d65-b909-fe17eb5a73f4"
      }
     }
    },
    "a0dde674-4ddb-4cdd-a20b-b02cf3ffd9e5": {
     "id": "a0dde674-4ddb-4cdd-a20b-b02cf3ffd9e5",
     "prev": "98c74023-3fea-45e4-82df-efbb9bf30c07",
     "regions": {
      "6a869d1a-5ccf-4b16-bb79-6bc6d4b0c51e": {
       "attrs": {
        "height": 0.4,
        "width": 0.8,
        "x": 0.1,
        "y": 0.5
       },
       "content": {
        "cell": "881ce917-44d8-48d6-9bb1-7fc3df5ff523",
        "part": "whole"
       },
       "id": "6a869d1a-5ccf-4b16-bb79-6bc6d4b0c51e"
      },
      "6dab7940-54ac-4f96-8418-9955d51f6366": {
       "attrs": {
        "height": 0.4,
        "width": 0.8,
        "x": 0.1,
        "y": 0.5
       },
       "content": {
        "cell": "6068530a-14e6-47b6-97be-98c8ab9c1813",
        "part": "whole"
       },
       "id": "6dab7940-54ac-4f96-8418-9955d51f6366"
      },
      "9262ff23-779f-4ec9-909c-a8f6868e3e58": {
       "attrs": {
        "height": 0.8,
        "width": 0.8,
        "x": 0.1,
        "y": 0.1
       },
       "content": {
        "cell": "5a12823d-412f-496b-bc68-7b6bc4ec3963",
        "part": "whole"
       },
       "id": "9262ff23-779f-4ec9-909c-a8f6868e3e58"
      },
      "ae8f76b5-c896-4705-8828-c61824692737": {
       "attrs": {
        "height": 0.4,
        "width": 0.8,
        "x": 0.1,
        "y": 0.5
       },
       "content": {
        "cell": "99823be0-5e82-4c03-a361-4117e54fed12",
        "part": "whole"
       },
       "id": "ae8f76b5-c896-4705-8828-c61824692737"
      }
     }
    },
    "a55e2c8c-094d-4c5d-9c84-5c924aa7c394": {
     "id": "a55e2c8c-094d-4c5d-9c84-5c924aa7c394",
     "prev": "1cc58670-9996-4ef3-8e5a-ed9a8e887979",
     "regions": {
      "793299b4-361d-4426-a1f0-ec8ab98756f4": {
       "attrs": {
        "height": 0.4,
        "width": 0.8,
        "x": 0.1,
        "y": 0.5
       },
       "content": {
        "cell": "f5d835f4-5a1d-4fb9-8690-d0eb9ac50cd7",
        "part": "whole"
       },
       "id": "793299b4-361d-4426-a1f0-ec8ab98756f4"
      },
      "a3e862f7-a078-40b6-b554-e25adf9af4ec": {
       "attrs": {
        "height": 0.4,
        "width": 0.8,
        "x": 0.1,
        "y": 0.5
       },
       "content": {
        "cell": "516a5178-30fc-42bc-953a-d8868c6e5189",
        "part": "whole"
       },
       "id": "a3e862f7-a078-40b6-b554-e25adf9af4ec"
      },
      "caa8aa97-df54-4431-8c2a-428b166ef65d": {
       "attrs": {
        "height": 0.8,
        "width": 0.8,
        "x": 0.1,
        "y": 0.1
       },
       "content": {
        "cell": "02d0f47f-d689-41f1-a3bb-9e76a6144be9",
        "part": "whole"
       },
       "id": "caa8aa97-df54-4431-8c2a-428b166ef65d"
      }
     }
    },
    "a7f28d6a-4bd0-4395-ab25-dec44a20d117": {
     "id": "a7f28d6a-4bd0-4395-ab25-dec44a20d117",
     "prev": "0c45ad51-4984-46a5-856e-87ee5c8e9913",
     "regions": {
      "3e33572a-bbd4-4e07-aaa8-6f906e4ddef3": {
       "attrs": {
        "height": 0.8,
        "width": 0.8,
        "x": 0.1,
        "y": 0.1
       },
       "content": {
        "cell": "baa5784e-bc3a-44f0-9392-231a19a7aa4f",
        "part": "whole"
       },
       "id": "3e33572a-bbd4-4e07-aaa8-6f906e4ddef3"
      }
     }
    },
    "a8cbab7b-1494-4c45-b72d-3188efa5a737": {
     "id": "a8cbab7b-1494-4c45-b72d-3188efa5a737",
     "prev": "070c9f9b-a21d-4c78-88e2-154e3faa2c07",
     "regions": {
      "566d5334-41f1-4aba-9590-3096b587a090": {
       "attrs": {
        "height": 0.8,
        "width": 0.8,
        "x": 0.1,
        "y": 0.1
       },
       "content": {
        "cell": "d597b2cd-6c70-4137-8ad8-2d9a96299531",
        "part": "whole"
       },
       "id": "566d5334-41f1-4aba-9590-3096b587a090"
      }
     }
    },
    "a9f12b72-ee3c-4bdc-995c-cd54f6661066": {
     "id": "a9f12b72-ee3c-4bdc-995c-cd54f6661066",
     "prev": "c402c1f5-0c43-4110-b53d-1f14f7085a07",
     "regions": {
      "1cc5a5af-f84f-47fc-ac12-70e256e7960e": {
       "attrs": {
        "height": 0.4,
        "width": 0.8,
        "x": 0.1,
        "y": 0.5
       },
       "content": {
        "cell": "2f0582c6-0d23-4306-bd51-4c080c177992",
        "part": "whole"
       },
       "id": "1cc5a5af-f84f-47fc-ac12-70e256e7960e"
      },
      "bfb12092-e288-4cc0-8fa7-ffe6b4458c9e": {
       "attrs": {
        "height": 0.8,
        "width": 0.8,
        "x": 0.1,
        "y": 0.1
       },
       "content": {
        "cell": "7f6972f7-0655-4549-bd67-f34a47f956f3",
        "part": "whole"
       },
       "id": "bfb12092-e288-4cc0-8fa7-ffe6b4458c9e"
      }
     }
    },
    "aac693de-2452-44bb-aca5-c8ff9fa01f58": {
     "id": "aac693de-2452-44bb-aca5-c8ff9fa01f58",
     "prev": "a7f28d6a-4bd0-4395-ab25-dec44a20d117",
     "regions": {
      "b9cbf30a-9fce-4a2e-ae64-bf98717e0f23": {
       "attrs": {
        "height": 0.8,
        "width": 0.8,
        "x": 0.1,
        "y": 0.1
       },
       "content": {
        "cell": "35a97d88-06fd-4214-b66d-718b86c22097",
        "part": "whole"
       },
       "id": "b9cbf30a-9fce-4a2e-ae64-bf98717e0f23"
      }
     }
    },
    "ac5c6789-f81c-478e-be10-2200388e7504": {
     "id": "ac5c6789-f81c-478e-be10-2200388e7504",
     "prev": "ea0b26d7-3986-4a11-9a63-29917c27c614",
     "regions": {
      "426bc8fb-0f17-406c-8ad9-92a05ddb5c2f": {
       "attrs": {
        "height": 0.8,
        "width": 0.8,
        "x": 0.1,
        "y": 0.1
       },
       "content": {
        "cell": "23245f34-ec66-4c08-9037-9f74f45ea1e4",
        "part": "whole"
       },
       "id": "426bc8fb-0f17-406c-8ad9-92a05ddb5c2f"
      }
     }
    },
    "b31faca9-e6d3-4e83-b6dd-17589a946d28": {
     "id": "b31faca9-e6d3-4e83-b6dd-17589a946d28",
     "prev": "6053802b-d657-4859-9223-e680e00a9b8d",
     "regions": {
      "0fbcb736-176a-4cfa-aab7-1c0be1ef59ae": {
       "attrs": {
        "height": 0.8,
        "width": 0.8,
        "x": 0.1,
        "y": 0.1
       },
       "content": {
        "cell": "d5b68c44-b762-491a-998a-75a98ef5f653",
        "part": "whole"
       },
       "id": "0fbcb736-176a-4cfa-aab7-1c0be1ef59ae"
      },
      "f86db95e-14a0-469c-afa9-076b859595ad": {
       "attrs": {
        "height": 0.4,
        "width": 0.8,
        "x": 0.1,
        "y": 0.5
       },
       "content": {
        "cell": "c417998a-8f33-4b7f-8a76-f591262fdca5",
        "part": "whole"
       },
       "id": "f86db95e-14a0-469c-afa9-076b859595ad"
      }
     }
    },
    "b320e403-c69e-454e-b6e7-72db7d370583": {
     "id": "b320e403-c69e-454e-b6e7-72db7d370583",
     "prev": "62cd72b4-9259-44ee-a1bd-1b9df790624f",
     "regions": {
      "7017dde0-0d5c-4861-b270-c7f774fb00bb": {
       "attrs": {
        "height": 0.8,
        "width": 0.8,
        "x": 0.1,
        "y": 0.1
       },
       "content": {
        "cell": "608f59d8-90c7-4564-ba0a-761571204f96",
        "part": "whole"
       },
       "id": "7017dde0-0d5c-4861-b270-c7f774fb00bb"
      },
      "c4ca6254-0e03-4b6b-adae-51bbb4a15052": {
       "attrs": {
        "height": 0.4,
        "width": 0.8,
        "x": 0.1,
        "y": 0.5
       },
       "content": {
        "cell": "c55868cf-4170-4a35-8079-842c07c89c4d",
        "part": "whole"
       },
       "id": "c4ca6254-0e03-4b6b-adae-51bbb4a15052"
      },
      "ed90ae17-bade-4698-bcfc-e1aa3e770f3e": {
       "attrs": {
        "height": 0.4,
        "width": 0.8,
        "x": 0.1,
        "y": 0.5
       },
       "content": {
        "cell": "df258788-b3e7-4b67-ab71-1df841724458",
        "part": "whole"
       },
       "id": "ed90ae17-bade-4698-bcfc-e1aa3e770f3e"
      }
     }
    },
    "b623c826-f1ef-43ee-889e-b849c9fc87ce": {
     "id": "b623c826-f1ef-43ee-889e-b849c9fc87ce",
     "prev": "b31faca9-e6d3-4e83-b6dd-17589a946d28",
     "regions": {
      "7043f42d-7356-42fd-96d2-a5f1cbe01e9b": {
       "attrs": {
        "height": 0.4,
        "width": 0.8,
        "x": 0.1,
        "y": 0.5
       },
       "content": {
        "cell": "5dcbe1f2-cc95-40d5-86b5-832f83904c78",
        "part": "whole"
       },
       "id": "7043f42d-7356-42fd-96d2-a5f1cbe01e9b"
      },
      "a0b3a44a-666a-4807-a023-7a2e2a8920dd": {
       "attrs": {
        "height": 0.8,
        "width": 0.8,
        "x": 0.1,
        "y": 0.1
       },
       "content": {
        "cell": "400ef716-2eb7-4971-a567-f4d752405df1",
        "part": "whole"
       },
       "id": "a0b3a44a-666a-4807-a023-7a2e2a8920dd"
      }
     }
    },
    "b93f029e-08fc-435c-a8c1-7b63c6d0b20d": {
     "id": "b93f029e-08fc-435c-a8c1-7b63c6d0b20d",
     "prev": "6366b936-5b36-4251-b6ef-ec6c9badd2a2",
     "regions": {
      "320f08df-9826-4bc0-88ed-afe639dd9d98": {
       "attrs": {
        "height": 0.8,
        "width": 0.8,
        "x": 0.1,
        "y": 0.1
       },
       "content": {
        "cell": "dcb72829-537a-4e38-a876-47a7c7c3b44f",
        "part": "whole"
       },
       "id": "320f08df-9826-4bc0-88ed-afe639dd9d98"
      }
     }
    },
    "bd8700af-e789-44d4-a2b9-75431c1b5de7": {
     "id": "bd8700af-e789-44d4-a2b9-75431c1b5de7",
     "prev": "52b8b057-93f8-4958-9834-05f15f948afb",
     "regions": {
      "2d1918a7-6f1b-46ea-a99d-f3f8b6b253f2": {
       "attrs": {
        "height": 0.8,
        "width": 0.8,
        "x": 0.1,
        "y": 0.1
       },
       "content": {
        "cell": "bc8d8fa2-1bda-4fd8-97f7-368ae8c8ee5d",
        "part": "whole"
       },
       "id": "2d1918a7-6f1b-46ea-a99d-f3f8b6b253f2"
      }
     }
    },
    "be57be5d-cdf5-4ae6-9fa9-c039ae7a7837": {
     "id": "be57be5d-cdf5-4ae6-9fa9-c039ae7a7837",
     "prev": "2cbb52d0-296f-427f-99ad-714b2e80255f",
     "regions": {
      "e3c9df79-f532-4ad8-ab7c-e60c96297ef9": {
       "attrs": {
        "height": 0.8,
        "width": 0.8,
        "x": 0.1,
        "y": 0.1
       },
       "content": {
        "cell": "ccd40e56-a3da-487a-b76b-c75796799720",
        "part": "whole"
       },
       "id": "e3c9df79-f532-4ad8-ab7c-e60c96297ef9"
      }
     }
    },
    "c027cf57-7a30-42ba-9831-86003f404035": {
     "id": "c027cf57-7a30-42ba-9831-86003f404035",
     "prev": "eb2402e5-aa68-4250-ac55-62960e991439",
     "regions": {
      "9349447d-ac41-4419-9b0b-e6097eaa3af2": {
       "attrs": {
        "height": 0.8,
        "width": 0.8,
        "x": 0.1,
        "y": 0.1
       },
       "content": {
        "cell": "081bd12b-a668-470a-a992-e3e788fd65f1",
        "part": "whole"
       },
       "id": "9349447d-ac41-4419-9b0b-e6097eaa3af2"
      }
     }
    },
    "c13b30fb-5edb-4f37-baf6-c5dfc11b0599": {
     "id": "c13b30fb-5edb-4f37-baf6-c5dfc11b0599",
     "prev": "136d970f-b4d9-445a-9e91-565107f52aa6",
     "regions": {
      "e90a8fd8-8996-4b1d-a1c5-ff72605a9595": {
       "attrs": {
        "height": 0.8,
        "width": 0.8,
        "x": 0.1,
        "y": 0.1
       },
       "content": {
        "cell": "8b813ecc-9628-442d-8baf-8d83e2d4cac3",
        "part": "whole"
       },
       "id": "e90a8fd8-8996-4b1d-a1c5-ff72605a9595"
      }
     }
    },
    "c3d2eed8-b23b-4fff-b929-ba5a98657cad": {
     "id": "c3d2eed8-b23b-4fff-b929-ba5a98657cad",
     "prev": "34910890-e332-494f-a001-db7aa378ba4a",
     "regions": {
      "6cd54410-ee2b-4a25-b07a-73669e3ee6cb": {
       "attrs": {
        "height": 0.4,
        "width": 0.8,
        "x": 0.1,
        "y": 0.5
       },
       "content": {
        "cell": "1b3635f4-3f13-4c31-94b6-d7619c8cec31",
        "part": "whole"
       },
       "id": "6cd54410-ee2b-4a25-b07a-73669e3ee6cb"
      },
      "cd27065f-2cf3-49b6-b204-5d118f132c07": {
       "attrs": {
        "height": 0.8,
        "width": 0.8,
        "x": 0.1,
        "y": 0.1
       },
       "content": {
        "cell": "61b45744-b9fe-4f8d-9fb0-3e5e6a5d2fd0",
        "part": "whole"
       },
       "id": "cd27065f-2cf3-49b6-b204-5d118f132c07"
      }
     }
    },
    "c402c1f5-0c43-4110-b53d-1f14f7085a07": {
     "id": "c402c1f5-0c43-4110-b53d-1f14f7085a07",
     "prev": "b320e403-c69e-454e-b6e7-72db7d370583",
     "regions": {
      "3940c42d-964f-479c-8523-02983fdf9c89": {
       "attrs": {
        "height": 0.8,
        "width": 0.8,
        "x": 0.1,
        "y": 0.1
       },
       "content": {
        "cell": "db970f2a-04fe-41b7-81a5-26c117760c29",
        "part": "whole"
       },
       "id": "3940c42d-964f-479c-8523-02983fdf9c89"
      },
      "5c854201-b222-4887-8a64-c86689861d6a": {
       "attrs": {
        "height": 0.4,
        "width": 0.8,
        "x": 0.1,
        "y": 0.5
       },
       "content": {
        "cell": "8c2a43e4-93f9-4628-93f4-80748a4de5a2",
        "part": "whole"
       },
       "id": "5c854201-b222-4887-8a64-c86689861d6a"
      }
     }
    },
    "c65a84d0-38c4-40b0-88b5-b53af6cbd9fb": {
     "id": "c65a84d0-38c4-40b0-88b5-b53af6cbd9fb",
     "prev": "1a58efb1-7ce3-4ced-823f-4dd9697607c2",
     "regions": {
      "928a784f-2cfc-4e7f-a553-9f51926fd944": {
       "attrs": {
        "height": 0.8,
        "width": 0.8,
        "x": 0.1,
        "y": 0.1
       },
       "content": {
        "cell": "a351861e-3cb2-4127-8672-1cc00e1bc6e5",
        "part": "whole"
       },
       "id": "928a784f-2cfc-4e7f-a553-9f51926fd944"
      }
     }
    },
    "c76aebc7-7976-45db-a323-38412b328a57": {
     "id": "c76aebc7-7976-45db-a323-38412b328a57",
     "prev": "b93f029e-08fc-435c-a8c1-7b63c6d0b20d",
     "regions": {
      "1db25e7f-e4a2-4ef9-981c-a1b01e5ebbf9": {
       "attrs": {
        "height": 0.4,
        "width": 0.8,
        "x": 0.1,
        "y": 0.5
       },
       "content": {
        "cell": "b1795315-0947-40ec-8904-6ff545cdd25b",
        "part": "whole"
       },
       "id": "1db25e7f-e4a2-4ef9-981c-a1b01e5ebbf9"
      },
      "45ceba4f-563a-49b6-9d29-19cf83132cd0": {
       "attrs": {
        "height": 0.8,
        "width": 0.8,
        "x": 0.1,
        "y": 0.1
       },
       "content": {
        "cell": "14756c13-08ef-4de1-8de5-8f2004f4f9f7",
        "part": "whole"
       },
       "id": "45ceba4f-563a-49b6-9d29-19cf83132cd0"
      }
     }
    },
    "d1578704-7815-4900-bcc1-5e54f2896b84": {
     "id": "d1578704-7815-4900-bcc1-5e54f2896b84",
     "prev": "0e249c9a-4300-49ea-8584-acdef51ba265",
     "regions": {
      "2723eac9-9ab1-4809-9f3a-b01747f5642b": {
       "attrs": {
        "height": 0.8,
        "width": 0.8,
        "x": 0.1,
        "y": 0.1
       },
       "content": {
        "cell": "5b6dc236-222e-43e7-875f-68d072ebcd91",
        "part": "whole"
       },
       "id": "2723eac9-9ab1-4809-9f3a-b01747f5642b"
      }
     }
    },
    "da4d55b3-839f-4375-827f-df2efa947646": {
     "id": "da4d55b3-839f-4375-827f-df2efa947646",
     "prev": "938cebbe-3328-42c9-ace3-7fd8eb72b0ca",
     "regions": {
      "683e0eb2-9094-4582-b735-6599ce85a2cb": {
       "attrs": {
        "height": 0.8,
        "width": 0.8,
        "x": 0.1,
        "y": 0.1
       },
       "content": {
        "cell": "583c1d13-89c7-40b7-bcfb-5daabbfd7573",
        "part": "whole"
       },
       "id": "683e0eb2-9094-4582-b735-6599ce85a2cb"
      }
     }
    },
    "df9e51fa-bb40-4bd1-a4cd-6ddf54b500ee": {
     "id": "df9e51fa-bb40-4bd1-a4cd-6ddf54b500ee",
     "prev": "7036d34e-d0f7-4c8e-b453-5385227109b0",
     "regions": {
      "c9fe5483-5af2-4a66-bf0a-2d192a25cf35": {
       "attrs": {
        "height": 0.4,
        "width": 0.8,
        "x": 0.1,
        "y": 0.5
       },
       "content": {
        "cell": "3bd5d11d-ab3e-49e9-a038-1e6f09ca3f52",
        "part": "whole"
       },
       "id": "c9fe5483-5af2-4a66-bf0a-2d192a25cf35"
      },
      "f59f2167-f20a-4448-baf9-a44afb38033f": {
       "attrs": {
        "height": 0.8,
        "width": 0.8,
        "x": 0.1,
        "y": 0.1
       },
       "content": {
        "cell": "1d814872-a4f6-444f-9967-d7d159fc198a",
        "part": "whole"
       },
       "id": "f59f2167-f20a-4448-baf9-a44afb38033f"
      }
     }
    },
    "e7314a51-13ba-48ab-93a3-67f61bb897ae": {
     "id": "e7314a51-13ba-48ab-93a3-67f61bb897ae",
     "prev": "969a2bd0-0362-4ff9-b1b6-2c1cc4757a5e",
     "regions": {
      "63076912-1361-4d7c-bfe6-eee29f6c5674": {
       "attrs": {
        "height": 0.8,
        "width": 0.8,
        "x": 0.1,
        "y": 0.1
       },
       "content": {
        "cell": "4d8dd3a5-113e-4d02-b909-09f752dbd8ae",
        "part": "whole"
       },
       "id": "63076912-1361-4d7c-bfe6-eee29f6c5674"
      }
     }
    },
    "e75b19c4-1770-4292-bf2a-72fa26e0d9f6": {
     "id": "e75b19c4-1770-4292-bf2a-72fa26e0d9f6",
     "prev": "111bc524-7ede-4866-bcaa-14d9e9e026ee",
     "regions": {
      "ece1829b-a8c2-43b1-b23f-177461992313": {
       "attrs": {
        "height": 0.8,
        "width": 0.8,
        "x": 0.1,
        "y": 0.1
       },
       "content": {
        "cell": "f58059e9-9992-48a1-a9f5-3bd1d86ee56c",
        "part": "whole"
       },
       "id": "ece1829b-a8c2-43b1-b23f-177461992313"
      }
     }
    },
    "e9e38cb2-1166-45b7-bfcb-bb63cbea28bb": {
     "id": "e9e38cb2-1166-45b7-bfcb-bb63cbea28bb",
     "prev": "21dbec46-aa2b-4eea-aef2-4024cc967c12",
     "regions": {
      "12965d93-747e-49e6-8683-ac22749a010a": {
       "attrs": {
        "height": 0.8,
        "width": 0.8,
        "x": 0.1,
        "y": 0.1
       },
       "content": {
        "cell": "f77eff27-3a66-4873-8b2d-e9f6764e7319",
        "part": "whole"
       },
       "id": "12965d93-747e-49e6-8683-ac22749a010a"
      }
     }
    },
    "ea0b26d7-3986-4a11-9a63-29917c27c614": {
     "id": "ea0b26d7-3986-4a11-9a63-29917c27c614",
     "prev": "5c391c71-5a53-49a8-b5e7-8c508c0d0e4b",
     "regions": {
      "8e38b0b9-266c-4953-8208-55da4eacbe68": {
       "attrs": {
        "height": 0.8,
        "width": 0.8,
        "x": 0.1,
        "y": 0.1
       },
       "content": {
        "cell": "286a3756-8ae9-402d-8354-59ccbef4172a",
        "part": "whole"
       },
       "id": "8e38b0b9-266c-4953-8208-55da4eacbe68"
      }
     }
    },
    "eb2402e5-aa68-4250-ac55-62960e991439": {
     "id": "eb2402e5-aa68-4250-ac55-62960e991439",
     "prev": "c13b30fb-5edb-4f37-baf6-c5dfc11b0599",
     "regions": {
      "2283596b-ede9-4bed-9835-36cb1cf083b2": {
       "attrs": {
        "height": 0.8,
        "width": 0.8,
        "x": 0.1,
        "y": 0.1
       },
       "content": {
        "cell": "5315b783-7c38-40d5-afbd-e44902aa1d40",
        "part": "whole"
       },
       "id": "2283596b-ede9-4bed-9835-36cb1cf083b2"
      }
     }
    },
    "efd113a9-0314-4c86-ad44-fb322cdf3cae": {
     "id": "efd113a9-0314-4c86-ad44-fb322cdf3cae",
     "prev": "df9e51fa-bb40-4bd1-a4cd-6ddf54b500ee",
     "regions": {
      "31cb2a75-1016-41b5-b671-9c3024c2d8eb": {
       "attrs": {
        "height": 0.8,
        "width": 0.8,
        "x": 0.1,
        "y": 0.1
       },
       "content": {
        "cell": "24f767e9-7f2e-4d96-a6b2-74fd17f93a1e",
        "part": "whole"
       },
       "id": "31cb2a75-1016-41b5-b671-9c3024c2d8eb"
      }
     }
    },
    "f0ea318f-c113-4e80-9bcc-80f9fdacd504": {
     "id": "f0ea318f-c113-4e80-9bcc-80f9fdacd504",
     "prev": "e75b19c4-1770-4292-bf2a-72fa26e0d9f6",
     "regions": {
      "1986640a-eccf-4dc9-babf-38024e459c9c": {
       "attrs": {
        "height": 0.8,
        "width": 0.8,
        "x": 0.1,
        "y": 0.1
       },
       "content": {
        "cell": "bbfe2158-7de8-453d-bd1b-24c00480279c",
        "part": "whole"
       },
       "id": "1986640a-eccf-4dc9-babf-38024e459c9c"
      }
     }
    },
    "f66ca40e-1205-4d69-9a5f-17d9ae0638e0": {
     "id": "f66ca40e-1205-4d69-9a5f-17d9ae0638e0",
     "prev": "0c636a22-cdc3-42cc-942f-cc6bcfc6028f",
     "regions": {
      "8dd9ffd6-2881-4d15-9181-b7072de8b940": {
       "attrs": {
        "height": 0.8,
        "width": 0.8,
        "x": 0.1,
        "y": 0.1
       },
       "content": {
        "cell": "6b194ea5-c41d-4b7b-a134-3693316a8ed1",
        "part": "whole"
       },
       "id": "8dd9ffd6-2881-4d15-9181-b7072de8b940"
      }
     }
    },
    "f7431e5b-a7b6-4b9d-b963-d88894a8c28b": {
     "id": "f7431e5b-a7b6-4b9d-b963-d88894a8c28b",
     "prev": "8610569b-022a-4a36-b75d-f2cb19f7751b",
     "regions": {
      "12fcbd75-2e98-443c-93e5-04642136db9c": {
       "attrs": {
        "height": 0.4,
        "width": 0.8,
        "x": 0.1,
        "y": 0.5
       },
       "content": {
        "cell": "f4d425de-ef37-454b-a12a-aaf2e7829177",
        "part": "whole"
       },
       "id": "12fcbd75-2e98-443c-93e5-04642136db9c"
      },
      "17c0c465-05ad-447a-badd-cf23544770d2": {
       "attrs": {
        "height": 0.8,
        "width": 0.8,
        "x": 0.1,
        "y": 0.1
       },
       "content": {
        "cell": "c5e2c853-13bf-45a9-90c3-b0bff152194f",
        "part": "whole"
       },
       "id": "17c0c465-05ad-447a-badd-cf23544770d2"
      }
     }
    },
    "f8644d87-96a3-4b8d-bfba-64ec5f35ff95": {
     "id": "f8644d87-96a3-4b8d-bfba-64ec5f35ff95",
     "prev": "71dbc51a-ec10-4eb8-af23-a77a48549d44",
     "regions": {
      "89572019-5aa6-4143-91dc-7e760b16d964": {
       "attrs": {
        "height": 0.4,
        "width": 0.8,
        "x": 0.1,
        "y": 0.5
       },
       "content": {
        "cell": "42b2e7ba-9fef-4534-b938-5d4286c17222",
        "part": "whole"
       },
       "id": "89572019-5aa6-4143-91dc-7e760b16d964"
      },
      "a24f8b3a-896a-411b-872e-9615c2ff02d3": {
       "attrs": {
        "height": 0.8,
        "width": 0.8,
        "x": 0.1,
        "y": 0.1
       },
       "content": {
        "cell": "2916f338-9da0-447a-a300-396b42ac55d2",
        "part": "whole"
       },
       "id": "a24f8b3a-896a-411b-872e-9615c2ff02d3"
      },
      "fd7900ec-c058-4810-9854-163d76d31828": {
       "attrs": {
        "height": 0.4,
        "width": 0.8,
        "x": 0.1,
        "y": 0.5
       },
       "content": {
        "cell": "ab54a5c2-3ef0-42a8-841b-071b464ffe0d",
        "part": "whole"
       },
       "id": "fd7900ec-c058-4810-9854-163d76d31828"
      }
     }
    },
    "fb24bf97-17c9-4943-958a-fc45cd6f2308": {
     "id": "fb24bf97-17c9-4943-958a-fc45cd6f2308",
     "prev": "56e2dddd-fbe5-4a66-872b-aaad161179fe",
     "regions": {
      "519bd6e7-0254-43a6-bf8e-5398a3749687": {
       "attrs": {
        "height": 0.4,
        "width": 0.8,
        "x": 0.1,
        "y": 0.5
       },
       "content": {
        "cell": "85b5dbdb-d611-4f8a-a6bd-4c38c95d03b5",
        "part": "whole"
       },
       "id": "519bd6e7-0254-43a6-bf8e-5398a3749687"
      },
      "cc6bcba4-9852-4a88-b179-9fc47b7be345": {
       "attrs": {
        "height": 0.8,
        "width": 0.8,
        "x": 0.1,
        "y": 0.1
       },
       "content": {
        "cell": "8cce32f9-2bab-4088-bcc2-d79870d1abad",
        "part": "whole"
       },
       "id": "cc6bcba4-9852-4a88-b179-9fc47b7be345"
      }
     }
    }
   },
   "themes": {}
  }
 },
 "nbformat": 4,
 "nbformat_minor": 1
}
